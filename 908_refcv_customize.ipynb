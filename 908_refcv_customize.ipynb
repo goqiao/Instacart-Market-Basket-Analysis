{
 "cells": [
  {
   "cell_type": "code",
   "execution_count": 1,
   "metadata": {},
   "outputs": [],
   "source": [
    "import pandas as pd\n",
    "import numpy as np\n",
    "import xgboost\n",
    "import time\n",
    "from sklearn.model_selection import GroupKFold\n",
    "import matplotlib.pyplot as plt\n",
    "from tqdm import tqdm, trange\n",
    "import gc\n",
    "import pickle"
   ]
  },
  {
   "cell_type": "markdown",
   "metadata": {},
   "source": [
    "- Summary: \n",
    "Select features by recursively remove least important features, and evaluate the performance of features by cross validation. \n",
    "- Conclusion:\n",
    "Tested on Leaderboard. Features selected by this method give a moderately high score, but not the best score"
   ]
  },
  {
   "cell_type": "code",
   "execution_count": 2,
   "metadata": {},
   "outputs": [],
   "source": [
    "start_time = time.time()\n",
    "data_folder = 'data'\n",
    "sample_frac = 0.1"
   ]
  },
  {
   "cell_type": "code",
   "execution_count": 3,
   "metadata": {},
   "outputs": [
    {
     "data": {
      "text/plain": [
       "21"
      ]
     },
     "execution_count": 3,
     "metadata": {},
     "output_type": "execute_result"
    }
   ],
   "source": [
    "correlated_cols = pd.read_pickle('data/high_corr_features.pickle')\n",
    "len(correlated_cols)"
   ]
  },
  {
   "cell_type": "code",
   "execution_count": 4,
   "metadata": {},
   "outputs": [
    {
     "name": "stdout",
     "output_type": "stream",
     "text": [
      "(847466, 192)\n"
     ]
    }
   ],
   "source": [
    "data_full_features = pd.read_pickle('data/train_full_features.pickle')\n",
    "data_full_features.drop(correlated_cols, axis=1, inplace=True)\n",
    "data_full_features = data_full_features.sample(frac=sample_frac, random_state=1).reset_index(drop=True)\n",
    "\n",
    "# split to X, y\n",
    "drop_cols = ['order_id', 'user_id', 'product_id', 'reordered']\n",
    "X = data_full_features.drop(drop_cols, axis=1)\n",
    "y = data_full_features['reordered']\n",
    "\n",
    "print(X.shape)\n",
    "# split on user level\n",
    "cv_split_base = data_full_features['user_id']\n",
    "\n",
    "# release memory\n",
    "gc.collect(); del data_full_features"
   ]
  },
  {
   "cell_type": "code",
   "execution_count": 5,
   "metadata": {},
   "outputs": [],
   "source": [
    "# model\n",
    "xgb_params = {\n",
    "    'n_estimators': 1000\n",
    "    , \"objective\": \"binary:logistic\"\n",
    "    , \"eval_metric\": ['auc', 'logloss']\n",
    "    , \"eta\": 0.1\n",
    "    , \"max_depth\": 6\n",
    "    , \"min_child_weight\": 10\n",
    "    , \"gamma\": 0.70\n",
    "    , \"subsample\": 0.76\n",
    "    , \"colsample_bytree\": 0.8\n",
    "    , \"alpha\": 2e-05\n",
    "    , \"lambda\": 10\n",
    "    , \"tree_method\": 'hist'\n",
    "    , \"early_stopping_rounds\": 30\n",
    "    , \"random_state\": 19\n",
    "    , \"predictor\": 'cpu_predictor'\n",
    "}\n",
    "bst = xgboost.XGBClassifier(**xgb_params)"
   ]
  },
  {
   "cell_type": "code",
   "execution_count": 6,
   "metadata": {},
   "outputs": [],
   "source": [
    "def refcv(X, y, min_features, step, cv_split_base, val_frac=0.2):\n",
    "    cv_res = {'cv_train_logloss': [], 'cv_train_auc': [], 'cv_val_logloss': [], 'cv_val_auc': []}\n",
    "    cv_train_logloss, cv_train_auc, cv_val_logloss, cv_val_auc, num_features_changes, cols_dropped = [], [], [], [], [], []\n",
    "    num_iter = int(np.ceil((X.shape[1] - min_features)/step))\n",
    "    # for i in tqdm(range(num_iter)):\n",
    "    for i in trange(num_iter):\n",
    "        train_logloss, val_logloss, train_auc, val_auc = [], [], [], []\n",
    "        num_features_changes.append(X.shape[1])\n",
    "        for train_idx, test_idx in GroupKFold(n_splits=3).split(X, y, groups=cv_split_base):\n",
    "            # performance in each fold with i features\n",
    "            X_train, X_val = X.loc[train_idx], X.loc[test_idx]\n",
    "            y_train, y_val = y.loc[train_idx], y.loc[test_idx]\n",
    "\n",
    "            bst.fit(X_train, y_train, eval_set=[(X_train, y_train), (X_val, y_val)], verbose=False)\n",
    "            res = bst.evals_result()\n",
    "            train_logloss.append(res[\"validation_0\"][\"logloss\"][-1])\n",
    "            val_logloss.append(res[\"validation_1\"][\"logloss\"][-1])\n",
    "            train_auc.append(res[\"validation_0\"][\"auc\"][-1])\n",
    "            val_auc.append(res[\"validation_1\"][\"auc\"][-1])\n",
    "        \n",
    "        # save mean of cv results\n",
    "        cv_res['cv_train_logloss'].append(np.mean(train_logloss))\n",
    "        cv_res['cv_train_auc'].append(np.mean(train_auc))\n",
    "        cv_res['cv_val_logloss'].append(np.mean(val_logloss))\n",
    "        cv_res['cv_val_auc'].append(np.mean(val_auc))\n",
    "\n",
    "        # refit full data to get feature importance\n",
    "        train_size = int(np.round(X.shape[0] * (1-val_frac)))\n",
    "        val_size = X.shape[0] - train_size\n",
    "        bst.fit(X.iloc[:train_size, ], y.iloc[:train_size, ], \n",
    "                eval_set=[(X.iloc[:train_size, ], y.iloc[:train_size, ]), \n",
    "                          (X.iloc[-val_size:, ], y.iloc[-val_size:, ])], verbose=False)\n",
    "        if X.shape[1] - step < min_features:\n",
    "            final_step = X.shape[1] - min_features\n",
    "            min_idx = np.argsort(bst.feature_importances_)[:final_step]\n",
    "        else:\n",
    "            min_idx = np.argsort(bst.feature_importances_)[:step]\n",
    "        to_drop_cols = list(X.columns[min_idx])\n",
    "        cols_dropped.append(to_drop_cols)\n",
    "        print('Drop feature(s)', to_drop_cols)\n",
    "        X = X.drop(to_drop_cols, axis=1)\n",
    "        print('{} features left'.format(X.shape[1]))\n",
    "    return cv_res, num_features_changes, cols_dropped"
   ]
  },
  {
   "cell_type": "code",
   "execution_count": 7,
   "metadata": {},
   "outputs": [
    {
     "name": "stderr",
     "output_type": "stream",
     "text": [
      "  0%|          | 0/62 [00:00<?, ?it/s]"
     ]
    },
    {
     "name": "stdout",
     "output_type": "stream",
     "text": [
      "Drop feature(s) ['p_num_purchases_per_user_min']\n"
     ]
    },
    {
     "name": "stderr",
     "output_type": "stream",
     "text": [
      "  2%|▏         | 1/62 [08:12<8:20:19, 492.12s/it]"
     ]
    },
    {
     "name": "stdout",
     "output_type": "stream",
     "text": [
      "191 features left\n",
      "Drop feature(s) ['up_purchases_pod_midnight']\n"
     ]
    },
    {
     "name": "stderr",
     "output_type": "stream",
     "text": [
      "  3%|▎         | 2/62 [16:37<8:20:06, 500.11s/it]"
     ]
    },
    {
     "name": "stdout",
     "output_type": "stream",
     "text": [
      "190 features left\n",
      "Drop feature(s) ['p_num_purchases_per_user_q20']\n"
     ]
    },
    {
     "name": "stderr",
     "output_type": "stream",
     "text": [
      "  5%|▍         | 3/62 [25:09<8:17:03, 505.49s/it]"
     ]
    },
    {
     "name": "stdout",
     "output_type": "stream",
     "text": [
      "189 features left\n",
      "Drop feature(s) ['p_is_gluten_free']\n"
     ]
    },
    {
     "name": "stderr",
     "output_type": "stream",
     "text": [
      "  6%|▋         | 4/62 [34:04<8:19:59, 517.23s/it]"
     ]
    },
    {
     "name": "stdout",
     "output_type": "stream",
     "text": [
      "188 features left\n",
      "Drop feature(s) ['p_is_asian']\n"
     ]
    },
    {
     "name": "stderr",
     "output_type": "stream",
     "text": [
      "  8%|▊         | 5/62 [42:03<7:58:03, 503.23s/it]"
     ]
    },
    {
     "name": "stdout",
     "output_type": "stream",
     "text": [
      "187 features left\n",
      "Drop feature(s) ['up_organic_substitute_num_purchases_r5']\n"
     ]
    },
    {
     "name": "stderr",
     "output_type": "stream",
     "text": [
      " 10%|▉         | 6/62 [49:46<7:37:02, 489.68s/it]"
     ]
    },
    {
     "name": "stdout",
     "output_type": "stream",
     "text": [
      "186 features left\n",
      "Drop feature(s) ['p_is_organic']\n"
     ]
    },
    {
     "name": "stderr",
     "output_type": "stream",
     "text": [
      " 11%|█▏        | 7/62 [57:58<7:29:27, 490.32s/it]"
     ]
    },
    {
     "name": "stdout",
     "output_type": "stream",
     "text": [
      "185 features left\n",
      "Drop feature(s) ['p_num_products_sim_score_0.9_1.0']\n"
     ]
    },
    {
     "name": "stderr",
     "output_type": "stream",
     "text": [
      " 13%|█▎        | 8/62 [1:04:13<6:48:09, 453.50s/it]"
     ]
    },
    {
     "name": "stdout",
     "output_type": "stream",
     "text": [
      "184 features left\n",
      "Drop feature(s) ['up_norm_purchases_pod_midnight']\n"
     ]
    },
    {
     "name": "stderr",
     "output_type": "stream",
     "text": [
      " 15%|█▍        | 9/62 [1:10:59<6:27:33, 438.74s/it]"
     ]
    },
    {
     "name": "stdout",
     "output_type": "stream",
     "text": [
      "183 features left\n",
      "Drop feature(s) ['p_num_purchases_per_user_median']\n"
     ]
    },
    {
     "name": "stderr",
     "output_type": "stream",
     "text": [
      " 16%|█▌        | 10/62 [1:18:18<6:20:27, 439.00s/it]"
     ]
    },
    {
     "name": "stdout",
     "output_type": "stream",
     "text": [
      "182 features left\n",
      "Drop feature(s) ['up_organic_substitute_num_purchases']\n"
     ]
    },
    {
     "name": "stderr",
     "output_type": "stream",
     "text": [
      " 18%|█▊        | 11/62 [1:25:02<6:03:55, 428.15s/it]"
     ]
    },
    {
     "name": "stdout",
     "output_type": "stream",
     "text": [
      "181 features left\n",
      "Drop feature(s) ['up_purchases_dow_5']\n"
     ]
    },
    {
     "name": "stderr",
     "output_type": "stream",
     "text": [
      " 19%|█▉        | 12/62 [1:31:32<5:47:12, 416.64s/it]"
     ]
    },
    {
     "name": "stdout",
     "output_type": "stream",
     "text": [
      "180 features left\n",
      "Drop feature(s) ['up_purchases_dow_1']\n"
     ]
    },
    {
     "name": "stderr",
     "output_type": "stream",
     "text": [
      " 21%|██        | 13/62 [1:38:10<5:35:32, 410.87s/it]"
     ]
    },
    {
     "name": "stdout",
     "output_type": "stream",
     "text": [
      "179 features left\n",
      "Drop feature(s) ['p_purchase_interval_days_min_woo']\n"
     ]
    },
    {
     "name": "stderr",
     "output_type": "stream",
     "text": [
      " 23%|██▎       | 14/62 [1:45:29<5:35:32, 419.43s/it]"
     ]
    },
    {
     "name": "stdout",
     "output_type": "stream",
     "text": [
      "178 features left\n",
      "Drop feature(s) ['up_word2vec_substitute_num_purchases_r5']\n"
     ]
    },
    {
     "name": "stderr",
     "output_type": "stream",
     "text": [
      " 24%|██▍       | 15/62 [1:52:33<5:29:41, 420.88s/it]"
     ]
    },
    {
     "name": "stdout",
     "output_type": "stream",
     "text": [
      "177 features left\n",
      "Drop feature(s) ['users_purchases_dow_4']\n"
     ]
    },
    {
     "name": "stderr",
     "output_type": "stream",
     "text": [
      " 26%|██▌       | 16/62 [2:01:02<5:43:00, 447.40s/it]"
     ]
    },
    {
     "name": "stdout",
     "output_type": "stream",
     "text": [
      "176 features left\n",
      "Drop feature(s) ['up_purchases_dow_2']\n"
     ]
    },
    {
     "name": "stderr",
     "output_type": "stream",
     "text": [
      " 27%|██▋       | 17/62 [2:10:15<5:59:21, 479.15s/it]"
     ]
    },
    {
     "name": "stdout",
     "output_type": "stream",
     "text": [
      "175 features left\n",
      "Drop feature(s) ['users_asian_food_ratio']\n"
     ]
    },
    {
     "name": "stderr",
     "output_type": "stream",
     "text": [
      " 29%|██▉       | 18/62 [2:18:02<5:48:44, 475.56s/it]"
     ]
    },
    {
     "name": "stdout",
     "output_type": "stream",
     "text": [
      "174 features left\n",
      "Drop feature(s) ['up_purchases_dow_4']\n"
     ]
    },
    {
     "name": "stderr",
     "output_type": "stream",
     "text": [
      " 31%|███       | 19/62 [2:26:15<5:44:31, 480.74s/it]"
     ]
    },
    {
     "name": "stdout",
     "output_type": "stream",
     "text": [
      "173 features left\n",
      "Drop feature(s) ['up_purchases_pod_night']\n"
     ]
    },
    {
     "name": "stderr",
     "output_type": "stream",
     "text": [
      " 32%|███▏      | 20/62 [2:33:46<5:30:06, 471.59s/it]"
     ]
    },
    {
     "name": "stdout",
     "output_type": "stream",
     "text": [
      "172 features left\n",
      "Drop feature(s) ['up_norm_purchases_dow_1']\n"
     ]
    },
    {
     "name": "stderr",
     "output_type": "stream",
     "text": [
      " 34%|███▍      | 21/62 [2:39:55<5:01:18, 440.94s/it]"
     ]
    },
    {
     "name": "stdout",
     "output_type": "stream",
     "text": [
      "171 features left\n",
      "Drop feature(s) ['users_norm_purchases_dow_6']\n"
     ]
    },
    {
     "name": "stderr",
     "output_type": "stream",
     "text": [
      " 35%|███▌      | 22/62 [2:45:53<4:37:25, 416.14s/it]"
     ]
    },
    {
     "name": "stdout",
     "output_type": "stream",
     "text": [
      "170 features left\n",
      "Drop feature(s) ['up_purchases_dow_3']\n"
     ]
    },
    {
     "name": "stderr",
     "output_type": "stream",
     "text": [
      " 37%|███▋      | 23/62 [2:52:10<4:22:52, 404.43s/it]"
     ]
    },
    {
     "name": "stdout",
     "output_type": "stream",
     "text": [
      "169 features left\n",
      "Drop feature(s) ['up_purchases_pod_morning']\n"
     ]
    },
    {
     "name": "stderr",
     "output_type": "stream",
     "text": [
      " 39%|███▊      | 24/62 [2:58:40<4:13:19, 399.99s/it]"
     ]
    },
    {
     "name": "stdout",
     "output_type": "stream",
     "text": [
      "168 features left\n",
      "Drop feature(s) ['users_purchases_dow_5']\n"
     ]
    },
    {
     "name": "stderr",
     "output_type": "stream",
     "text": [
      " 40%|████      | 25/62 [3:05:13<4:05:18, 397.79s/it]"
     ]
    },
    {
     "name": "stdout",
     "output_type": "stream",
     "text": [
      "167 features left\n",
      "Drop feature(s) ['p_embedding_23']\n"
     ]
    },
    {
     "name": "stderr",
     "output_type": "stream",
     "text": [
      " 42%|████▏     | 26/62 [3:12:49<4:09:16, 415.46s/it]"
     ]
    },
    {
     "name": "stdout",
     "output_type": "stream",
     "text": [
      "166 features left\n",
      "Drop feature(s) ['users_asian_food_ratio_r5']\n"
     ]
    },
    {
     "name": "stderr",
     "output_type": "stream",
     "text": [
      " 44%|████▎     | 27/62 [3:19:41<4:01:38, 414.24s/it]"
     ]
    },
    {
     "name": "stdout",
     "output_type": "stream",
     "text": [
      "165 features left\n",
      "Drop feature(s) ['users_norm_purchases_pod_night']\n"
     ]
    },
    {
     "name": "stderr",
     "output_type": "stream",
     "text": [
      " 45%|████▌     | 28/62 [3:26:45<3:56:25, 417.22s/it]"
     ]
    },
    {
     "name": "stdout",
     "output_type": "stream",
     "text": [
      "164 features left\n",
      "Drop feature(s) ['up_norm_purchases_pod_morning']\n"
     ]
    },
    {
     "name": "stderr",
     "output_type": "stream",
     "text": [
      " 47%|████▋     | 29/62 [3:33:48<3:50:22, 418.85s/it]"
     ]
    },
    {
     "name": "stdout",
     "output_type": "stream",
     "text": [
      "163 features left\n",
      "Drop feature(s) ['users_norm_purchases_dow_5']\n"
     ]
    },
    {
     "name": "stderr",
     "output_type": "stream",
     "text": [
      " 48%|████▊     | 30/62 [3:40:49<3:43:44, 419.52s/it]"
     ]
    },
    {
     "name": "stdout",
     "output_type": "stream",
     "text": [
      "162 features left\n",
      "Drop feature(s) ['users_norm_purchases_dow_0']\n"
     ]
    },
    {
     "name": "stderr",
     "output_type": "stream",
     "text": [
      " 50%|█████     | 31/62 [3:47:58<3:38:19, 422.56s/it]"
     ]
    },
    {
     "name": "stdout",
     "output_type": "stream",
     "text": [
      "161 features left\n",
      "Drop feature(s) ['up_norm_purchases_dow_6']\n"
     ]
    },
    {
     "name": "stderr",
     "output_type": "stream",
     "text": [
      " 52%|█████▏    | 32/62 [3:55:01<3:31:15, 422.51s/it]"
     ]
    },
    {
     "name": "stdout",
     "output_type": "stream",
     "text": [
      "160 features left\n",
      "Drop feature(s) ['up_norm_purchases_dow_4']\n"
     ]
    },
    {
     "name": "stderr",
     "output_type": "stream",
     "text": [
      " 53%|█████▎    | 33/62 [4:01:36<3:20:13, 414.27s/it]"
     ]
    },
    {
     "name": "stdout",
     "output_type": "stream",
     "text": [
      "159 features left\n",
      "Drop feature(s) ['up_purchases_pod_noon']\n"
     ]
    },
    {
     "name": "stderr",
     "output_type": "stream",
     "text": [
      " 55%|█████▍    | 34/62 [4:08:50<3:16:07, 420.28s/it]"
     ]
    },
    {
     "name": "stdout",
     "output_type": "stream",
     "text": [
      "158 features left\n",
      "Drop feature(s) ['users_norm_purchases_pod_morning']\n"
     ]
    },
    {
     "name": "stderr",
     "output_type": "stream",
     "text": [
      " 56%|█████▋    | 35/62 [4:14:51<3:01:05, 402.41s/it]"
     ]
    },
    {
     "name": "stdout",
     "output_type": "stream",
     "text": [
      "157 features left\n",
      "Drop feature(s) ['p_num_products_sim_score_0.8_0.9']\n"
     ]
    },
    {
     "name": "stderr",
     "output_type": "stream",
     "text": [
      " 58%|█████▊    | 36/62 [4:21:13<2:51:45, 396.38s/it]"
     ]
    },
    {
     "name": "stdout",
     "output_type": "stream",
     "text": [
      "156 features left\n",
      "Drop feature(s) ['users_norm_purchases_dow_2']\n"
     ]
    },
    {
     "name": "stderr",
     "output_type": "stream",
     "text": [
      " 60%|█████▉    | 37/62 [4:27:29<2:42:37, 390.29s/it]"
     ]
    },
    {
     "name": "stdout",
     "output_type": "stream",
     "text": [
      "155 features left\n",
      "Drop feature(s) ['p_embedding_38']\n"
     ]
    },
    {
     "name": "stderr",
     "output_type": "stream",
     "text": [
      " 61%|██████▏   | 38/62 [4:33:51<2:35:08, 387.84s/it]"
     ]
    },
    {
     "name": "stdout",
     "output_type": "stream",
     "text": [
      "154 features left\n",
      "Drop feature(s) ['p_embedding_24']\n"
     ]
    },
    {
     "name": "stderr",
     "output_type": "stream",
     "text": [
      " 63%|██████▎   | 39/62 [4:42:42<2:45:02, 430.55s/it]"
     ]
    },
    {
     "name": "stdout",
     "output_type": "stream",
     "text": [
      "153 features left\n",
      "Drop feature(s) ['p_num_products_sim_score_0.7_0.8']\n"
     ]
    },
    {
     "name": "stderr",
     "output_type": "stream",
     "text": [
      " 65%|██████▍   | 40/62 [4:52:44<2:56:45, 482.07s/it]"
     ]
    },
    {
     "name": "stdout",
     "output_type": "stream",
     "text": [
      "152 features left\n",
      "Drop feature(s) ['user_product_total']\n"
     ]
    },
    {
     "name": "stderr",
     "output_type": "stream",
     "text": [
      " 66%|██████▌   | 41/62 [5:00:17<2:45:39, 473.33s/it]"
     ]
    },
    {
     "name": "stdout",
     "output_type": "stream",
     "text": [
      "151 features left\n",
      "Drop feature(s) ['up_norm_purchases_dow_3']\n"
     ]
    },
    {
     "name": "stderr",
     "output_type": "stream",
     "text": [
      " 68%|██████▊   | 42/62 [5:06:44<2:29:10, 447.52s/it]"
     ]
    },
    {
     "name": "stdout",
     "output_type": "stream",
     "text": [
      "150 features left\n",
      "Drop feature(s) ['up_norm_purchases_dow_2']\n"
     ]
    },
    {
     "name": "stderr",
     "output_type": "stream",
     "text": [
      " 69%|██████▉   | 43/62 [5:13:07<2:15:33, 428.08s/it]"
     ]
    },
    {
     "name": "stdout",
     "output_type": "stream",
     "text": [
      "149 features left\n",
      "Drop feature(s) ['users_purchases_dow_0']\n"
     ]
    },
    {
     "name": "stderr",
     "output_type": "stream",
     "text": [
      " 71%|███████   | 44/62 [5:19:12<2:02:45, 409.21s/it]"
     ]
    },
    {
     "name": "stdout",
     "output_type": "stream",
     "text": [
      "148 features left\n",
      "Drop feature(s) ['users_purchases_dow_2']\n"
     ]
    },
    {
     "name": "stderr",
     "output_type": "stream",
     "text": [
      " 73%|███████▎  | 45/62 [5:25:55<1:55:23, 407.27s/it]"
     ]
    },
    {
     "name": "stdout",
     "output_type": "stream",
     "text": [
      "147 features left\n",
      "Drop feature(s) ['users_purchases_pod_night']\n"
     ]
    },
    {
     "name": "stderr",
     "output_type": "stream",
     "text": [
      " 74%|███████▍  | 46/62 [5:32:25<1:47:12, 402.04s/it]"
     ]
    },
    {
     "name": "stdout",
     "output_type": "stream",
     "text": [
      "146 features left\n",
      "Drop feature(s) ['users_gluten_free_ratio_r5']\n"
     ]
    },
    {
     "name": "stderr",
     "output_type": "stream",
     "text": [
      " 76%|███████▌  | 47/62 [5:38:49<1:39:12, 396.86s/it]"
     ]
    },
    {
     "name": "stdout",
     "output_type": "stream",
     "text": [
      "145 features left\n",
      "Drop feature(s) ['users_norm_purchases_dow_1']\n"
     ]
    },
    {
     "name": "stderr",
     "output_type": "stream",
     "text": [
      " 77%|███████▋  | 48/62 [5:45:53<1:34:30, 405.03s/it]"
     ]
    },
    {
     "name": "stdout",
     "output_type": "stream",
     "text": [
      "144 features left\n",
      "Drop feature(s) ['p_embedding_7']\n"
     ]
    },
    {
     "name": "stderr",
     "output_type": "stream",
     "text": [
      " 79%|███████▉  | 49/62 [5:52:36<1:27:36, 404.35s/it]"
     ]
    },
    {
     "name": "stdout",
     "output_type": "stream",
     "text": [
      "143 features left\n",
      "Drop feature(s) ['users_purchases_pod_midnight']\n"
     ]
    },
    {
     "name": "stderr",
     "output_type": "stream",
     "text": [
      " 81%|████████  | 50/62 [5:58:58<1:19:32, 397.73s/it]"
     ]
    },
    {
     "name": "stdout",
     "output_type": "stream",
     "text": [
      "142 features left\n",
      "Drop feature(s) ['up_norm_purchases_dow_0']\n"
     ]
    },
    {
     "name": "stderr",
     "output_type": "stream",
     "text": [
      " 82%|████████▏ | 51/62 [6:05:49<1:13:38, 401.64s/it]"
     ]
    },
    {
     "name": "stdout",
     "output_type": "stream",
     "text": [
      "141 features left\n",
      "Drop feature(s) ['p_embedding_30']\n"
     ]
    },
    {
     "name": "stderr",
     "output_type": "stream",
     "text": [
      " 84%|████████▍ | 52/62 [6:12:31<1:06:55, 401.56s/it]"
     ]
    },
    {
     "name": "stdout",
     "output_type": "stream",
     "text": [
      "140 features left\n",
      "Drop feature(s) ['p_embedding_34']\n"
     ]
    },
    {
     "name": "stderr",
     "output_type": "stream",
     "text": [
      " 85%|████████▌ | 53/62 [6:19:46<1:01:45, 411.75s/it]"
     ]
    },
    {
     "name": "stdout",
     "output_type": "stream",
     "text": [
      "139 features left\n",
      "Drop feature(s) ['p_embedding_32']\n"
     ]
    },
    {
     "name": "stderr",
     "output_type": "stream",
     "text": [
      " 87%|████████▋ | 54/62 [6:26:23<54:17, 407.14s/it]  "
     ]
    },
    {
     "name": "stdout",
     "output_type": "stream",
     "text": [
      "138 features left\n",
      "Drop feature(s) ['users_norm_purchases_pod_noon']\n"
     ]
    },
    {
     "name": "stderr",
     "output_type": "stream",
     "text": [
      " 89%|████████▊ | 55/62 [6:33:20<47:51, 410.24s/it]"
     ]
    },
    {
     "name": "stdout",
     "output_type": "stream",
     "text": [
      "137 features left\n",
      "Drop feature(s) ['users_norm_purchases_dow_4']\n"
     ]
    },
    {
     "name": "stderr",
     "output_type": "stream",
     "text": [
      " 90%|█████████ | 56/62 [6:40:03<40:48, 408.14s/it]"
     ]
    },
    {
     "name": "stdout",
     "output_type": "stream",
     "text": [
      "136 features left\n",
      "Drop feature(s) ['up_norm_purchases_pod_noon']\n"
     ]
    },
    {
     "name": "stderr",
     "output_type": "stream",
     "text": [
      " 92%|█████████▏| 57/62 [6:45:55<32:36, 391.21s/it]"
     ]
    },
    {
     "name": "stdout",
     "output_type": "stream",
     "text": [
      "135 features left\n",
      "Drop feature(s) ['p_embedding_10']\n"
     ]
    },
    {
     "name": "stderr",
     "output_type": "stream",
     "text": [
      " 94%|█████████▎| 58/62 [6:51:45<25:15, 378.76s/it]"
     ]
    },
    {
     "name": "stdout",
     "output_type": "stream",
     "text": [
      "134 features left\n",
      "Drop feature(s) ['p_num_products_sim_score_0.6_0.7']\n"
     ]
    },
    {
     "name": "stderr",
     "output_type": "stream",
     "text": [
      " 95%|█████████▌| 59/62 [6:57:29<18:25, 368.35s/it]"
     ]
    },
    {
     "name": "stdout",
     "output_type": "stream",
     "text": [
      "133 features left\n",
      "Drop feature(s) ['up_word2vec_substitute_num_purchases']\n"
     ]
    },
    {
     "name": "stderr",
     "output_type": "stream",
     "text": [
      " 97%|█████████▋| 60/62 [7:03:14<12:02, 361.48s/it]"
     ]
    },
    {
     "name": "stdout",
     "output_type": "stream",
     "text": [
      "132 features left\n",
      "Drop feature(s) ['users_norm_purchases_dow_3']\n"
     ]
    },
    {
     "name": "stderr",
     "output_type": "stream",
     "text": [
      " 98%|█████████▊| 61/62 [7:09:00<05:56, 356.70s/it]"
     ]
    },
    {
     "name": "stdout",
     "output_type": "stream",
     "text": [
      "131 features left\n",
      "Drop feature(s) ['users_norm_purchases_pod_midnight']\n"
     ]
    },
    {
     "name": "stderr",
     "output_type": "stream",
     "text": [
      "100%|██████████| 62/62 [7:15:00<00:00, 420.98s/it]"
     ]
    },
    {
     "name": "stdout",
     "output_type": "stream",
     "text": [
      "130 features left\n"
     ]
    },
    {
     "name": "stderr",
     "output_type": "stream",
     "text": [
      "\n"
     ]
    }
   ],
   "source": [
    "min_features = 130\n",
    "step = 1\n",
    "cv_res, num_features_change, cols_dropped  = refcv(X, y, min_features=min_features, step=step, cv_split_base=cv_split_base)"
   ]
  },
  {
   "cell_type": "code",
   "execution_count": 8,
   "metadata": {},
   "outputs": [
    {
     "data": {
      "text/plain": [
       "[['p_num_purchases_per_user_min'],\n",
       " ['up_purchases_pod_midnight'],\n",
       " ['p_num_purchases_per_user_q20'],\n",
       " ['p_is_gluten_free'],\n",
       " ['p_is_asian'],\n",
       " ['up_organic_substitute_num_purchases_r5'],\n",
       " ['p_is_organic'],\n",
       " ['p_num_products_sim_score_0.9_1.0'],\n",
       " ['up_norm_purchases_pod_midnight'],\n",
       " ['p_num_purchases_per_user_median'],\n",
       " ['up_organic_substitute_num_purchases'],\n",
       " ['up_purchases_dow_5'],\n",
       " ['up_purchases_dow_1'],\n",
       " ['p_purchase_interval_days_min_woo'],\n",
       " ['up_word2vec_substitute_num_purchases_r5'],\n",
       " ['users_purchases_dow_4'],\n",
       " ['up_purchases_dow_2'],\n",
       " ['users_asian_food_ratio'],\n",
       " ['up_purchases_dow_4'],\n",
       " ['up_purchases_pod_night'],\n",
       " ['up_norm_purchases_dow_1'],\n",
       " ['users_norm_purchases_dow_6'],\n",
       " ['up_purchases_dow_3'],\n",
       " ['up_purchases_pod_morning'],\n",
       " ['users_purchases_dow_5'],\n",
       " ['p_embedding_23'],\n",
       " ['users_asian_food_ratio_r5'],\n",
       " ['users_norm_purchases_pod_night'],\n",
       " ['up_norm_purchases_pod_morning'],\n",
       " ['users_norm_purchases_dow_5'],\n",
       " ['users_norm_purchases_dow_0'],\n",
       " ['up_norm_purchases_dow_6'],\n",
       " ['up_norm_purchases_dow_4'],\n",
       " ['up_purchases_pod_noon'],\n",
       " ['users_norm_purchases_pod_morning'],\n",
       " ['p_num_products_sim_score_0.8_0.9'],\n",
       " ['users_norm_purchases_dow_2'],\n",
       " ['p_embedding_38'],\n",
       " ['p_embedding_24'],\n",
       " ['p_num_products_sim_score_0.7_0.8'],\n",
       " ['user_product_total'],\n",
       " ['up_norm_purchases_dow_3'],\n",
       " ['up_norm_purchases_dow_2'],\n",
       " ['users_purchases_dow_0'],\n",
       " ['users_purchases_dow_2'],\n",
       " ['users_purchases_pod_night'],\n",
       " ['users_gluten_free_ratio_r5'],\n",
       " ['users_norm_purchases_dow_1'],\n",
       " ['p_embedding_7'],\n",
       " ['users_purchases_pod_midnight'],\n",
       " ['up_norm_purchases_dow_0'],\n",
       " ['p_embedding_30'],\n",
       " ['p_embedding_34'],\n",
       " ['p_embedding_32'],\n",
       " ['users_norm_purchases_pod_noon'],\n",
       " ['users_norm_purchases_dow_4'],\n",
       " ['up_norm_purchases_pod_noon'],\n",
       " ['p_embedding_10'],\n",
       " ['p_num_products_sim_score_0.6_0.7'],\n",
       " ['up_word2vec_substitute_num_purchases'],\n",
       " ['users_norm_purchases_dow_3'],\n",
       " ['users_norm_purchases_pod_midnight']]"
      ]
     },
     "execution_count": 8,
     "metadata": {},
     "output_type": "execute_result"
    }
   ],
   "source": [
    "cols_dropped"
   ]
  },
  {
   "cell_type": "code",
   "execution_count": 9,
   "metadata": {},
   "outputs": [
    {
     "data": {
      "text/plain": [
       "['p_num_purchases_per_user_min',\n",
       " 'up_purchases_pod_midnight',\n",
       " 'p_num_purchases_per_user_q20',\n",
       " 'p_is_gluten_free',\n",
       " 'p_is_asian',\n",
       " 'up_organic_substitute_num_purchases_r5',\n",
       " 'p_is_organic',\n",
       " 'p_num_products_sim_score_0.9_1.0',\n",
       " 'up_norm_purchases_pod_midnight',\n",
       " 'p_num_purchases_per_user_median',\n",
       " 'up_organic_substitute_num_purchases',\n",
       " 'up_purchases_dow_5',\n",
       " 'up_purchases_dow_1',\n",
       " 'p_purchase_interval_days_min_woo',\n",
       " 'up_word2vec_substitute_num_purchases_r5',\n",
       " 'users_purchases_dow_4',\n",
       " 'up_purchases_dow_2',\n",
       " 'users_asian_food_ratio',\n",
       " 'up_purchases_dow_4',\n",
       " 'up_purchases_pod_night',\n",
       " 'up_norm_purchases_dow_1',\n",
       " 'users_norm_purchases_dow_6',\n",
       " 'up_purchases_dow_3',\n",
       " 'up_purchases_pod_morning',\n",
       " 'users_purchases_dow_5',\n",
       " 'p_embedding_23',\n",
       " 'users_asian_food_ratio_r5',\n",
       " 'users_norm_purchases_pod_night',\n",
       " 'up_norm_purchases_pod_morning',\n",
       " 'users_norm_purchases_dow_5',\n",
       " 'users_norm_purchases_dow_0',\n",
       " 'up_norm_purchases_dow_6',\n",
       " 'up_norm_purchases_dow_4',\n",
       " 'up_purchases_pod_noon',\n",
       " 'users_norm_purchases_pod_morning',\n",
       " 'p_num_products_sim_score_0.8_0.9',\n",
       " 'users_norm_purchases_dow_2',\n",
       " 'p_embedding_38',\n",
       " 'p_embedding_24',\n",
       " 'p_num_products_sim_score_0.7_0.8',\n",
       " 'user_product_total',\n",
       " 'up_norm_purchases_dow_3',\n",
       " 'up_norm_purchases_dow_2',\n",
       " 'users_purchases_dow_0',\n",
       " 'users_purchases_dow_2',\n",
       " 'users_purchases_pod_night',\n",
       " 'users_gluten_free_ratio_r5',\n",
       " 'users_norm_purchases_dow_1',\n",
       " 'p_embedding_7',\n",
       " 'users_purchases_pod_midnight',\n",
       " 'up_norm_purchases_dow_0',\n",
       " 'p_embedding_30',\n",
       " 'p_embedding_34',\n",
       " 'p_embedding_32',\n",
       " 'users_norm_purchases_pod_noon',\n",
       " 'users_norm_purchases_dow_4',\n",
       " 'up_norm_purchases_pod_noon',\n",
       " 'p_embedding_10',\n",
       " 'p_num_products_sim_score_0.6_0.7',\n",
       " 'up_word2vec_substitute_num_purchases',\n",
       " 'users_norm_purchases_dow_3',\n",
       " 'users_norm_purchases_pod_midnight']"
      ]
     },
     "execution_count": 9,
     "metadata": {},
     "output_type": "execute_result"
    }
   ],
   "source": [
    "cols_dropped_flat = [item for sublist in cols_dropped for item in sublist]\n",
    "cols_dropped_flat"
   ]
  },
  {
   "cell_type": "code",
   "execution_count": 23,
   "metadata": {},
   "outputs": [],
   "source": [
    "# fig, axes = plt.subplots(2, 1)\n",
    "# axes[0].plot(num_features_change, cv_res['cv_train_logloss'], label='train_logloss')\n",
    "# axes[0].plot(num_features_change, cv_res['cv_val_logloss'], label='val_logloss')\n",
    "# axes[0].legend()\n",
    "\n",
    "# axes[1].plot(num_features_change, cv_res['cv_train_auc'], label='train_auc')\n",
    "# axes[1].plot(num_features_change, cv_res['cv_val_auc'], label='val_auc')\n",
    "# axes[1].legend()\n"
   ]
  },
  {
   "cell_type": "code",
   "execution_count": 13,
   "metadata": {},
   "outputs": [
    {
     "data": {
      "text/plain": [
       "[<matplotlib.lines.Line2D at 0x16e2d8fa0>]"
      ]
     },
     "execution_count": 13,
     "metadata": {},
     "output_type": "execute_result"
    },
    {
     "data": {
      "image/png": "[encoded data removed]",
      "text/plain": [
       "<Figure size 640x480 with 1 Axes>"
      ]
     },
     "metadata": {},
     "output_type": "display_data"
    }
   ],
   "source": [
    "plt.plot(num_features_change, cv_res['cv_val_logloss'], label='val_logloss')"
   ]
  },
  {
   "cell_type": "code",
   "execution_count": 20,
   "metadata": {},
   "outputs": [
    {
     "data": {
      "text/plain": [
       "0.24454609712677478"
      ]
     },
     "execution_count": 20,
     "metadata": {},
     "output_type": "execute_result"
    }
   ],
   "source": [
    "np.min(cv_res['cv_val_logloss'])"
   ]
  },
  {
   "cell_type": "code",
   "execution_count": 14,
   "metadata": {},
   "outputs": [
    {
     "data": {
      "text/plain": [
       "[<matplotlib.lines.Line2D at 0x16e204c70>]"
      ]
     },
     "execution_count": 14,
     "metadata": {},
     "output_type": "execute_result"
    },
    {
     "data": {
      "image/png": "[encoded data removed]",
      "text/plain": [
       "<Figure size 640x480 with 1 Axes>"
      ]
     },
     "metadata": {},
     "output_type": "display_data"
    }
   ],
   "source": [
    "plt.plot(num_features_change, cv_res['cv_val_auc'], label='val_auc')"
   ]
  },
  {
   "cell_type": "code",
   "execution_count": 22,
   "metadata": {},
   "outputs": [
    {
     "data": {
      "text/plain": [
       "0.8351883890046977"
      ]
     },
     "execution_count": 22,
     "metadata": {},
     "output_type": "execute_result"
    }
   ],
   "source": [
    "np.max(cv_res['cv_val_auc'])"
   ]
  },
  {
   "cell_type": "code",
   "execution_count": 21,
   "metadata": {},
   "outputs": [],
   "source": [
    "with open('data/refcv_custom_dropped_cols.pickle', 'wb+') as f:\n",
    "    pickle.dump(cols_dropped_flat, f)"
   ]
  },
  {
   "cell_type": "code",
   "execution_count": 29,
   "metadata": {},
   "outputs": [
    {
     "data": {
      "text/plain": [
       "(62, 5)"
      ]
     },
     "execution_count": 29,
     "metadata": {},
     "output_type": "execute_result"
    }
   ],
   "source": [
    "cv_res_df = pd.DataFrame(cv_res)\n",
    "cv_res_df['num_features'] = num_features_change\n",
    "cv_res_df.shape"
   ]
  },
  {
   "cell_type": "code",
   "execution_count": 36,
   "metadata": {},
   "outputs": [],
   "source": [
    "cv_res_df.to_pickle('data/cv_res_df_from_192_to_130.pickle')"
   ]
  },
  {
   "cell_type": "code",
   "execution_count": 12,
   "metadata": {},
   "outputs": [
    {
     "name": "stdout",
     "output_type": "stream",
     "text": [
      "spent 436.03 mins\n"
     ]
    }
   ],
   "source": [
    "end_time = time.time()\n",
    "time_spent = (end_time - start_time) / 60\n",
    "print('spent {:.2f} mins'.format(time_spent))"
   ]
  }
 ],
 "metadata": {
  "kernelspec": {
   "display_name": "Python 3.9.10 ('Learning')",
   "language": "python",
   "name": "python3"
  },
  "language_info": {
   "codemirror_mode": {
    "name": "ipython",
    "version": 3
   },
   "file_extension": ".py",
   "mimetype": "text/x-python",
   "name": "python",
   "nbconvert_exporter": "python",
   "pygments_lexer": "ipython3",
   "version": "3.9.10"
  },
  "orig_nbformat": 4,
  "vscode": {
   "interpreter": {
    "hash": "6d8aa7ab31df986170244e19af122ba6bc8bb42c7f8d376c3426a49450374b29"
   }
  }
 },
 "nbformat": 4,
 "nbformat_minor": 2
}
