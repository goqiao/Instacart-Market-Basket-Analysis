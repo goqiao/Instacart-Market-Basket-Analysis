{
 "cells": [
  {
   "cell_type": "markdown",
   "id": "7f21b64e",
   "metadata": {},
   "source": [
    "- Error as explainer couldn't work on X_train matrix"
   ]
  },
  {
   "cell_type": "code",
   "execution_count": 1,
   "id": "dcb14d04",
   "metadata": {},
   "outputs": [],
   "source": [
    "import pandas as pd\n",
    "import numpy as np\n",
    "import shap\n",
    "import xgboost\n",
    "import matplotlib.pyplot as plt\n",
    "import time\n",
    "import mlflow\n",
    "from matplotlib import rcParams\n",
    "from utils import download_user_order_history\n",
    "rcParams.update({'figure.autolayout': True})"
   ]
  },
  {
   "cell_type": "code",
   "execution_count": 2,
   "id": "aa71e36b",
   "metadata": {},
   "outputs": [],
   "source": [
    "start_time = time.time()\n",
    "data_folder = 'data'\n",
    "experiment_name = 'SHAP Feature Importance'\n",
    "run_name = 'X train'"
   ]
  },
  {
   "cell_type": "code",
   "execution_count": 3,
   "id": "1249a62e",
   "metadata": {},
   "outputs": [],
   "source": [
    "# load model\n",
    "xgb = xgboost.XGBClassifier()\n",
    "xgb.load_model('{}/xgb_model.json'.format(data_folder))\n",
    "\n",
    "# load data\n",
    "X_train = pd.read_pickle('{}/X_train.pickle'.format(data_folder))\n",
    "y_train = pd.read_pickle('data/y_train.pickle')"
   ]
  },
  {
   "cell_type": "code",
   "execution_count": 5,
   "id": "2482f729",
   "metadata": {},
   "outputs": [],
   "source": [
    "explainer = shap.TreeExplainer(xgb)"
   ]
  },
  {
   "cell_type": "code",
   "execution_count": null,
   "id": "ad809429",
   "metadata": {},
   "outputs": [],
   "source": [
    "# error\n",
    "shap_values = explainer(X_train)"
   ]
  },
  {
   "cell_type": "code",
   "execution_count": null,
   "id": "a7d1c671",
   "metadata": {},
   "outputs": [],
   "source": [
    "fig = plt.figure()\n",
    "shap.summary_plot(shap_values)\n",
    "plt.tight_layout()\n",
    "plt.show()"
   ]
  }
 ],
 "metadata": {
  "kernelspec": {
   "display_name": "Python 3 (ipykernel)",
   "language": "python",
   "name": "python3"
  },
  "language_info": {
   "codemirror_mode": {
    "name": "ipython",
    "version": 3
   },
   "file_extension": ".py",
   "mimetype": "text/x-python",
   "name": "python",
   "nbconvert_exporter": "python",
   "pygments_lexer": "ipython3",
   "version": "3.9.10"
  }
 },
 "nbformat": 4,
 "nbformat_minor": 5
}
