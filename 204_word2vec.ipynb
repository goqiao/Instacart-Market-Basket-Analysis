{
 "cells": [
  {
   "cell_type": "code",
   "execution_count": 71,
   "id": "a8f7ddbb",
   "metadata": {},
   "outputs": [],
   "source": [
    "import pandas as pd\n",
    "import numpy as np\n",
    "import seaborn as sns\n",
    "import matplotlib.pyplot as plt\n",
    "from utils import read_data\n",
    "import gensim\n",
    "from sklearn.decomposition import PCA"
   ]
  },
  {
   "cell_type": "code",
   "execution_count": 3,
   "id": "8c1ddf2b",
   "metadata": {},
   "outputs": [],
   "source": [
    "data_folder = 'data'\n",
    "nrows = None\n",
    "prior = read_data(data_folder=data_folder, nrows=nrows, read_prior=True)\n",
    "train = read_data(data_folder=data_folder, nrows=nrows, read_train=True)"
   ]
  },
  {
   "cell_type": "code",
   "execution_count": 4,
   "id": "ddc9c6d2",
   "metadata": {},
   "outputs": [],
   "source": [
    "train['product_id'] = train['product_id'].astype('str')\n",
    "prior['product_id'] = prior['product_id'].astype('str')"
   ]
  },
  {
   "cell_type": "code",
   "execution_count": 5,
   "id": "0e5b937c",
   "metadata": {},
   "outputs": [],
   "source": [
    "train_products = train.groupby('order_id')['product_id'].apply(lambda x: x.tolist()).reset_index()\n",
    "prior_products = prior.groupby('order_id')['product_id'].apply(lambda x: x.tolist()).reset_index()"
   ]
  },
  {
   "cell_type": "code",
   "execution_count": 6,
   "id": "21505eb0",
   "metadata": {},
   "outputs": [
    {
     "name": "stdout",
     "output_type": "stream",
     "text": [
      "(3346083, 2)\n"
     ]
    }
   ],
   "source": [
    "products = pd.concat([train_products, prior_products])\n",
    "print(products.shape)"
   ]
  },
  {
   "cell_type": "code",
   "execution_count": 7,
   "id": "5d10e1df",
   "metadata": {},
   "outputs": [
    {
     "data": {
      "text/html": [
       "<div>\n",
       "<style scoped>\n",
       "    .dataframe tbody tr th:only-of-type {\n",
       "        vertical-align: middle;\n",
       "    }\n",
       "\n",
       "    .dataframe tbody tr th {\n",
       "        vertical-align: top;\n",
       "    }\n",
       "\n",
       "    .dataframe thead th {\n",
       "        text-align: right;\n",
       "    }\n",
       "</style>\n",
       "<table border=\"1\" class=\"dataframe\">\n",
       "  <thead>\n",
       "    <tr style=\"text-align: right;\">\n",
       "      <th></th>\n",
       "      <th>order_id</th>\n",
       "      <th>product_id</th>\n",
       "    </tr>\n",
       "  </thead>\n",
       "  <tbody>\n",
       "    <tr>\n",
       "      <th>0</th>\n",
       "      <td>1</td>\n",
       "      <td>[49302, 11109, 10246, 49683, 43633, 13176, 472...</td>\n",
       "    </tr>\n",
       "    <tr>\n",
       "      <th>1</th>\n",
       "      <td>36</td>\n",
       "      <td>[39612, 19660, 49235, 43086, 46620, 34497, 486...</td>\n",
       "    </tr>\n",
       "    <tr>\n",
       "      <th>2</th>\n",
       "      <td>38</td>\n",
       "      <td>[11913, 18159, 4461, 21616, 23622, 32433, 2884...</td>\n",
       "    </tr>\n",
       "    <tr>\n",
       "      <th>3</th>\n",
       "      <td>96</td>\n",
       "      <td>[20574, 30391, 40706, 25610, 27966, 24489, 39275]</td>\n",
       "    </tr>\n",
       "    <tr>\n",
       "      <th>4</th>\n",
       "      <td>98</td>\n",
       "      <td>[8859, 19731, 43654, 13176, 4357, 37664, 34065...</td>\n",
       "    </tr>\n",
       "  </tbody>\n",
       "</table>\n",
       "</div>"
      ],
      "text/plain": [
       "   order_id                                         product_id\n",
       "0         1  [49302, 11109, 10246, 49683, 43633, 13176, 472...\n",
       "1        36  [39612, 19660, 49235, 43086, 46620, 34497, 486...\n",
       "2        38  [11913, 18159, 4461, 21616, 23622, 32433, 2884...\n",
       "3        96  [20574, 30391, 40706, 25610, 27966, 24489, 39275]\n",
       "4        98  [8859, 19731, 43654, 13176, 4357, 37664, 34065..."
      ]
     },
     "execution_count": 7,
     "metadata": {},
     "output_type": "execute_result"
    }
   ],
   "source": [
    "products.head()"
   ]
  },
  {
   "cell_type": "code",
   "execution_count": 15,
   "id": "5a1c37f8",
   "metadata": {},
   "outputs": [
    {
     "data": {
      "text/plain": [
       "145"
      ]
     },
     "execution_count": 15,
     "metadata": {},
     "output_type": "execute_result"
    }
   ],
   "source": [
    "max_num_prods= len(max(products['product_id'], key=len))\n",
    "max_num_prods"
   ]
  },
  {
   "cell_type": "code",
   "execution_count": 17,
   "id": "11a52654",
   "metadata": {},
   "outputs": [],
   "source": [
    "# model training\n",
    "model = gensim.models.Word2Vec(sentences=products['product_id'], min_count=2, vector_size=100, window=max_num_prods, workers=8)"
   ]
  },
  {
   "cell_type": "markdown",
   "id": "5ca7e0e2",
   "metadata": {},
   "source": [
    "- `min_count` = 2 to ignore orders with only one product inside\n",
    "- vector_size = 100, default size for the word vectors\n",
    "- window =  max_num_prods because sequence of products added to cart are independent"
   ]
  },
  {
   "cell_type": "code",
   "execution_count": 32,
   "id": "8082f6d1",
   "metadata": {},
   "outputs": [
    {
     "data": {
      "text/plain": [
       "(49583, 100)"
      ]
     },
     "execution_count": 32,
     "metadata": {},
     "output_type": "execute_result"
    }
   ],
   "source": [
    "model.wv.vectors.shape"
   ]
  },
  {
   "cell_type": "code",
   "execution_count": 31,
   "id": "c34582f9",
   "metadata": {},
   "outputs": [
    {
     "data": {
      "text/plain": [
       "49583"
      ]
     },
     "execution_count": 31,
     "metadata": {},
     "output_type": "execute_result"
    }
   ],
   "source": [
    "len(model.wv.key_to_index.keys())"
   ]
  },
  {
   "cell_type": "code",
   "execution_count": 22,
   "id": "9845c0d9",
   "metadata": {},
   "outputs": [
    {
     "data": {
      "text/plain": [
       "<gensim.models.keyedvectors.KeyedVectors at 0x20ed6dbe0>"
      ]
     },
     "execution_count": 22,
     "metadata": {},
     "output_type": "execute_result"
    }
   ],
   "source": [
    "model.wv"
   ]
  },
  {
   "cell_type": "code",
   "execution_count": 69,
   "id": "79408bae",
   "metadata": {},
   "outputs": [
    {
     "data": {
      "text/html": [
       "<div>\n",
       "<style scoped>\n",
       "    .dataframe tbody tr th:only-of-type {\n",
       "        vertical-align: middle;\n",
       "    }\n",
       "\n",
       "    .dataframe tbody tr th {\n",
       "        vertical-align: top;\n",
       "    }\n",
       "\n",
       "    .dataframe thead th {\n",
       "        text-align: right;\n",
       "    }\n",
       "</style>\n",
       "<table border=\"1\" class=\"dataframe\">\n",
       "  <thead>\n",
       "    <tr style=\"text-align: right;\">\n",
       "      <th></th>\n",
       "      <th>0</th>\n",
       "      <th>1</th>\n",
       "      <th>2</th>\n",
       "      <th>3</th>\n",
       "      <th>4</th>\n",
       "      <th>5</th>\n",
       "      <th>6</th>\n",
       "      <th>7</th>\n",
       "      <th>8</th>\n",
       "      <th>9</th>\n",
       "      <th>...</th>\n",
       "      <th>90</th>\n",
       "      <th>91</th>\n",
       "      <th>92</th>\n",
       "      <th>93</th>\n",
       "      <th>94</th>\n",
       "      <th>95</th>\n",
       "      <th>96</th>\n",
       "      <th>97</th>\n",
       "      <th>98</th>\n",
       "      <th>99</th>\n",
       "    </tr>\n",
       "    <tr>\n",
       "      <th>product_id</th>\n",
       "      <th></th>\n",
       "      <th></th>\n",
       "      <th></th>\n",
       "      <th></th>\n",
       "      <th></th>\n",
       "      <th></th>\n",
       "      <th></th>\n",
       "      <th></th>\n",
       "      <th></th>\n",
       "      <th></th>\n",
       "      <th></th>\n",
       "      <th></th>\n",
       "      <th></th>\n",
       "      <th></th>\n",
       "      <th></th>\n",
       "      <th></th>\n",
       "      <th></th>\n",
       "      <th></th>\n",
       "      <th></th>\n",
       "      <th></th>\n",
       "      <th></th>\n",
       "    </tr>\n",
       "  </thead>\n",
       "  <tbody>\n",
       "    <tr>\n",
       "      <th>24852</th>\n",
       "      <td>1.159197</td>\n",
       "      <td>-2.160967</td>\n",
       "      <td>1.495495</td>\n",
       "      <td>-0.296739</td>\n",
       "      <td>-0.718408</td>\n",
       "      <td>0.789104</td>\n",
       "      <td>1.268353</td>\n",
       "      <td>-5.020040</td>\n",
       "      <td>2.734910</td>\n",
       "      <td>1.498530</td>\n",
       "      <td>...</td>\n",
       "      <td>-7.922766</td>\n",
       "      <td>-3.885876</td>\n",
       "      <td>-0.997543</td>\n",
       "      <td>-0.457081</td>\n",
       "      <td>-2.817929</td>\n",
       "      <td>-0.194468</td>\n",
       "      <td>1.230969</td>\n",
       "      <td>2.063094</td>\n",
       "      <td>-0.764989</td>\n",
       "      <td>2.076463</td>\n",
       "    </tr>\n",
       "    <tr>\n",
       "      <th>13176</th>\n",
       "      <td>2.973655</td>\n",
       "      <td>0.064563</td>\n",
       "      <td>2.968466</td>\n",
       "      <td>-0.998679</td>\n",
       "      <td>0.828710</td>\n",
       "      <td>1.664585</td>\n",
       "      <td>1.771862</td>\n",
       "      <td>-3.081510</td>\n",
       "      <td>0.605820</td>\n",
       "      <td>1.335214</td>\n",
       "      <td>...</td>\n",
       "      <td>-4.693273</td>\n",
       "      <td>-1.739104</td>\n",
       "      <td>-2.325253</td>\n",
       "      <td>0.634346</td>\n",
       "      <td>-2.051823</td>\n",
       "      <td>-2.950957</td>\n",
       "      <td>-2.346019</td>\n",
       "      <td>6.181652</td>\n",
       "      <td>-1.351458</td>\n",
       "      <td>1.919667</td>\n",
       "    </tr>\n",
       "    <tr>\n",
       "      <th>21137</th>\n",
       "      <td>1.197750</td>\n",
       "      <td>-0.813662</td>\n",
       "      <td>-1.010922</td>\n",
       "      <td>-2.067712</td>\n",
       "      <td>2.795329</td>\n",
       "      <td>0.628347</td>\n",
       "      <td>-4.244933</td>\n",
       "      <td>-3.276744</td>\n",
       "      <td>-1.626059</td>\n",
       "      <td>1.444797</td>\n",
       "      <td>...</td>\n",
       "      <td>0.862305</td>\n",
       "      <td>1.198506</td>\n",
       "      <td>-5.060522</td>\n",
       "      <td>-0.238246</td>\n",
       "      <td>-2.878265</td>\n",
       "      <td>-1.622982</td>\n",
       "      <td>-2.138012</td>\n",
       "      <td>0.596830</td>\n",
       "      <td>1.721767</td>\n",
       "      <td>-1.705115</td>\n",
       "    </tr>\n",
       "  </tbody>\n",
       "</table>\n",
       "<p>3 rows × 100 columns</p>\n",
       "</div>"
      ],
      "text/plain": [
       "                  0         1         2         3         4         5   \\\n",
       "product_id                                                               \n",
       "24852       1.159197 -2.160967  1.495495 -0.296739 -0.718408  0.789104   \n",
       "13176       2.973655  0.064563  2.968466 -0.998679  0.828710  1.664585   \n",
       "21137       1.197750 -0.813662 -1.010922 -2.067712  2.795329  0.628347   \n",
       "\n",
       "                  6         7         8         9   ...        90        91  \\\n",
       "product_id                                          ...                       \n",
       "24852       1.268353 -5.020040  2.734910  1.498530  ... -7.922766 -3.885876   \n",
       "13176       1.771862 -3.081510  0.605820  1.335214  ... -4.693273 -1.739104   \n",
       "21137      -4.244933 -3.276744 -1.626059  1.444797  ...  0.862305  1.198506   \n",
       "\n",
       "                  92        93        94        95        96        97  \\\n",
       "product_id                                                               \n",
       "24852      -0.997543 -0.457081 -2.817929 -0.194468  1.230969  2.063094   \n",
       "13176      -2.325253  0.634346 -2.051823 -2.950957 -2.346019  6.181652   \n",
       "21137      -5.060522 -0.238246 -2.878265 -1.622982 -2.138012  0.596830   \n",
       "\n",
       "                  98        99  \n",
       "product_id                      \n",
       "24852      -0.764989  2.076463  \n",
       "13176      -1.351458  1.919667  \n",
       "21137       1.721767 -1.705115  \n",
       "\n",
       "[3 rows x 100 columns]"
      ]
     },
     "execution_count": 69,
     "metadata": {},
     "output_type": "execute_result"
    }
   ],
   "source": [
    "prods_embedding = pd.DataFrame(index=model.wv.key_to_index.keys(),\n",
    "                              data=model.wv.vectors).rename_axis('product_id')\n",
    "prods_embedding.head(3)"
   ]
  },
  {
   "cell_type": "code",
   "execution_count": 59,
   "id": "8fa8cab9",
   "metadata": {},
   "outputs": [],
   "source": [
    "def get_product_names(dic, pid):\n",
    "    products=pd.read_pickle('data/products.pickle')[['product_id', 'product_name', 'aisle', 'department']]\n",
    "    products['product_id'] = products['product_id'].astype('str')\n",
    "    print(products.loc[products['product_id']==pid])\n",
    "    return pd.DataFrame(dic, columns=['product_id', 'similarity']).merge(products)"
   ]
  },
  {
   "cell_type": "code",
   "execution_count": 61,
   "id": "0dbbd1ea",
   "metadata": {},
   "outputs": [
    {
     "name": "stdout",
     "output_type": "stream",
     "text": [
      "      product_id product_name         aisle department\n",
      "24851      24852       Banana  fresh fruits    produce\n"
     ]
    },
    {
     "data": {
      "text/html": [
       "<div>\n",
       "<style scoped>\n",
       "    .dataframe tbody tr th:only-of-type {\n",
       "        vertical-align: middle;\n",
       "    }\n",
       "\n",
       "    .dataframe tbody tr th {\n",
       "        vertical-align: top;\n",
       "    }\n",
       "\n",
       "    .dataframe thead th {\n",
       "        text-align: right;\n",
       "    }\n",
       "</style>\n",
       "<table border=\"1\" class=\"dataframe\">\n",
       "  <thead>\n",
       "    <tr style=\"text-align: right;\">\n",
       "      <th></th>\n",
       "      <th>product_id</th>\n",
       "      <th>similarity</th>\n",
       "      <th>product_name</th>\n",
       "      <th>aisle</th>\n",
       "      <th>department</th>\n",
       "    </tr>\n",
       "  </thead>\n",
       "  <tbody>\n",
       "    <tr>\n",
       "      <th>0</th>\n",
       "      <td>13176</td>\n",
       "      <td>0.786961</td>\n",
       "      <td>Bag of Organic Bananas</td>\n",
       "      <td>fresh fruits</td>\n",
       "      <td>produce</td>\n",
       "    </tr>\n",
       "    <tr>\n",
       "      <th>1</th>\n",
       "      <td>37067</td>\n",
       "      <td>0.576693</td>\n",
       "      <td>Organic Banana</td>\n",
       "      <td>fresh fruits</td>\n",
       "      <td>produce</td>\n",
       "    </tr>\n",
       "    <tr>\n",
       "      <th>2</th>\n",
       "      <td>41787</td>\n",
       "      <td>0.441308</td>\n",
       "      <td>Bartlett Pears</td>\n",
       "      <td>fresh fruits</td>\n",
       "      <td>produce</td>\n",
       "    </tr>\n",
       "    <tr>\n",
       "      <th>3</th>\n",
       "      <td>4920</td>\n",
       "      <td>0.424999</td>\n",
       "      <td>Seedless Red Grapes</td>\n",
       "      <td>packaged vegetables fruits</td>\n",
       "      <td>produce</td>\n",
       "    </tr>\n",
       "    <tr>\n",
       "      <th>4</th>\n",
       "      <td>20766</td>\n",
       "      <td>0.413209</td>\n",
       "      <td>Lentil &amp; Quinoa Spaghetti</td>\n",
       "      <td>missing</td>\n",
       "      <td>missing</td>\n",
       "    </tr>\n",
       "  </tbody>\n",
       "</table>\n",
       "</div>"
      ],
      "text/plain": [
       "  product_id  similarity               product_name  \\\n",
       "0      13176    0.786961     Bag of Organic Bananas   \n",
       "1      37067    0.576693             Organic Banana   \n",
       "2      41787    0.441308             Bartlett Pears   \n",
       "3       4920    0.424999        Seedless Red Grapes   \n",
       "4      20766    0.413209  Lentil & Quinoa Spaghetti   \n",
       "\n",
       "                        aisle department  \n",
       "0                fresh fruits    produce  \n",
       "1                fresh fruits    produce  \n",
       "2                fresh fruits    produce  \n",
       "3  packaged vegetables fruits    produce  \n",
       "4                     missing    missing  "
      ]
     },
     "execution_count": 61,
     "metadata": {},
     "output_type": "execute_result"
    }
   ],
   "source": [
    "pid = '24852'\n",
    "dic = model.wv.most_similar(pid, topn=5)\n",
    "get_product_names(dic, pid)"
   ]
  },
  {
   "cell_type": "markdown",
   "id": "524a46c2",
   "metadata": {},
   "source": [
    "Top 5 products most similar to Banana are:\n",
    "- Bag of Organic Bananas,\n",
    "- Organic Banana\n",
    "- Bartlett Pears\n",
    "- Seedless Red Grapes\n",
    "- Lentil & Quinoa Spaghetti\n",
    "\n",
    "Because the model is trained based on orders of products, the top similar products can be alternatives for customers"
   ]
  },
  {
   "cell_type": "code",
   "execution_count": 75,
   "id": "74c3fee6",
   "metadata": {},
   "outputs": [
    {
     "data": {
      "text/plain": [
       "[<matplotlib.lines.Line2D at 0x218399df0>]"
      ]
     },
     "execution_count": 75,
     "metadata": {},
     "output_type": "execute_result"
    },
    {
     "data": {
      "image/png": "[encoded data removed]",
      "text/plain": [
       "<Figure size 640x480 with 1 Axes>"
      ]
     },
     "metadata": {},
     "output_type": "display_data"
    }
   ],
   "source": [
    "# to choose how many components we need\n",
    "full_variance_explained = PCA().fit(prods_embedding.values).explained_variance_ratio_\n",
    "plt.plot(range(1, prods_embedding.shape[1]+1, ), full_variance_explained.cumsum())"
   ]
  },
  {
   "cell_type": "markdown",
   "id": "50362c99",
   "metadata": {},
   "source": [
    "choose ~ 40 components to retain 80% of variance"
   ]
  },
  {
   "cell_type": "code",
   "execution_count": 77,
   "id": "4aa0e7ed",
   "metadata": {},
   "outputs": [
    {
     "data": {
      "text/plain": [
       "40"
      ]
     },
     "execution_count": 77,
     "metadata": {},
     "output_type": "execute_result"
    }
   ],
   "source": [
    "n_components = np.argmax(np.cumsum(full_variance_explained) >= 0.80) + 1\n",
    "n_components"
   ]
  },
  {
   "cell_type": "code",
   "execution_count": 80,
   "id": "d5315626",
   "metadata": {},
   "outputs": [
    {
     "data": {
      "text/plain": [
       "(49583, 40)"
      ]
     },
     "execution_count": 80,
     "metadata": {},
     "output_type": "execute_result"
    }
   ],
   "source": [
    "# pca project data\n",
    "pc = PCA(n_components, random_state=0).fit_transform(prods_embedding.values)\n",
    "pc.shape"
   ]
  },
  {
   "cell_type": "code",
   "execution_count": 88,
   "id": "046d7188",
   "metadata": {},
   "outputs": [
    {
     "data": {
      "text/html": [
       "<div>\n",
       "<style scoped>\n",
       "    .dataframe tbody tr th:only-of-type {\n",
       "        vertical-align: middle;\n",
       "    }\n",
       "\n",
       "    .dataframe tbody tr th {\n",
       "        vertical-align: top;\n",
       "    }\n",
       "\n",
       "    .dataframe thead th {\n",
       "        text-align: right;\n",
       "    }\n",
       "</style>\n",
       "<table border=\"1\" class=\"dataframe\">\n",
       "  <thead>\n",
       "    <tr style=\"text-align: right;\">\n",
       "      <th></th>\n",
       "      <th>product_id</th>\n",
       "      <th>p_embedding_0</th>\n",
       "      <th>p_embedding_1</th>\n",
       "      <th>p_embedding_2</th>\n",
       "      <th>p_embedding_3</th>\n",
       "      <th>p_embedding_4</th>\n",
       "      <th>p_embedding_5</th>\n",
       "      <th>p_embedding_6</th>\n",
       "      <th>p_embedding_7</th>\n",
       "      <th>p_embedding_8</th>\n",
       "      <th>...</th>\n",
       "      <th>p_embedding_30</th>\n",
       "      <th>p_embedding_31</th>\n",
       "      <th>p_embedding_32</th>\n",
       "      <th>p_embedding_33</th>\n",
       "      <th>p_embedding_34</th>\n",
       "      <th>p_embedding_35</th>\n",
       "      <th>p_embedding_36</th>\n",
       "      <th>p_embedding_37</th>\n",
       "      <th>p_embedding_38</th>\n",
       "      <th>p_embedding_39</th>\n",
       "    </tr>\n",
       "  </thead>\n",
       "  <tbody>\n",
       "    <tr>\n",
       "      <th>0</th>\n",
       "      <td>24852</td>\n",
       "      <td>6.139562</td>\n",
       "      <td>8.247399</td>\n",
       "      <td>0.177175</td>\n",
       "      <td>6.872938</td>\n",
       "      <td>7.354549</td>\n",
       "      <td>6.022885</td>\n",
       "      <td>-0.749231</td>\n",
       "      <td>4.601255</td>\n",
       "      <td>1.275191</td>\n",
       "      <td>...</td>\n",
       "      <td>0.518159</td>\n",
       "      <td>0.914374</td>\n",
       "      <td>-0.216187</td>\n",
       "      <td>-2.143715</td>\n",
       "      <td>0.900467</td>\n",
       "      <td>-0.244941</td>\n",
       "      <td>-0.705107</td>\n",
       "      <td>0.792111</td>\n",
       "      <td>-3.226277</td>\n",
       "      <td>0.231244</td>\n",
       "    </tr>\n",
       "    <tr>\n",
       "      <th>1</th>\n",
       "      <td>13176</td>\n",
       "      <td>12.710593</td>\n",
       "      <td>1.934130</td>\n",
       "      <td>0.062299</td>\n",
       "      <td>5.112406</td>\n",
       "      <td>1.747958</td>\n",
       "      <td>-1.002434</td>\n",
       "      <td>3.030148</td>\n",
       "      <td>3.362142</td>\n",
       "      <td>0.964711</td>\n",
       "      <td>...</td>\n",
       "      <td>-1.053328</td>\n",
       "      <td>2.160508</td>\n",
       "      <td>-1.077320</td>\n",
       "      <td>0.955618</td>\n",
       "      <td>-0.760497</td>\n",
       "      <td>1.735387</td>\n",
       "      <td>0.873751</td>\n",
       "      <td>0.949630</td>\n",
       "      <td>-2.175238</td>\n",
       "      <td>-1.952513</td>\n",
       "    </tr>\n",
       "    <tr>\n",
       "      <th>2</th>\n",
       "      <td>21137</td>\n",
       "      <td>13.298876</td>\n",
       "      <td>5.852841</td>\n",
       "      <td>1.639925</td>\n",
       "      <td>5.413839</td>\n",
       "      <td>5.326396</td>\n",
       "      <td>-1.167076</td>\n",
       "      <td>2.368138</td>\n",
       "      <td>2.991443</td>\n",
       "      <td>0.442467</td>\n",
       "      <td>...</td>\n",
       "      <td>0.368765</td>\n",
       "      <td>2.555952</td>\n",
       "      <td>-1.412906</td>\n",
       "      <td>1.109960</td>\n",
       "      <td>0.495749</td>\n",
       "      <td>0.685554</td>\n",
       "      <td>0.368551</td>\n",
       "      <td>0.873338</td>\n",
       "      <td>-1.458324</td>\n",
       "      <td>-0.949680</td>\n",
       "    </tr>\n",
       "    <tr>\n",
       "      <th>3</th>\n",
       "      <td>21903</td>\n",
       "      <td>15.975659</td>\n",
       "      <td>4.615723</td>\n",
       "      <td>-1.187738</td>\n",
       "      <td>-2.274990</td>\n",
       "      <td>2.965997</td>\n",
       "      <td>4.637571</td>\n",
       "      <td>0.139672</td>\n",
       "      <td>1.635376</td>\n",
       "      <td>1.642688</td>\n",
       "      <td>...</td>\n",
       "      <td>0.376636</td>\n",
       "      <td>1.441471</td>\n",
       "      <td>1.076760</td>\n",
       "      <td>-0.680161</td>\n",
       "      <td>0.776902</td>\n",
       "      <td>0.201862</td>\n",
       "      <td>-1.081982</td>\n",
       "      <td>0.904838</td>\n",
       "      <td>0.653280</td>\n",
       "      <td>-1.780417</td>\n",
       "    </tr>\n",
       "    <tr>\n",
       "      <th>4</th>\n",
       "      <td>47209</td>\n",
       "      <td>17.089874</td>\n",
       "      <td>0.324996</td>\n",
       "      <td>-0.906168</td>\n",
       "      <td>2.592585</td>\n",
       "      <td>1.750579</td>\n",
       "      <td>1.774003</td>\n",
       "      <td>2.022659</td>\n",
       "      <td>1.855752</td>\n",
       "      <td>0.677757</td>\n",
       "      <td>...</td>\n",
       "      <td>0.784849</td>\n",
       "      <td>-0.182038</td>\n",
       "      <td>-2.316222</td>\n",
       "      <td>2.253558</td>\n",
       "      <td>-0.953431</td>\n",
       "      <td>1.538950</td>\n",
       "      <td>0.005801</td>\n",
       "      <td>-0.916378</td>\n",
       "      <td>-3.070594</td>\n",
       "      <td>-0.565279</td>\n",
       "    </tr>\n",
       "  </tbody>\n",
       "</table>\n",
       "<p>5 rows × 41 columns</p>\n",
       "</div>"
      ],
      "text/plain": [
       "  product_id  p_embedding_0  p_embedding_1  p_embedding_2  p_embedding_3  \\\n",
       "0      24852       6.139562       8.247399       0.177175       6.872938   \n",
       "1      13176      12.710593       1.934130       0.062299       5.112406   \n",
       "2      21137      13.298876       5.852841       1.639925       5.413839   \n",
       "3      21903      15.975659       4.615723      -1.187738      -2.274990   \n",
       "4      47209      17.089874       0.324996      -0.906168       2.592585   \n",
       "\n",
       "   p_embedding_4  p_embedding_5  p_embedding_6  p_embedding_7  p_embedding_8  \\\n",
       "0       7.354549       6.022885      -0.749231       4.601255       1.275191   \n",
       "1       1.747958      -1.002434       3.030148       3.362142       0.964711   \n",
       "2       5.326396      -1.167076       2.368138       2.991443       0.442467   \n",
       "3       2.965997       4.637571       0.139672       1.635376       1.642688   \n",
       "4       1.750579       1.774003       2.022659       1.855752       0.677757   \n",
       "\n",
       "   ...  p_embedding_30  p_embedding_31  p_embedding_32  p_embedding_33  \\\n",
       "0  ...        0.518159        0.914374       -0.216187       -2.143715   \n",
       "1  ...       -1.053328        2.160508       -1.077320        0.955618   \n",
       "2  ...        0.368765        2.555952       -1.412906        1.109960   \n",
       "3  ...        0.376636        1.441471        1.076760       -0.680161   \n",
       "4  ...        0.784849       -0.182038       -2.316222        2.253558   \n",
       "\n",
       "   p_embedding_34  p_embedding_35  p_embedding_36  p_embedding_37  \\\n",
       "0        0.900467       -0.244941       -0.705107        0.792111   \n",
       "1       -0.760497        1.735387        0.873751        0.949630   \n",
       "2        0.495749        0.685554        0.368551        0.873338   \n",
       "3        0.776902        0.201862       -1.081982        0.904838   \n",
       "4       -0.953431        1.538950        0.005801       -0.916378   \n",
       "\n",
       "   p_embedding_38  p_embedding_39  \n",
       "0       -3.226277        0.231244  \n",
       "1       -2.175238       -1.952513  \n",
       "2       -1.458324       -0.949680  \n",
       "3        0.653280       -1.780417  \n",
       "4       -3.070594       -0.565279  \n",
       "\n",
       "[5 rows x 41 columns]"
      ]
     },
     "execution_count": 88,
     "metadata": {},
     "output_type": "execute_result"
    }
   ],
   "source": [
    "product_embedding = pd.DataFrame(index=prods_embedding.index, data=pc, columns=np.arange(pc.shape[1])).add_prefix('p_embedding_').reset_index()\n",
    "product_embedding.head()"
   ]
  },
  {
   "cell_type": "code",
   "execution_count": 90,
   "id": "b3a32906",
   "metadata": {},
   "outputs": [],
   "source": [
    "# convert produc\n",
    "product_embedding.product_id = product_embedding.product_id.astype(int)"
   ]
  },
  {
   "cell_type": "code",
   "execution_count": 94,
   "id": "f792f9d0",
   "metadata": {},
   "outputs": [],
   "source": [
    "product_embedding.to_pickle('data/product_embedding.pickle')"
   ]
  },
  {
   "cell_type": "code",
   "execution_count": null,
   "id": "14c251db",
   "metadata": {},
   "outputs": [],
   "source": []
  }
 ],
 "metadata": {
  "kernelspec": {
   "display_name": "Python 3 (ipykernel)",
   "language": "python",
   "name": "python3"
  },
  "language_info": {
   "codemirror_mode": {
    "name": "ipython",
    "version": 3
   },
   "file_extension": ".py",
   "mimetype": "text/x-python",
   "name": "python",
   "nbconvert_exporter": "python",
   "pygments_lexer": "ipython3",
   "version": "3.9.10"
  }
 },
 "nbformat": 4,
 "nbformat_minor": 5
}
