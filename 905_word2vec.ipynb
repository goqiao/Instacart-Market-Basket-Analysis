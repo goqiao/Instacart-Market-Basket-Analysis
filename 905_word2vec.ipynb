{
 "cells": [
  {
   "cell_type": "code",
   "execution_count": 1,
   "id": "a8f7ddbb",
   "metadata": {},
   "outputs": [],
   "source": [
    "import pandas as pd\n",
    "import numpy as np\n",
    "import seaborn as sns\n",
    "import matplotlib.pyplot as plt\n",
    "from utils import read_data\n",
    "import gensim\n",
    "from sklearn.decomposition import PCA"
   ]
  },
  {
   "cell_type": "code",
   "execution_count": 2,
   "id": "8c1ddf2b",
   "metadata": {},
   "outputs": [],
   "source": [
    "data_folder = 'data'\n",
    "nrows = None\n",
    "prior = read_data(data_folder=data_folder, nrows=nrows, read_prior=True)\n",
    "train = read_data(data_folder=data_folder, nrows=nrows, read_train=True)"
   ]
  },
  {
   "cell_type": "code",
   "execution_count": 3,
   "id": "ddc9c6d2",
   "metadata": {},
   "outputs": [],
   "source": [
    "train['product_id'] = train['product_id'].astype('str')\n",
    "prior['product_id'] = prior['product_id'].astype('str')"
   ]
  },
  {
   "cell_type": "code",
   "execution_count": 4,
   "id": "0e5b937c",
   "metadata": {},
   "outputs": [],
   "source": [
    "train_products = train.groupby('order_id')['product_id'].apply(lambda x: x.tolist()).reset_index()\n",
    "prior_products = prior.groupby('order_id')['product_id'].apply(lambda x: x.tolist()).reset_index()"
   ]
  },
  {
   "cell_type": "code",
   "execution_count": 5,
   "id": "21505eb0",
   "metadata": {},
   "outputs": [
    {
     "name": "stdout",
     "output_type": "stream",
     "text": [
      "(3346083, 2)\n"
     ]
    }
   ],
   "source": [
    "products = pd.concat([train_products, prior_products])\n",
    "print(products.shape)"
   ]
  },
  {
   "cell_type": "code",
   "execution_count": 6,
   "id": "5d10e1df",
   "metadata": {},
   "outputs": [
    {
     "data": {
      "text/html": [
       "<div>\n",
       "<style scoped>\n",
       "    .dataframe tbody tr th:only-of-type {\n",
       "        vertical-align: middle;\n",
       "    }\n",
       "\n",
       "    .dataframe tbody tr th {\n",
       "        vertical-align: top;\n",
       "    }\n",
       "\n",
       "    .dataframe thead th {\n",
       "        text-align: right;\n",
       "    }\n",
       "</style>\n",
       "<table border=\"1\" class=\"dataframe\">\n",
       "  <thead>\n",
       "    <tr style=\"text-align: right;\">\n",
       "      <th></th>\n",
       "      <th>order_id</th>\n",
       "      <th>product_id</th>\n",
       "    </tr>\n",
       "  </thead>\n",
       "  <tbody>\n",
       "    <tr>\n",
       "      <th>0</th>\n",
       "      <td>1</td>\n",
       "      <td>[49302, 11109, 10246, 49683, 43633, 13176, 472...</td>\n",
       "    </tr>\n",
       "    <tr>\n",
       "      <th>1</th>\n",
       "      <td>36</td>\n",
       "      <td>[39612, 19660, 49235, 43086, 46620, 34497, 486...</td>\n",
       "    </tr>\n",
       "    <tr>\n",
       "      <th>2</th>\n",
       "      <td>38</td>\n",
       "      <td>[11913, 18159, 4461, 21616, 23622, 32433, 2884...</td>\n",
       "    </tr>\n",
       "    <tr>\n",
       "      <th>3</th>\n",
       "      <td>96</td>\n",
       "      <td>[20574, 30391, 40706, 25610, 27966, 24489, 39275]</td>\n",
       "    </tr>\n",
       "    <tr>\n",
       "      <th>4</th>\n",
       "      <td>98</td>\n",
       "      <td>[8859, 19731, 43654, 13176, 4357, 37664, 34065...</td>\n",
       "    </tr>\n",
       "  </tbody>\n",
       "</table>\n",
       "</div>"
      ],
      "text/plain": [
       "   order_id                                         product_id\n",
       "0         1  [49302, 11109, 10246, 49683, 43633, 13176, 472...\n",
       "1        36  [39612, 19660, 49235, 43086, 46620, 34497, 486...\n",
       "2        38  [11913, 18159, 4461, 21616, 23622, 32433, 2884...\n",
       "3        96  [20574, 30391, 40706, 25610, 27966, 24489, 39275]\n",
       "4        98  [8859, 19731, 43654, 13176, 4357, 37664, 34065..."
      ]
     },
     "execution_count": 6,
     "metadata": {},
     "output_type": "execute_result"
    }
   ],
   "source": [
    "products.head()"
   ]
  },
  {
   "cell_type": "code",
   "execution_count": 7,
   "id": "5a1c37f8",
   "metadata": {},
   "outputs": [
    {
     "data": {
      "text/plain": [
       "145"
      ]
     },
     "execution_count": 7,
     "metadata": {},
     "output_type": "execute_result"
    }
   ],
   "source": [
    "max_num_prods= len(max(products['product_id'], key=len))\n",
    "max_num_prods"
   ]
  },
  {
   "cell_type": "code",
   "execution_count": 8,
   "id": "11a52654",
   "metadata": {},
   "outputs": [],
   "source": [
    "# model training\n",
    "model = gensim.models.Word2Vec(sentences=products['product_id'], min_count=2, vector_size=100, window=max_num_prods, workers=8)"
   ]
  },
  {
   "cell_type": "code",
   "execution_count": 9,
   "id": "25994dae",
   "metadata": {},
   "outputs": [],
   "source": [
    "# model.save('data/word2vec.model')"
   ]
  },
  {
   "cell_type": "markdown",
   "id": "5ca7e0e2",
   "metadata": {},
   "source": [
    "- `min_count` = 2 to ignore orders with only one product inside\n",
    "- vector_size = 100, default size for the word vectors\n",
    "- window =  max_num_prods because sequence of products added to cart are independent"
   ]
  },
  {
   "cell_type": "code",
   "execution_count": 10,
   "id": "8082f6d1",
   "metadata": {},
   "outputs": [
    {
     "data": {
      "text/plain": [
       "(49583, 100)"
      ]
     },
     "execution_count": 10,
     "metadata": {},
     "output_type": "execute_result"
    }
   ],
   "source": [
    "model.wv.vectors.shape"
   ]
  },
  {
   "cell_type": "code",
   "execution_count": 11,
   "id": "c34582f9",
   "metadata": {},
   "outputs": [
    {
     "data": {
      "text/plain": [
       "49583"
      ]
     },
     "execution_count": 11,
     "metadata": {},
     "output_type": "execute_result"
    }
   ],
   "source": [
    "len(model.wv.key_to_index.keys())"
   ]
  },
  {
   "cell_type": "code",
   "execution_count": 12,
   "id": "9845c0d9",
   "metadata": {},
   "outputs": [
    {
     "data": {
      "text/plain": [
       "<gensim.models.keyedvectors.KeyedVectors at 0x210db1d30>"
      ]
     },
     "execution_count": 12,
     "metadata": {},
     "output_type": "execute_result"
    }
   ],
   "source": [
    "model.wv"
   ]
  },
  {
   "cell_type": "code",
   "execution_count": 13,
   "id": "79408bae",
   "metadata": {},
   "outputs": [
    {
     "data": {
      "text/html": [
       "<div>\n",
       "<style scoped>\n",
       "    .dataframe tbody tr th:only-of-type {\n",
       "        vertical-align: middle;\n",
       "    }\n",
       "\n",
       "    .dataframe tbody tr th {\n",
       "        vertical-align: top;\n",
       "    }\n",
       "\n",
       "    .dataframe thead th {\n",
       "        text-align: right;\n",
       "    }\n",
       "</style>\n",
       "<table border=\"1\" class=\"dataframe\">\n",
       "  <thead>\n",
       "    <tr style=\"text-align: right;\">\n",
       "      <th></th>\n",
       "      <th>0</th>\n",
       "      <th>1</th>\n",
       "      <th>2</th>\n",
       "      <th>3</th>\n",
       "      <th>4</th>\n",
       "      <th>5</th>\n",
       "      <th>6</th>\n",
       "      <th>7</th>\n",
       "      <th>8</th>\n",
       "      <th>9</th>\n",
       "      <th>...</th>\n",
       "      <th>90</th>\n",
       "      <th>91</th>\n",
       "      <th>92</th>\n",
       "      <th>93</th>\n",
       "      <th>94</th>\n",
       "      <th>95</th>\n",
       "      <th>96</th>\n",
       "      <th>97</th>\n",
       "      <th>98</th>\n",
       "      <th>99</th>\n",
       "    </tr>\n",
       "    <tr>\n",
       "      <th>product_id</th>\n",
       "      <th></th>\n",
       "      <th></th>\n",
       "      <th></th>\n",
       "      <th></th>\n",
       "      <th></th>\n",
       "      <th></th>\n",
       "      <th></th>\n",
       "      <th></th>\n",
       "      <th></th>\n",
       "      <th></th>\n",
       "      <th></th>\n",
       "      <th></th>\n",
       "      <th></th>\n",
       "      <th></th>\n",
       "      <th></th>\n",
       "      <th></th>\n",
       "      <th></th>\n",
       "      <th></th>\n",
       "      <th></th>\n",
       "      <th></th>\n",
       "      <th></th>\n",
       "    </tr>\n",
       "  </thead>\n",
       "  <tbody>\n",
       "    <tr>\n",
       "      <th>24852</th>\n",
       "      <td>0.711770</td>\n",
       "      <td>-1.344424</td>\n",
       "      <td>1.857387</td>\n",
       "      <td>-2.254449</td>\n",
       "      <td>-2.714099</td>\n",
       "      <td>-0.701070</td>\n",
       "      <td>-3.274530</td>\n",
       "      <td>-4.368392</td>\n",
       "      <td>-3.354698</td>\n",
       "      <td>-0.156490</td>\n",
       "      <td>...</td>\n",
       "      <td>0.599133</td>\n",
       "      <td>-3.653006</td>\n",
       "      <td>-0.805900</td>\n",
       "      <td>-0.627684</td>\n",
       "      <td>-1.684797</td>\n",
       "      <td>-0.889417</td>\n",
       "      <td>2.486539</td>\n",
       "      <td>3.284515</td>\n",
       "      <td>1.830542</td>\n",
       "      <td>0.155392</td>\n",
       "    </tr>\n",
       "    <tr>\n",
       "      <th>13176</th>\n",
       "      <td>3.109421</td>\n",
       "      <td>1.336914</td>\n",
       "      <td>2.143434</td>\n",
       "      <td>-1.958812</td>\n",
       "      <td>0.495347</td>\n",
       "      <td>0.846978</td>\n",
       "      <td>-2.824971</td>\n",
       "      <td>-5.158849</td>\n",
       "      <td>-2.652408</td>\n",
       "      <td>0.390102</td>\n",
       "      <td>...</td>\n",
       "      <td>-0.693990</td>\n",
       "      <td>-3.792375</td>\n",
       "      <td>-1.723678</td>\n",
       "      <td>-0.242754</td>\n",
       "      <td>-0.159515</td>\n",
       "      <td>-3.041061</td>\n",
       "      <td>-0.793552</td>\n",
       "      <td>4.775062</td>\n",
       "      <td>1.426485</td>\n",
       "      <td>0.549729</td>\n",
       "    </tr>\n",
       "    <tr>\n",
       "      <th>21137</th>\n",
       "      <td>-2.179251</td>\n",
       "      <td>0.629863</td>\n",
       "      <td>-1.342545</td>\n",
       "      <td>1.364112</td>\n",
       "      <td>3.244175</td>\n",
       "      <td>-0.079831</td>\n",
       "      <td>-5.902512</td>\n",
       "      <td>-7.720401</td>\n",
       "      <td>1.993463</td>\n",
       "      <td>-0.642954</td>\n",
       "      <td>...</td>\n",
       "      <td>-0.074592</td>\n",
       "      <td>-0.854819</td>\n",
       "      <td>-0.176400</td>\n",
       "      <td>-2.748030</td>\n",
       "      <td>1.237915</td>\n",
       "      <td>-3.735065</td>\n",
       "      <td>-2.593451</td>\n",
       "      <td>0.036997</td>\n",
       "      <td>3.144235</td>\n",
       "      <td>-4.043410</td>\n",
       "    </tr>\n",
       "  </tbody>\n",
       "</table>\n",
       "<p>3 rows × 100 columns</p>\n",
       "</div>"
      ],
      "text/plain": [
       "                  0         1         2         3         4         5   \\\n",
       "product_id                                                               \n",
       "24852       0.711770 -1.344424  1.857387 -2.254449 -2.714099 -0.701070   \n",
       "13176       3.109421  1.336914  2.143434 -1.958812  0.495347  0.846978   \n",
       "21137      -2.179251  0.629863 -1.342545  1.364112  3.244175 -0.079831   \n",
       "\n",
       "                  6         7         8         9   ...        90        91  \\\n",
       "product_id                                          ...                       \n",
       "24852      -3.274530 -4.368392 -3.354698 -0.156490  ...  0.599133 -3.653006   \n",
       "13176      -2.824971 -5.158849 -2.652408  0.390102  ... -0.693990 -3.792375   \n",
       "21137      -5.902512 -7.720401  1.993463 -0.642954  ... -0.074592 -0.854819   \n",
       "\n",
       "                  92        93        94        95        96        97  \\\n",
       "product_id                                                               \n",
       "24852      -0.805900 -0.627684 -1.684797 -0.889417  2.486539  3.284515   \n",
       "13176      -1.723678 -0.242754 -0.159515 -3.041061 -0.793552  4.775062   \n",
       "21137      -0.176400 -2.748030  1.237915 -3.735065 -2.593451  0.036997   \n",
       "\n",
       "                  98        99  \n",
       "product_id                      \n",
       "24852       1.830542  0.155392  \n",
       "13176       1.426485  0.549729  \n",
       "21137       3.144235 -4.043410  \n",
       "\n",
       "[3 rows x 100 columns]"
      ]
     },
     "execution_count": 13,
     "metadata": {},
     "output_type": "execute_result"
    }
   ],
   "source": [
    "prods_embedding = pd.DataFrame(index=model.wv.key_to_index.keys(),\n",
    "                              data=model.wv.vectors).rename_axis('product_id')\n",
    "prods_embedding.head(3)"
   ]
  },
  {
   "cell_type": "code",
   "execution_count": 14,
   "id": "8fa8cab9",
   "metadata": {},
   "outputs": [],
   "source": [
    "def get_product_names(dic, pid):\n",
    "    products=pd.read_pickle('data/products.pickle')[['product_id', 'product_name', 'aisle', 'department']]\n",
    "    products['product_id'] = products['product_id'].astype('str')\n",
    "    print(products.loc[products['product_id']==pid])\n",
    "    return pd.DataFrame(dic, columns=['product_id', 'similarity']).merge(products)"
   ]
  },
  {
   "cell_type": "code",
   "execution_count": 15,
   "id": "0dbbd1ea",
   "metadata": {},
   "outputs": [
    {
     "name": "stdout",
     "output_type": "stream",
     "text": [
      "      product_id product_name         aisle department\n",
      "24851      24852       Banana  fresh fruits    produce\n"
     ]
    },
    {
     "data": {
      "text/html": [
       "<div>\n",
       "<style scoped>\n",
       "    .dataframe tbody tr th:only-of-type {\n",
       "        vertical-align: middle;\n",
       "    }\n",
       "\n",
       "    .dataframe tbody tr th {\n",
       "        vertical-align: top;\n",
       "    }\n",
       "\n",
       "    .dataframe thead th {\n",
       "        text-align: right;\n",
       "    }\n",
       "</style>\n",
       "<table border=\"1\" class=\"dataframe\">\n",
       "  <thead>\n",
       "    <tr style=\"text-align: right;\">\n",
       "      <th></th>\n",
       "      <th>product_id</th>\n",
       "      <th>similarity</th>\n",
       "      <th>product_name</th>\n",
       "      <th>aisle</th>\n",
       "      <th>department</th>\n",
       "    </tr>\n",
       "  </thead>\n",
       "  <tbody>\n",
       "    <tr>\n",
       "      <th>0</th>\n",
       "      <td>13176</td>\n",
       "      <td>0.795506</td>\n",
       "      <td>Bag of Organic Bananas</td>\n",
       "      <td>fresh fruits</td>\n",
       "      <td>produce</td>\n",
       "    </tr>\n",
       "    <tr>\n",
       "      <th>1</th>\n",
       "      <td>37067</td>\n",
       "      <td>0.583988</td>\n",
       "      <td>Organic Banana</td>\n",
       "      <td>fresh fruits</td>\n",
       "      <td>produce</td>\n",
       "    </tr>\n",
       "    <tr>\n",
       "      <th>2</th>\n",
       "      <td>2951</td>\n",
       "      <td>0.478933</td>\n",
       "      <td>Chocolate Sea Salt Stars Shortbread Cookies</td>\n",
       "      <td>cookies cakes</td>\n",
       "      <td>snacks</td>\n",
       "    </tr>\n",
       "    <tr>\n",
       "      <th>3</th>\n",
       "      <td>4920</td>\n",
       "      <td>0.450094</td>\n",
       "      <td>Seedless Red Grapes</td>\n",
       "      <td>packaged vegetables fruits</td>\n",
       "      <td>produce</td>\n",
       "    </tr>\n",
       "    <tr>\n",
       "      <th>4</th>\n",
       "      <td>21271</td>\n",
       "      <td>0.445648</td>\n",
       "      <td>Folic Acid 800 mcg Vcaps</td>\n",
       "      <td>vitamins supplements</td>\n",
       "      <td>personal care</td>\n",
       "    </tr>\n",
       "  </tbody>\n",
       "</table>\n",
       "</div>"
      ],
      "text/plain": [
       "  product_id  similarity                                 product_name  \\\n",
       "0      13176    0.795506                       Bag of Organic Bananas   \n",
       "1      37067    0.583988                               Organic Banana   \n",
       "2       2951    0.478933  Chocolate Sea Salt Stars Shortbread Cookies   \n",
       "3       4920    0.450094                          Seedless Red Grapes   \n",
       "4      21271    0.445648                     Folic Acid 800 mcg Vcaps   \n",
       "\n",
       "                        aisle     department  \n",
       "0                fresh fruits        produce  \n",
       "1                fresh fruits        produce  \n",
       "2               cookies cakes         snacks  \n",
       "3  packaged vegetables fruits        produce  \n",
       "4        vitamins supplements  personal care  "
      ]
     },
     "execution_count": 15,
     "metadata": {},
     "output_type": "execute_result"
    }
   ],
   "source": [
    "pid = '24852'\n",
    "dic = model.wv.most_similar(pid, topn=5)\n",
    "get_product_names(dic, pid)"
   ]
  },
  {
   "cell_type": "markdown",
   "id": "524a46c2",
   "metadata": {},
   "source": [
    "Top 5 products most similar to Banana are:\n",
    "- Bag of Organic Bananas,\n",
    "- Organic Banana\n",
    "- Bartlett Pears\n",
    "- Seedless Red Grapes\n",
    "- Lentil & Quinoa Spaghetti\n",
    "\n",
    "Because the model is trained based on orders of products, the top similar products can be alternatives for customers"
   ]
  },
  {
   "cell_type": "code",
   "execution_count": 16,
   "id": "74c3fee6",
   "metadata": {},
   "outputs": [
    {
     "data": {
      "text/plain": [
       "[<matplotlib.lines.Line2D at 0x2116e2b80>]"
      ]
     },
     "execution_count": 16,
     "metadata": {},
     "output_type": "execute_result"
    },
    {
     "data": {
      "image/png": "[encoded data removed]",
      "text/plain": [
       "<Figure size 640x480 with 1 Axes>"
      ]
     },
     "metadata": {},
     "output_type": "display_data"
    }
   ],
   "source": [
    "# to choose how many components we need\n",
    "full_variance_explained = PCA().fit(prods_embedding.values).explained_variance_ratio_\n",
    "plt.plot(range(1, prods_embedding.shape[1]+1, ), full_variance_explained.cumsum())"
   ]
  },
  {
   "cell_type": "markdown",
   "id": "50362c99",
   "metadata": {},
   "source": [
    "choose ~ 40 components to retain 80% of variance"
   ]
  },
  {
   "cell_type": "code",
   "execution_count": 17,
   "id": "4aa0e7ed",
   "metadata": {},
   "outputs": [
    {
     "data": {
      "text/plain": [
       "40"
      ]
     },
     "execution_count": 17,
     "metadata": {},
     "output_type": "execute_result"
    }
   ],
   "source": [
    "var_retained = 0.8\n",
    "n_components = np.argmax(np.cumsum(full_variance_explained) >= var_retained) + 1\n",
    "n_components"
   ]
  },
  {
   "cell_type": "code",
   "execution_count": 18,
   "id": "d5315626",
   "metadata": {},
   "outputs": [
    {
     "data": {
      "text/plain": [
       "(49583, 40)"
      ]
     },
     "execution_count": 18,
     "metadata": {},
     "output_type": "execute_result"
    }
   ],
   "source": [
    "# pca project data\n",
    "pc = PCA(n_components, random_state=0).fit_transform(prods_embedding.values)\n",
    "pc.shape"
   ]
  },
  {
   "cell_type": "code",
   "execution_count": 19,
   "id": "046d7188",
   "metadata": {},
   "outputs": [
    {
     "data": {
      "text/html": [
       "<div>\n",
       "<style scoped>\n",
       "    .dataframe tbody tr th:only-of-type {\n",
       "        vertical-align: middle;\n",
       "    }\n",
       "\n",
       "    .dataframe tbody tr th {\n",
       "        vertical-align: top;\n",
       "    }\n",
       "\n",
       "    .dataframe thead th {\n",
       "        text-align: right;\n",
       "    }\n",
       "</style>\n",
       "<table border=\"1\" class=\"dataframe\">\n",
       "  <thead>\n",
       "    <tr style=\"text-align: right;\">\n",
       "      <th></th>\n",
       "      <th>product_id</th>\n",
       "      <th>p_embedding_0</th>\n",
       "      <th>p_embedding_1</th>\n",
       "      <th>p_embedding_2</th>\n",
       "      <th>p_embedding_3</th>\n",
       "      <th>p_embedding_4</th>\n",
       "      <th>p_embedding_5</th>\n",
       "      <th>p_embedding_6</th>\n",
       "      <th>p_embedding_7</th>\n",
       "      <th>p_embedding_8</th>\n",
       "      <th>...</th>\n",
       "      <th>p_embedding_30</th>\n",
       "      <th>p_embedding_31</th>\n",
       "      <th>p_embedding_32</th>\n",
       "      <th>p_embedding_33</th>\n",
       "      <th>p_embedding_34</th>\n",
       "      <th>p_embedding_35</th>\n",
       "      <th>p_embedding_36</th>\n",
       "      <th>p_embedding_37</th>\n",
       "      <th>p_embedding_38</th>\n",
       "      <th>p_embedding_39</th>\n",
       "    </tr>\n",
       "  </thead>\n",
       "  <tbody>\n",
       "    <tr>\n",
       "      <th>0</th>\n",
       "      <td>24852</td>\n",
       "      <td>6.183636</td>\n",
       "      <td>-8.396371</td>\n",
       "      <td>-0.339550</td>\n",
       "      <td>7.175330</td>\n",
       "      <td>7.123689</td>\n",
       "      <td>5.784557</td>\n",
       "      <td>-0.661838</td>\n",
       "      <td>4.343639</td>\n",
       "      <td>1.433560</td>\n",
       "      <td>...</td>\n",
       "      <td>-0.051798</td>\n",
       "      <td>1.348206</td>\n",
       "      <td>1.298223</td>\n",
       "      <td>-1.322580</td>\n",
       "      <td>2.160367</td>\n",
       "      <td>-0.201206</td>\n",
       "      <td>0.909023</td>\n",
       "      <td>-1.364965</td>\n",
       "      <td>0.669517</td>\n",
       "      <td>0.939389</td>\n",
       "    </tr>\n",
       "    <tr>\n",
       "      <th>1</th>\n",
       "      <td>13176</td>\n",
       "      <td>12.342963</td>\n",
       "      <td>-2.028736</td>\n",
       "      <td>-0.140938</td>\n",
       "      <td>5.153012</td>\n",
       "      <td>1.869254</td>\n",
       "      <td>-1.002306</td>\n",
       "      <td>3.237164</td>\n",
       "      <td>3.399762</td>\n",
       "      <td>1.133663</td>\n",
       "      <td>...</td>\n",
       "      <td>-1.545215</td>\n",
       "      <td>1.139735</td>\n",
       "      <td>-1.193589</td>\n",
       "      <td>0.100404</td>\n",
       "      <td>1.808121</td>\n",
       "      <td>-1.894778</td>\n",
       "      <td>0.027095</td>\n",
       "      <td>1.256876</td>\n",
       "      <td>2.799036</td>\n",
       "      <td>-0.171440</td>\n",
       "    </tr>\n",
       "    <tr>\n",
       "      <th>2</th>\n",
       "      <td>21137</td>\n",
       "      <td>12.891898</td>\n",
       "      <td>-5.859041</td>\n",
       "      <td>1.124059</td>\n",
       "      <td>5.882640</td>\n",
       "      <td>5.210513</td>\n",
       "      <td>-1.226824</td>\n",
       "      <td>2.559977</td>\n",
       "      <td>2.780093</td>\n",
       "      <td>0.144179</td>\n",
       "      <td>...</td>\n",
       "      <td>-0.838079</td>\n",
       "      <td>1.790885</td>\n",
       "      <td>-1.198121</td>\n",
       "      <td>-0.568947</td>\n",
       "      <td>2.491989</td>\n",
       "      <td>-0.467473</td>\n",
       "      <td>1.057004</td>\n",
       "      <td>-0.195979</td>\n",
       "      <td>1.192585</td>\n",
       "      <td>-0.118172</td>\n",
       "    </tr>\n",
       "    <tr>\n",
       "      <th>3</th>\n",
       "      <td>21903</td>\n",
       "      <td>15.926896</td>\n",
       "      <td>-4.883900</td>\n",
       "      <td>-0.856111</td>\n",
       "      <td>-2.401511</td>\n",
       "      <td>3.152022</td>\n",
       "      <td>4.894067</td>\n",
       "      <td>0.183666</td>\n",
       "      <td>2.005176</td>\n",
       "      <td>2.025738</td>\n",
       "      <td>...</td>\n",
       "      <td>-0.451576</td>\n",
       "      <td>1.173494</td>\n",
       "      <td>0.701996</td>\n",
       "      <td>0.762366</td>\n",
       "      <td>1.314698</td>\n",
       "      <td>-0.051233</td>\n",
       "      <td>1.717769</td>\n",
       "      <td>-0.370698</td>\n",
       "      <td>0.184542</td>\n",
       "      <td>-0.211329</td>\n",
       "    </tr>\n",
       "    <tr>\n",
       "      <th>4</th>\n",
       "      <td>47209</td>\n",
       "      <td>16.934025</td>\n",
       "      <td>-0.522074</td>\n",
       "      <td>-1.188317</td>\n",
       "      <td>2.334150</td>\n",
       "      <td>1.822767</td>\n",
       "      <td>1.368582</td>\n",
       "      <td>2.037792</td>\n",
       "      <td>1.775352</td>\n",
       "      <td>0.632454</td>\n",
       "      <td>...</td>\n",
       "      <td>0.226348</td>\n",
       "      <td>-0.708388</td>\n",
       "      <td>-3.419651</td>\n",
       "      <td>-0.645408</td>\n",
       "      <td>0.880703</td>\n",
       "      <td>-1.700433</td>\n",
       "      <td>-1.508650</td>\n",
       "      <td>-1.333155</td>\n",
       "      <td>2.464445</td>\n",
       "      <td>-1.910323</td>\n",
       "    </tr>\n",
       "  </tbody>\n",
       "</table>\n",
       "<p>5 rows × 41 columns</p>\n",
       "</div>"
      ],
      "text/plain": [
       "  product_id  p_embedding_0  p_embedding_1  p_embedding_2  p_embedding_3  \\\n",
       "0      24852       6.183636      -8.396371      -0.339550       7.175330   \n",
       "1      13176      12.342963      -2.028736      -0.140938       5.153012   \n",
       "2      21137      12.891898      -5.859041       1.124059       5.882640   \n",
       "3      21903      15.926896      -4.883900      -0.856111      -2.401511   \n",
       "4      47209      16.934025      -0.522074      -1.188317       2.334150   \n",
       "\n",
       "   p_embedding_4  p_embedding_5  p_embedding_6  p_embedding_7  p_embedding_8  \\\n",
       "0       7.123689       5.784557      -0.661838       4.343639       1.433560   \n",
       "1       1.869254      -1.002306       3.237164       3.399762       1.133663   \n",
       "2       5.210513      -1.226824       2.559977       2.780093       0.144179   \n",
       "3       3.152022       4.894067       0.183666       2.005176       2.025738   \n",
       "4       1.822767       1.368582       2.037792       1.775352       0.632454   \n",
       "\n",
       "   ...  p_embedding_30  p_embedding_31  p_embedding_32  p_embedding_33  \\\n",
       "0  ...       -0.051798        1.348206        1.298223       -1.322580   \n",
       "1  ...       -1.545215        1.139735       -1.193589        0.100404   \n",
       "2  ...       -0.838079        1.790885       -1.198121       -0.568947   \n",
       "3  ...       -0.451576        1.173494        0.701996        0.762366   \n",
       "4  ...        0.226348       -0.708388       -3.419651       -0.645408   \n",
       "\n",
       "   p_embedding_34  p_embedding_35  p_embedding_36  p_embedding_37  \\\n",
       "0        2.160367       -0.201206        0.909023       -1.364965   \n",
       "1        1.808121       -1.894778        0.027095        1.256876   \n",
       "2        2.491989       -0.467473        1.057004       -0.195979   \n",
       "3        1.314698       -0.051233        1.717769       -0.370698   \n",
       "4        0.880703       -1.700433       -1.508650       -1.333155   \n",
       "\n",
       "   p_embedding_38  p_embedding_39  \n",
       "0        0.669517        0.939389  \n",
       "1        2.799036       -0.171440  \n",
       "2        1.192585       -0.118172  \n",
       "3        0.184542       -0.211329  \n",
       "4        2.464445       -1.910323  \n",
       "\n",
       "[5 rows x 41 columns]"
      ]
     },
     "execution_count": 19,
     "metadata": {},
     "output_type": "execute_result"
    }
   ],
   "source": [
    "product_embedding = pd.DataFrame(index=prods_embedding.index, data=pc, columns=np.arange(pc.shape[1])).add_prefix('p_embedding_').reset_index()\n",
    "product_embedding.head()"
   ]
  },
  {
   "cell_type": "code",
   "execution_count": 20,
   "id": "b3a32906",
   "metadata": {},
   "outputs": [],
   "source": [
    "# convert product\n",
    "product_embedding.product_id = product_embedding.product_id.astype(int)"
   ]
  },
  {
   "cell_type": "code",
   "execution_count": 21,
   "id": "f792f9d0",
   "metadata": {},
   "outputs": [],
   "source": [
    "# product_embedding.to_pickle('data/product_embedding.pickle')"
   ]
  },
  {
   "cell_type": "code",
   "execution_count": null,
   "id": "14c251db",
   "metadata": {},
   "outputs": [],
   "source": []
  }
 ],
 "metadata": {
  "kernelspec": {
   "display_name": "Python 3.9.10 ('Learning')",
   "language": "python",
   "name": "python3"
  },
  "language_info": {
   "codemirror_mode": {
    "name": "ipython",
    "version": 3
   },
   "file_extension": ".py",
   "mimetype": "text/x-python",
   "name": "python",
   "nbconvert_exporter": "python",
   "pygments_lexer": "ipython3",
   "version": "3.9.10"
  },
  "vscode": {
   "interpreter": {
    "hash": "6d8aa7ab31df986170244e19af122ba6bc8bb42c7f8d376c3426a49450374b29"
   }
  }
 },
 "nbformat": 4,
 "nbformat_minor": 5
}
