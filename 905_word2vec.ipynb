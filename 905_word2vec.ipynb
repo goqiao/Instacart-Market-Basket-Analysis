{
 "cells": [
  {
   "cell_type": "code",
   "execution_count": 1,
   "id": "a8f7ddbb",
   "metadata": {},
   "outputs": [],
   "source": [
    "import pandas as pd\n",
    "import numpy as np\n",
    "import seaborn as sns\n",
    "import matplotlib.pyplot as plt\n",
    "from utils import read_data\n",
    "import gensim\n",
    "from sklearn.decomposition import PCA"
   ]
  },
  {
   "cell_type": "code",
   "execution_count": 2,
   "id": "8c1ddf2b",
   "metadata": {},
   "outputs": [],
   "source": [
    "data_folder = 'data'\n",
    "nrows = None\n",
    "prior = read_data(data_folder=data_folder, nrows=nrows, read_prior=True)\n",
    "train = read_data(data_folder=data_folder, nrows=nrows, read_train=True)"
   ]
  },
  {
   "cell_type": "code",
   "execution_count": 3,
   "id": "ddc9c6d2",
   "metadata": {},
   "outputs": [],
   "source": [
    "train['product_id'] = train['product_id'].astype('str')\n",
    "prior['product_id'] = prior['product_id'].astype('str')"
   ]
  },
  {
   "cell_type": "code",
   "execution_count": 4,
   "id": "0e5b937c",
   "metadata": {},
   "outputs": [],
   "source": [
    "train_products = train.groupby('order_id')['product_id'].apply(lambda x: x.tolist()).reset_index()\n",
    "prior_products = prior.groupby('order_id')['product_id'].apply(lambda x: x.tolist()).reset_index()"
   ]
  },
  {
   "cell_type": "code",
   "execution_count": 5,
   "id": "21505eb0",
   "metadata": {},
   "outputs": [
    {
     "name": "stdout",
     "output_type": "stream",
     "text": [
      "(3346083, 2)\n"
     ]
    }
   ],
   "source": [
    "products = pd.concat([train_products, prior_products])\n",
    "print(products.shape)"
   ]
  },
  {
   "cell_type": "code",
   "execution_count": 6,
   "id": "5d10e1df",
   "metadata": {},
   "outputs": [
    {
     "data": {
      "text/html": [
       "<div>\n",
       "<style scoped>\n",
       "    .dataframe tbody tr th:only-of-type {\n",
       "        vertical-align: middle;\n",
       "    }\n",
       "\n",
       "    .dataframe tbody tr th {\n",
       "        vertical-align: top;\n",
       "    }\n",
       "\n",
       "    .dataframe thead th {\n",
       "        text-align: right;\n",
       "    }\n",
       "</style>\n",
       "<table border=\"1\" class=\"dataframe\">\n",
       "  <thead>\n",
       "    <tr style=\"text-align: right;\">\n",
       "      <th></th>\n",
       "      <th>order_id</th>\n",
       "      <th>product_id</th>\n",
       "    </tr>\n",
       "  </thead>\n",
       "  <tbody>\n",
       "    <tr>\n",
       "      <th>0</th>\n",
       "      <td>1</td>\n",
       "      <td>[49302, 11109, 10246, 49683, 43633, 13176, 472...</td>\n",
       "    </tr>\n",
       "    <tr>\n",
       "      <th>1</th>\n",
       "      <td>36</td>\n",
       "      <td>[39612, 19660, 49235, 43086, 46620, 34497, 486...</td>\n",
       "    </tr>\n",
       "    <tr>\n",
       "      <th>2</th>\n",
       "      <td>38</td>\n",
       "      <td>[11913, 18159, 4461, 21616, 23622, 32433, 2884...</td>\n",
       "    </tr>\n",
       "    <tr>\n",
       "      <th>3</th>\n",
       "      <td>96</td>\n",
       "      <td>[20574, 30391, 40706, 25610, 27966, 24489, 39275]</td>\n",
       "    </tr>\n",
       "    <tr>\n",
       "      <th>4</th>\n",
       "      <td>98</td>\n",
       "      <td>[8859, 19731, 43654, 13176, 4357, 37664, 34065...</td>\n",
       "    </tr>\n",
       "  </tbody>\n",
       "</table>\n",
       "</div>"
      ],
      "text/plain": [
       "   order_id                                         product_id\n",
       "0         1  [49302, 11109, 10246, 49683, 43633, 13176, 472...\n",
       "1        36  [39612, 19660, 49235, 43086, 46620, 34497, 486...\n",
       "2        38  [11913, 18159, 4461, 21616, 23622, 32433, 2884...\n",
       "3        96  [20574, 30391, 40706, 25610, 27966, 24489, 39275]\n",
       "4        98  [8859, 19731, 43654, 13176, 4357, 37664, 34065..."
      ]
     },
     "execution_count": 6,
     "metadata": {},
     "output_type": "execute_result"
    }
   ],
   "source": [
    "products.head()"
   ]
  },
  {
   "cell_type": "code",
   "execution_count": 7,
   "id": "5a1c37f8",
   "metadata": {},
   "outputs": [
    {
     "data": {
      "text/plain": [
       "145"
      ]
     },
     "execution_count": 7,
     "metadata": {},
     "output_type": "execute_result"
    }
   ],
   "source": [
    "max_num_prods= len(max(products['product_id'], key=len))\n",
    "max_num_prods"
   ]
  },
  {
   "cell_type": "code",
   "execution_count": 8,
   "id": "11a52654",
   "metadata": {},
   "outputs": [],
   "source": [
    "# model training\n",
    "model = gensim.models.Word2Vec(sentences=products['product_id'], min_count=2, vector_size=100, window=max_num_prods, workers=8)"
   ]
  },
  {
   "cell_type": "code",
   "execution_count": 21,
   "id": "25994dae",
   "metadata": {},
   "outputs": [],
   "source": [
    "model.save('data/word2vec.model')"
   ]
  },
  {
   "cell_type": "markdown",
   "id": "5ca7e0e2",
   "metadata": {},
   "source": [
    "- `min_count` = 2 to ignore orders with only one product inside\n",
    "- vector_size = 100, default size for the word vectors\n",
    "- window =  max_num_prods because sequence of products added to cart are independent"
   ]
  },
  {
   "cell_type": "code",
   "execution_count": 9,
   "id": "8082f6d1",
   "metadata": {},
   "outputs": [
    {
     "data": {
      "text/plain": [
       "(49583, 100)"
      ]
     },
     "execution_count": 9,
     "metadata": {},
     "output_type": "execute_result"
    }
   ],
   "source": [
    "model.wv.vectors.shape"
   ]
  },
  {
   "cell_type": "code",
   "execution_count": 10,
   "id": "c34582f9",
   "metadata": {},
   "outputs": [
    {
     "data": {
      "text/plain": [
       "49583"
      ]
     },
     "execution_count": 10,
     "metadata": {},
     "output_type": "execute_result"
    }
   ],
   "source": [
    "len(model.wv.key_to_index.keys())"
   ]
  },
  {
   "cell_type": "code",
   "execution_count": 11,
   "id": "9845c0d9",
   "metadata": {},
   "outputs": [
    {
     "data": {
      "text/plain": [
       "<gensim.models.keyedvectors.KeyedVectors at 0x1ef57c0d0>"
      ]
     },
     "execution_count": 11,
     "metadata": {},
     "output_type": "execute_result"
    }
   ],
   "source": [
    "model.wv"
   ]
  },
  {
   "cell_type": "code",
   "execution_count": 12,
   "id": "79408bae",
   "metadata": {},
   "outputs": [
    {
     "data": {
      "text/html": [
       "<div>\n",
       "<style scoped>\n",
       "    .dataframe tbody tr th:only-of-type {\n",
       "        vertical-align: middle;\n",
       "    }\n",
       "\n",
       "    .dataframe tbody tr th {\n",
       "        vertical-align: top;\n",
       "    }\n",
       "\n",
       "    .dataframe thead th {\n",
       "        text-align: right;\n",
       "    }\n",
       "</style>\n",
       "<table border=\"1\" class=\"dataframe\">\n",
       "  <thead>\n",
       "    <tr style=\"text-align: right;\">\n",
       "      <th></th>\n",
       "      <th>0</th>\n",
       "      <th>1</th>\n",
       "      <th>2</th>\n",
       "      <th>3</th>\n",
       "      <th>4</th>\n",
       "      <th>5</th>\n",
       "      <th>6</th>\n",
       "      <th>7</th>\n",
       "      <th>8</th>\n",
       "      <th>9</th>\n",
       "      <th>...</th>\n",
       "      <th>90</th>\n",
       "      <th>91</th>\n",
       "      <th>92</th>\n",
       "      <th>93</th>\n",
       "      <th>94</th>\n",
       "      <th>95</th>\n",
       "      <th>96</th>\n",
       "      <th>97</th>\n",
       "      <th>98</th>\n",
       "      <th>99</th>\n",
       "    </tr>\n",
       "    <tr>\n",
       "      <th>product_id</th>\n",
       "      <th></th>\n",
       "      <th></th>\n",
       "      <th></th>\n",
       "      <th></th>\n",
       "      <th></th>\n",
       "      <th></th>\n",
       "      <th></th>\n",
       "      <th></th>\n",
       "      <th></th>\n",
       "      <th></th>\n",
       "      <th></th>\n",
       "      <th></th>\n",
       "      <th></th>\n",
       "      <th></th>\n",
       "      <th></th>\n",
       "      <th></th>\n",
       "      <th></th>\n",
       "      <th></th>\n",
       "      <th></th>\n",
       "      <th></th>\n",
       "      <th></th>\n",
       "    </tr>\n",
       "  </thead>\n",
       "  <tbody>\n",
       "    <tr>\n",
       "      <th>24852</th>\n",
       "      <td>3.240155</td>\n",
       "      <td>-0.814828</td>\n",
       "      <td>-1.009469</td>\n",
       "      <td>0.808219</td>\n",
       "      <td>-1.052866</td>\n",
       "      <td>2.631171</td>\n",
       "      <td>-1.241534</td>\n",
       "      <td>0.821271</td>\n",
       "      <td>2.797932</td>\n",
       "      <td>-1.450928</td>\n",
       "      <td>...</td>\n",
       "      <td>-1.994438</td>\n",
       "      <td>-4.731552</td>\n",
       "      <td>-3.783216</td>\n",
       "      <td>0.440279</td>\n",
       "      <td>-7.281581</td>\n",
       "      <td>-2.227767</td>\n",
       "      <td>0.476216</td>\n",
       "      <td>3.264765</td>\n",
       "      <td>0.671357</td>\n",
       "      <td>3.831982</td>\n",
       "    </tr>\n",
       "    <tr>\n",
       "      <th>13176</th>\n",
       "      <td>3.505543</td>\n",
       "      <td>1.815684</td>\n",
       "      <td>1.599661</td>\n",
       "      <td>-0.264513</td>\n",
       "      <td>1.117413</td>\n",
       "      <td>3.136415</td>\n",
       "      <td>-1.204752</td>\n",
       "      <td>-0.527119</td>\n",
       "      <td>2.194315</td>\n",
       "      <td>-0.053540</td>\n",
       "      <td>...</td>\n",
       "      <td>-2.996011</td>\n",
       "      <td>-2.497301</td>\n",
       "      <td>-5.272954</td>\n",
       "      <td>1.948144</td>\n",
       "      <td>-6.026057</td>\n",
       "      <td>-4.122658</td>\n",
       "      <td>-4.169160</td>\n",
       "      <td>7.842493</td>\n",
       "      <td>-1.113192</td>\n",
       "      <td>3.626555</td>\n",
       "    </tr>\n",
       "    <tr>\n",
       "      <th>21137</th>\n",
       "      <td>-0.277477</td>\n",
       "      <td>0.370455</td>\n",
       "      <td>-3.224723</td>\n",
       "      <td>0.924037</td>\n",
       "      <td>0.707349</td>\n",
       "      <td>-4.643426</td>\n",
       "      <td>-1.090670</td>\n",
       "      <td>-0.373300</td>\n",
       "      <td>4.111485</td>\n",
       "      <td>3.704359</td>\n",
       "      <td>...</td>\n",
       "      <td>-0.174097</td>\n",
       "      <td>1.834221</td>\n",
       "      <td>-1.536483</td>\n",
       "      <td>-1.072964</td>\n",
       "      <td>-5.756443</td>\n",
       "      <td>-3.475915</td>\n",
       "      <td>-3.152087</td>\n",
       "      <td>1.732230</td>\n",
       "      <td>0.000837</td>\n",
       "      <td>-0.779622</td>\n",
       "    </tr>\n",
       "  </tbody>\n",
       "</table>\n",
       "<p>3 rows × 100 columns</p>\n",
       "</div>"
      ],
      "text/plain": [
       "                  0         1         2         3         4         5   \\\n",
       "product_id                                                               \n",
       "24852       3.240155 -0.814828 -1.009469  0.808219 -1.052866  2.631171   \n",
       "13176       3.505543  1.815684  1.599661 -0.264513  1.117413  3.136415   \n",
       "21137      -0.277477  0.370455 -3.224723  0.924037  0.707349 -4.643426   \n",
       "\n",
       "                  6         7         8         9   ...        90        91  \\\n",
       "product_id                                          ...                       \n",
       "24852      -1.241534  0.821271  2.797932 -1.450928  ... -1.994438 -4.731552   \n",
       "13176      -1.204752 -0.527119  2.194315 -0.053540  ... -2.996011 -2.497301   \n",
       "21137      -1.090670 -0.373300  4.111485  3.704359  ... -0.174097  1.834221   \n",
       "\n",
       "                  92        93        94        95        96        97  \\\n",
       "product_id                                                               \n",
       "24852      -3.783216  0.440279 -7.281581 -2.227767  0.476216  3.264765   \n",
       "13176      -5.272954  1.948144 -6.026057 -4.122658 -4.169160  7.842493   \n",
       "21137      -1.536483 -1.072964 -5.756443 -3.475915 -3.152087  1.732230   \n",
       "\n",
       "                  98        99  \n",
       "product_id                      \n",
       "24852       0.671357  3.831982  \n",
       "13176      -1.113192  3.626555  \n",
       "21137       0.000837 -0.779622  \n",
       "\n",
       "[3 rows x 100 columns]"
      ]
     },
     "execution_count": 12,
     "metadata": {},
     "output_type": "execute_result"
    }
   ],
   "source": [
    "prods_embedding = pd.DataFrame(index=model.wv.key_to_index.keys(),\n",
    "                              data=model.wv.vectors).rename_axis('product_id')\n",
    "prods_embedding.head(3)"
   ]
  },
  {
   "cell_type": "code",
   "execution_count": 13,
   "id": "8fa8cab9",
   "metadata": {},
   "outputs": [],
   "source": [
    "def get_product_names(dic, pid):\n",
    "    products=pd.read_pickle('data/products.pickle')[['product_id', 'product_name', 'aisle', 'department']]\n",
    "    products['product_id'] = products['product_id'].astype('str')\n",
    "    print(products.loc[products['product_id']==pid])\n",
    "    return pd.DataFrame(dic, columns=['product_id', 'similarity']).merge(products)"
   ]
  },
  {
   "cell_type": "code",
   "execution_count": 23,
   "id": "0dbbd1ea",
   "metadata": {},
   "outputs": [
    {
     "name": "stdout",
     "output_type": "stream",
     "text": [
      "      product_id product_name         aisle department\n",
      "24851      24852       Banana  fresh fruits    produce\n"
     ]
    },
    {
     "data": {
      "text/html": [
       "<div>\n",
       "<style scoped>\n",
       "    .dataframe tbody tr th:only-of-type {\n",
       "        vertical-align: middle;\n",
       "    }\n",
       "\n",
       "    .dataframe tbody tr th {\n",
       "        vertical-align: top;\n",
       "    }\n",
       "\n",
       "    .dataframe thead th {\n",
       "        text-align: right;\n",
       "    }\n",
       "</style>\n",
       "<table border=\"1\" class=\"dataframe\">\n",
       "  <thead>\n",
       "    <tr style=\"text-align: right;\">\n",
       "      <th></th>\n",
       "      <th>product_id</th>\n",
       "      <th>similarity</th>\n",
       "      <th>product_name</th>\n",
       "      <th>aisle</th>\n",
       "      <th>department</th>\n",
       "    </tr>\n",
       "  </thead>\n",
       "  <tbody>\n",
       "    <tr>\n",
       "      <th>0</th>\n",
       "      <td>13176</td>\n",
       "      <td>0.791355</td>\n",
       "      <td>Bag of Organic Bananas</td>\n",
       "      <td>fresh fruits</td>\n",
       "      <td>produce</td>\n",
       "    </tr>\n",
       "    <tr>\n",
       "      <th>1</th>\n",
       "      <td>37067</td>\n",
       "      <td>0.583718</td>\n",
       "      <td>Organic Banana</td>\n",
       "      <td>fresh fruits</td>\n",
       "      <td>produce</td>\n",
       "    </tr>\n",
       "    <tr>\n",
       "      <th>2</th>\n",
       "      <td>4920</td>\n",
       "      <td>0.456135</td>\n",
       "      <td>Seedless Red Grapes</td>\n",
       "      <td>packaged vegetables fruits</td>\n",
       "      <td>produce</td>\n",
       "    </tr>\n",
       "    <tr>\n",
       "      <th>3</th>\n",
       "      <td>18870</td>\n",
       "      <td>0.445688</td>\n",
       "      <td>Pure-Castile Soap</td>\n",
       "      <td>soap</td>\n",
       "      <td>personal care</td>\n",
       "    </tr>\n",
       "    <tr>\n",
       "      <th>4</th>\n",
       "      <td>41787</td>\n",
       "      <td>0.438475</td>\n",
       "      <td>Bartlett Pears</td>\n",
       "      <td>fresh fruits</td>\n",
       "      <td>produce</td>\n",
       "    </tr>\n",
       "  </tbody>\n",
       "</table>\n",
       "</div>"
      ],
      "text/plain": [
       "  product_id  similarity            product_name                       aisle  \\\n",
       "0      13176    0.791355  Bag of Organic Bananas                fresh fruits   \n",
       "1      37067    0.583718          Organic Banana                fresh fruits   \n",
       "2       4920    0.456135     Seedless Red Grapes  packaged vegetables fruits   \n",
       "3      18870    0.445688       Pure-Castile Soap                        soap   \n",
       "4      41787    0.438475          Bartlett Pears                fresh fruits   \n",
       "\n",
       "      department  \n",
       "0        produce  \n",
       "1        produce  \n",
       "2        produce  \n",
       "3  personal care  \n",
       "4        produce  "
      ]
     },
     "execution_count": 23,
     "metadata": {},
     "output_type": "execute_result"
    }
   ],
   "source": [
    "pid = '24852'\n",
    "dic = model.wv.most_similar(pid, topn=5)\n",
    "get_product_names(dic, pid)"
   ]
  },
  {
   "cell_type": "markdown",
   "id": "524a46c2",
   "metadata": {},
   "source": [
    "Top 5 products most similar to Banana are:\n",
    "- Bag of Organic Bananas,\n",
    "- Organic Banana\n",
    "- Bartlett Pears\n",
    "- Seedless Red Grapes\n",
    "- Lentil & Quinoa Spaghetti\n",
    "\n",
    "Because the model is trained based on orders of products, the top similar products can be alternatives for customers"
   ]
  },
  {
   "cell_type": "code",
   "execution_count": 15,
   "id": "74c3fee6",
   "metadata": {},
   "outputs": [
    {
     "data": {
      "text/plain": [
       "[<matplotlib.lines.Line2D at 0x20cd9f190>]"
      ]
     },
     "execution_count": 15,
     "metadata": {},
     "output_type": "execute_result"
    },
    {
     "data": {
      "image/png": "[encoded data removed]",
      "text/plain": [
       "<Figure size 640x480 with 1 Axes>"
      ]
     },
     "metadata": {},
     "output_type": "display_data"
    }
   ],
   "source": [
    "# to choose how many components we need\n",
    "full_variance_explained = PCA().fit(prods_embedding.values).explained_variance_ratio_\n",
    "plt.plot(range(1, prods_embedding.shape[1]+1, ), full_variance_explained.cumsum())"
   ]
  },
  {
   "cell_type": "markdown",
   "id": "50362c99",
   "metadata": {},
   "source": [
    "choose ~ 40 components to retain 80% of variance"
   ]
  },
  {
   "cell_type": "code",
   "execution_count": 16,
   "id": "4aa0e7ed",
   "metadata": {},
   "outputs": [
    {
     "data": {
      "text/plain": [
       "19"
      ]
     },
     "execution_count": 16,
     "metadata": {},
     "output_type": "execute_result"
    }
   ],
   "source": [
    "var_retained = 0.6\n",
    "n_components = np.argmax(np.cumsum(full_variance_explained) >= var_retained) + 1\n",
    "n_components"
   ]
  },
  {
   "cell_type": "code",
   "execution_count": 17,
   "id": "d5315626",
   "metadata": {},
   "outputs": [
    {
     "data": {
      "text/plain": [
       "(49583, 19)"
      ]
     },
     "execution_count": 17,
     "metadata": {},
     "output_type": "execute_result"
    }
   ],
   "source": [
    "# pca project data\n",
    "pc = PCA(n_components, random_state=0).fit_transform(prods_embedding.values)\n",
    "pc.shape"
   ]
  },
  {
   "cell_type": "code",
   "execution_count": 18,
   "id": "046d7188",
   "metadata": {},
   "outputs": [
    {
     "data": {
      "text/html": [
       "<div>\n",
       "<style scoped>\n",
       "    .dataframe tbody tr th:only-of-type {\n",
       "        vertical-align: middle;\n",
       "    }\n",
       "\n",
       "    .dataframe tbody tr th {\n",
       "        vertical-align: top;\n",
       "    }\n",
       "\n",
       "    .dataframe thead th {\n",
       "        text-align: right;\n",
       "    }\n",
       "</style>\n",
       "<table border=\"1\" class=\"dataframe\">\n",
       "  <thead>\n",
       "    <tr style=\"text-align: right;\">\n",
       "      <th></th>\n",
       "      <th>product_id</th>\n",
       "      <th>p_embedding_0</th>\n",
       "      <th>p_embedding_1</th>\n",
       "      <th>p_embedding_2</th>\n",
       "      <th>p_embedding_3</th>\n",
       "      <th>p_embedding_4</th>\n",
       "      <th>p_embedding_5</th>\n",
       "      <th>p_embedding_6</th>\n",
       "      <th>p_embedding_7</th>\n",
       "      <th>p_embedding_8</th>\n",
       "      <th>p_embedding_9</th>\n",
       "      <th>p_embedding_10</th>\n",
       "      <th>p_embedding_11</th>\n",
       "      <th>p_embedding_12</th>\n",
       "      <th>p_embedding_13</th>\n",
       "      <th>p_embedding_14</th>\n",
       "      <th>p_embedding_15</th>\n",
       "      <th>p_embedding_16</th>\n",
       "      <th>p_embedding_17</th>\n",
       "      <th>p_embedding_18</th>\n",
       "    </tr>\n",
       "  </thead>\n",
       "  <tbody>\n",
       "    <tr>\n",
       "      <th>0</th>\n",
       "      <td>24852</td>\n",
       "      <td>6.049557</td>\n",
       "      <td>-8.130088</td>\n",
       "      <td>0.018596</td>\n",
       "      <td>6.875715</td>\n",
       "      <td>7.495923</td>\n",
       "      <td>6.216565</td>\n",
       "      <td>-0.370873</td>\n",
       "      <td>4.601676</td>\n",
       "      <td>0.575752</td>\n",
       "      <td>-2.012782</td>\n",
       "      <td>-0.582063</td>\n",
       "      <td>0.514722</td>\n",
       "      <td>1.120727</td>\n",
       "      <td>-1.229528</td>\n",
       "      <td>0.513221</td>\n",
       "      <td>0.641563</td>\n",
       "      <td>-1.518985</td>\n",
       "      <td>0.113287</td>\n",
       "      <td>-2.933996</td>\n",
       "    </tr>\n",
       "    <tr>\n",
       "      <th>1</th>\n",
       "      <td>13176</td>\n",
       "      <td>12.470158</td>\n",
       "      <td>-1.704334</td>\n",
       "      <td>0.072343</td>\n",
       "      <td>5.253304</td>\n",
       "      <td>2.097081</td>\n",
       "      <td>-0.755644</td>\n",
       "      <td>3.216786</td>\n",
       "      <td>3.447232</td>\n",
       "      <td>0.486502</td>\n",
       "      <td>-0.457143</td>\n",
       "      <td>-0.422156</td>\n",
       "      <td>0.979682</td>\n",
       "      <td>1.510663</td>\n",
       "      <td>-1.292960</td>\n",
       "      <td>0.905670</td>\n",
       "      <td>-1.181042</td>\n",
       "      <td>0.979282</td>\n",
       "      <td>-0.639094</td>\n",
       "      <td>-0.737839</td>\n",
       "    </tr>\n",
       "    <tr>\n",
       "      <th>2</th>\n",
       "      <td>21137</td>\n",
       "      <td>13.077903</td>\n",
       "      <td>-5.658292</td>\n",
       "      <td>1.629294</td>\n",
       "      <td>5.378038</td>\n",
       "      <td>5.362668</td>\n",
       "      <td>-1.129243</td>\n",
       "      <td>2.544068</td>\n",
       "      <td>2.926641</td>\n",
       "      <td>0.125844</td>\n",
       "      <td>-1.978158</td>\n",
       "      <td>-1.205909</td>\n",
       "      <td>1.376146</td>\n",
       "      <td>-0.487320</td>\n",
       "      <td>-0.611201</td>\n",
       "      <td>-0.305478</td>\n",
       "      <td>-0.898842</td>\n",
       "      <td>-1.509129</td>\n",
       "      <td>0.986313</td>\n",
       "      <td>0.024391</td>\n",
       "    </tr>\n",
       "    <tr>\n",
       "      <th>3</th>\n",
       "      <td>21903</td>\n",
       "      <td>15.958419</td>\n",
       "      <td>-4.710447</td>\n",
       "      <td>-1.137028</td>\n",
       "      <td>-2.539438</td>\n",
       "      <td>2.741052</td>\n",
       "      <td>4.508426</td>\n",
       "      <td>0.585827</td>\n",
       "      <td>1.987267</td>\n",
       "      <td>1.739174</td>\n",
       "      <td>-1.213676</td>\n",
       "      <td>1.338500</td>\n",
       "      <td>2.542121</td>\n",
       "      <td>0.024626</td>\n",
       "      <td>-2.068274</td>\n",
       "      <td>0.195086</td>\n",
       "      <td>2.276981</td>\n",
       "      <td>-0.839333</td>\n",
       "      <td>0.893999</td>\n",
       "      <td>0.057966</td>\n",
       "    </tr>\n",
       "    <tr>\n",
       "      <th>4</th>\n",
       "      <td>47209</td>\n",
       "      <td>17.073814</td>\n",
       "      <td>-0.365114</td>\n",
       "      <td>-0.963488</td>\n",
       "      <td>2.121872</td>\n",
       "      <td>1.753384</td>\n",
       "      <td>1.333855</td>\n",
       "      <td>2.311964</td>\n",
       "      <td>1.642996</td>\n",
       "      <td>0.381703</td>\n",
       "      <td>-0.774548</td>\n",
       "      <td>-0.670450</td>\n",
       "      <td>1.749778</td>\n",
       "      <td>1.251452</td>\n",
       "      <td>-1.292340</td>\n",
       "      <td>-0.367877</td>\n",
       "      <td>-2.007529</td>\n",
       "      <td>0.141097</td>\n",
       "      <td>0.640995</td>\n",
       "      <td>0.027022</td>\n",
       "    </tr>\n",
       "  </tbody>\n",
       "</table>\n",
       "</div>"
      ],
      "text/plain": [
       "  product_id  p_embedding_0  p_embedding_1  p_embedding_2  p_embedding_3  \\\n",
       "0      24852       6.049557      -8.130088       0.018596       6.875715   \n",
       "1      13176      12.470158      -1.704334       0.072343       5.253304   \n",
       "2      21137      13.077903      -5.658292       1.629294       5.378038   \n",
       "3      21903      15.958419      -4.710447      -1.137028      -2.539438   \n",
       "4      47209      17.073814      -0.365114      -0.963488       2.121872   \n",
       "\n",
       "   p_embedding_4  p_embedding_5  p_embedding_6  p_embedding_7  p_embedding_8  \\\n",
       "0       7.495923       6.216565      -0.370873       4.601676       0.575752   \n",
       "1       2.097081      -0.755644       3.216786       3.447232       0.486502   \n",
       "2       5.362668      -1.129243       2.544068       2.926641       0.125844   \n",
       "3       2.741052       4.508426       0.585827       1.987267       1.739174   \n",
       "4       1.753384       1.333855       2.311964       1.642996       0.381703   \n",
       "\n",
       "   p_embedding_9  p_embedding_10  p_embedding_11  p_embedding_12  \\\n",
       "0      -2.012782       -0.582063        0.514722        1.120727   \n",
       "1      -0.457143       -0.422156        0.979682        1.510663   \n",
       "2      -1.978158       -1.205909        1.376146       -0.487320   \n",
       "3      -1.213676        1.338500        2.542121        0.024626   \n",
       "4      -0.774548       -0.670450        1.749778        1.251452   \n",
       "\n",
       "   p_embedding_13  p_embedding_14  p_embedding_15  p_embedding_16  \\\n",
       "0       -1.229528        0.513221        0.641563       -1.518985   \n",
       "1       -1.292960        0.905670       -1.181042        0.979282   \n",
       "2       -0.611201       -0.305478       -0.898842       -1.509129   \n",
       "3       -2.068274        0.195086        2.276981       -0.839333   \n",
       "4       -1.292340       -0.367877       -2.007529        0.141097   \n",
       "\n",
       "   p_embedding_17  p_embedding_18  \n",
       "0        0.113287       -2.933996  \n",
       "1       -0.639094       -0.737839  \n",
       "2        0.986313        0.024391  \n",
       "3        0.893999        0.057966  \n",
       "4        0.640995        0.027022  "
      ]
     },
     "execution_count": 18,
     "metadata": {},
     "output_type": "execute_result"
    }
   ],
   "source": [
    "product_embedding = pd.DataFrame(index=prods_embedding.index, data=pc, columns=np.arange(pc.shape[1])).add_prefix('p_embedding_').reset_index()\n",
    "product_embedding.head()"
   ]
  },
  {
   "cell_type": "code",
   "execution_count": 19,
   "id": "b3a32906",
   "metadata": {},
   "outputs": [],
   "source": [
    "# convert produc\n",
    "product_embedding.product_id = product_embedding.product_id.astype(int)"
   ]
  },
  {
   "cell_type": "code",
   "execution_count": 20,
   "id": "f792f9d0",
   "metadata": {},
   "outputs": [],
   "source": [
    "product_embedding.to_pickle('data/product_embedding.pickle')"
   ]
  },
  {
   "cell_type": "code",
   "execution_count": null,
   "id": "14c251db",
   "metadata": {},
   "outputs": [],
   "source": []
  }
 ],
 "metadata": {
  "kernelspec": {
   "display_name": "Python 3 (ipykernel)",
   "language": "python",
   "name": "python3"
  },
  "language_info": {
   "codemirror_mode": {
    "name": "ipython",
    "version": 3
   },
   "file_extension": ".py",
   "mimetype": "text/x-python",
   "name": "python",
   "nbconvert_exporter": "python",
   "pygments_lexer": "ipython3",
   "version": "3.9.10"
  }
 },
 "nbformat": 4,
 "nbformat_minor": 5
}
