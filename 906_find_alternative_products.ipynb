{
 "cells": [
  {
   "cell_type": "code",
   "execution_count": 1,
   "id": "60d4dfa7",
   "metadata": {},
   "outputs": [],
   "source": [
    "import pandas as pd\n",
    "import numpy as np\n",
    "import seaborn as sns\n",
    "import matplotlib.pyplot as plt\n",
    "from utils import read_data\n",
    "from gensim.models import Word2Vec\n",
    "import time\n",
    "from tqdm import tqdm\n",
    "import concurrent.futures"
   ]
  },
  {
   "cell_type": "code",
   "execution_count": 2,
   "id": "ec6cf594",
   "metadata": {},
   "outputs": [],
   "source": [
    "model = Word2Vec.load('data/word2vec.model')"
   ]
  },
  {
   "cell_type": "code",
   "execution_count": 20,
   "id": "53fd3b98",
   "metadata": {},
   "outputs": [
    {
     "data": {
      "text/plain": [
       "dict_keys"
      ]
     },
     "execution_count": 20,
     "metadata": {},
     "output_type": "execute_result"
    }
   ],
   "source": [
    "word_list = model.wv.key_to_index.keys()\n",
    "type(word_list)"
   ]
  },
  {
   "cell_type": "code",
   "execution_count": 24,
   "id": "db1e67fc",
   "metadata": {},
   "outputs": [
    {
     "name": "stdout",
     "output_type": "stream",
     "text": [
      "True\n"
     ]
    }
   ],
   "source": [
    "if '1005' in model.wv.key_to_index:\n",
    "    print(True)\n",
    "else:\n",
    "    print(False)"
   ]
  },
  {
   "cell_type": "code",
   "execution_count": 74,
   "id": "90861284",
   "metadata": {},
   "outputs": [
    {
     "data": {
      "text/plain": [
       "product_name    All Natural Stevia Liquid Extract Sweetener\n",
       "aisle                                    baking ingredients\n",
       "department                                           pantry\n",
       "Name: 1002, dtype: object"
      ]
     },
     "execution_count": 74,
     "metadata": {},
     "output_type": "execute_result"
    }
   ],
   "source": [
    "products.loc['1002']"
   ]
  },
  {
   "cell_type": "code",
   "execution_count": 77,
   "id": "9bba6d08",
   "metadata": {},
   "outputs": [
    {
     "data": {
      "text/plain": [
       "array(['pantry', 'pantry'], dtype=object)"
      ]
     },
     "execution_count": 77,
     "metadata": {},
     "output_type": "execute_result"
    }
   ],
   "source": [
    "products.loc[['1002', '1003']].department.values"
   ]
  },
  {
   "cell_type": "code",
   "execution_count": 81,
   "id": "670df55d",
   "metadata": {},
   "outputs": [
    {
     "name": "stdout",
     "output_type": "stream",
     "text": [
      "49582\n",
      "Empty DataFrame\n",
      "Columns: [product_id, product_name, aisle, department]\n",
      "Index: []\n"
     ]
    },
    {
     "data": {
      "text/html": [
       "<div>\n",
       "<style scoped>\n",
       "    .dataframe tbody tr th:only-of-type {\n",
       "        vertical-align: middle;\n",
       "    }\n",
       "\n",
       "    .dataframe tbody tr th {\n",
       "        vertical-align: top;\n",
       "    }\n",
       "\n",
       "    .dataframe thead th {\n",
       "        text-align: right;\n",
       "    }\n",
       "</style>\n",
       "<table border=\"1\" class=\"dataframe\">\n",
       "  <thead>\n",
       "    <tr style=\"text-align: right;\">\n",
       "      <th></th>\n",
       "      <th>product_id</th>\n",
       "      <th>similarity</th>\n",
       "      <th>product_name</th>\n",
       "      <th>aisle</th>\n",
       "      <th>department</th>\n",
       "    </tr>\n",
       "  </thead>\n",
       "  <tbody>\n",
       "    <tr>\n",
       "      <th>0</th>\n",
       "      <td>30639</td>\n",
       "      <td>0.726292</td>\n",
       "      <td>Organic Orange Juice</td>\n",
       "      <td>juice nectars</td>\n",
       "      <td>beverages</td>\n",
       "    </tr>\n",
       "    <tr>\n",
       "      <th>1</th>\n",
       "      <td>17131</td>\n",
       "      <td>0.663997</td>\n",
       "      <td>Cold-Pressed Organic Apple</td>\n",
       "      <td>refrigerated</td>\n",
       "      <td>beverages</td>\n",
       "    </tr>\n",
       "    <tr>\n",
       "      <th>2</th>\n",
       "      <td>5589</td>\n",
       "      <td>0.649040</td>\n",
       "      <td>Tangerine Fruit Juice</td>\n",
       "      <td>refrigerated</td>\n",
       "      <td>beverages</td>\n",
       "    </tr>\n",
       "    <tr>\n",
       "      <th>3</th>\n",
       "      <td>27729</td>\n",
       "      <td>0.640782</td>\n",
       "      <td>Cold-Pressed Organic Orange</td>\n",
       "      <td>refrigerated</td>\n",
       "      <td>beverages</td>\n",
       "    </tr>\n",
       "    <tr>\n",
       "      <th>4</th>\n",
       "      <td>16387</td>\n",
       "      <td>0.610981</td>\n",
       "      <td>Cold-Pressed Organic Grapefruit</td>\n",
       "      <td>juice nectars</td>\n",
       "      <td>beverages</td>\n",
       "    </tr>\n",
       "    <tr>\n",
       "      <th>...</th>\n",
       "      <td>...</td>\n",
       "      <td>...</td>\n",
       "      <td>...</td>\n",
       "      <td>...</td>\n",
       "      <td>...</td>\n",
       "    </tr>\n",
       "    <tr>\n",
       "      <th>49577</th>\n",
       "      <td>31486</td>\n",
       "      <td>-0.496597</td>\n",
       "      <td>Zero Calorie Sweetener</td>\n",
       "      <td>baking ingredients</td>\n",
       "      <td>pantry</td>\n",
       "    </tr>\n",
       "    <tr>\n",
       "      <th>49578</th>\n",
       "      <td>11773</td>\n",
       "      <td>-0.498103</td>\n",
       "      <td>Classic Roast Medium Ground Coffee</td>\n",
       "      <td>coffee</td>\n",
       "      <td>beverages</td>\n",
       "    </tr>\n",
       "    <tr>\n",
       "      <th>49579</th>\n",
       "      <td>13072</td>\n",
       "      <td>-0.502906</td>\n",
       "      <td>Bay Scallops</td>\n",
       "      <td>seafood counter</td>\n",
       "      <td>meat seafood</td>\n",
       "    </tr>\n",
       "    <tr>\n",
       "      <th>49580</th>\n",
       "      <td>6581</td>\n",
       "      <td>-0.506150</td>\n",
       "      <td>Cucumber</td>\n",
       "      <td>fresh vegetables</td>\n",
       "      <td>produce</td>\n",
       "    </tr>\n",
       "    <tr>\n",
       "      <th>49581</th>\n",
       "      <td>19059</td>\n",
       "      <td>-0.512478</td>\n",
       "      <td>California Cauliflower Cello</td>\n",
       "      <td>fresh vegetables</td>\n",
       "      <td>produce</td>\n",
       "    </tr>\n",
       "  </tbody>\n",
       "</table>\n",
       "<p>49582 rows × 5 columns</p>\n",
       "</div>"
      ],
      "text/plain": [
       "      product_id  similarity                        product_name  \\\n",
       "0          30639    0.726292                Organic Orange Juice   \n",
       "1          17131    0.663997          Cold-Pressed Organic Apple   \n",
       "2           5589    0.649040               Tangerine Fruit Juice   \n",
       "3          27729    0.640782         Cold-Pressed Organic Orange   \n",
       "4          16387    0.610981     Cold-Pressed Organic Grapefruit   \n",
       "...          ...         ...                                 ...   \n",
       "49577      31486   -0.496597              Zero Calorie Sweetener   \n",
       "49578      11773   -0.498103  Classic Roast Medium Ground Coffee   \n",
       "49579      13072   -0.502906                        Bay Scallops   \n",
       "49580       6581   -0.506150                            Cucumber   \n",
       "49581      19059   -0.512478        California Cauliflower Cello   \n",
       "\n",
       "                    aisle    department  \n",
       "0           juice nectars     beverages  \n",
       "1            refrigerated     beverages  \n",
       "2            refrigerated     beverages  \n",
       "3            refrigerated     beverages  \n",
       "4           juice nectars     beverages  \n",
       "...                   ...           ...  \n",
       "49577  baking ingredients        pantry  \n",
       "49578              coffee     beverages  \n",
       "49579     seafood counter  meat seafood  \n",
       "49580    fresh vegetables       produce  \n",
       "49581    fresh vegetables       produce  \n",
       "\n",
       "[49582 rows x 5 columns]"
      ]
     },
     "execution_count": 81,
     "metadata": {},
     "output_type": "execute_result"
    }
   ],
   "source": [
    "def get_product_names(dic, pid):\n",
    "    products=pd.read_pickle('data/products.pickle')[['product_id', 'product_name', 'aisle', 'department']]\n",
    "    products['product_id'] = products['product_id'].astype('str')\n",
    "    print(products.loc[products['product_id']==pid])\n",
    "    return pd.DataFrame(dic, columns=['product_id', 'similarity']).merge(products)\n",
    "pid = 1003\n",
    "dic = model.wv.most_similar(pid, topn=len(model.wv))\n",
    "print(len(dic))\n",
    "get_product_names(dic, pid)"
   ]
  },
  {
   "cell_type": "code",
   "execution_count": 42,
   "id": "b7a05d48",
   "metadata": {},
   "outputs": [
    {
     "data": {
      "text/plain": [
       "[('44031', 0.7960940003395081),\n",
       " ('8013', 0.7890138030052185),\n",
       " ('130', 0.7789651155471802),\n",
       " ('48812', 0.7788556814193726),\n",
       " ('21572', 0.7785413861274719)]"
      ]
     },
     "execution_count": 42,
     "metadata": {},
     "output_type": "execute_result"
    }
   ],
   "source": [
    "dic"
   ]
  },
  {
   "cell_type": "code",
   "execution_count": 30,
   "id": "33be9130",
   "metadata": {},
   "outputs": [],
   "source": [
    "products=pd.read_pickle('data/products.pickle')[['product_id', 'product_name', 'aisle', 'department']].set_index('product_id')\n",
    "products.index = products.index.astype('str')"
   ]
  },
  {
   "cell_type": "code",
   "execution_count": 31,
   "id": "b14dc993",
   "metadata": {},
   "outputs": [
    {
     "data": {
      "text/plain": [
       "49583"
      ]
     },
     "execution_count": 31,
     "metadata": {},
     "output_type": "execute_result"
    }
   ],
   "source": [
    "vocab_len = len(model.wv)\n",
    "vocab_len"
   ]
  },
  {
   "cell_type": "code",
   "execution_count": 60,
   "id": "af482644",
   "metadata": {},
   "outputs": [
    {
     "name": "stdout",
     "output_type": "stream",
     "text": [
      "{'1003': 'pantry'}\n",
      "1003 pantry\n"
     ]
    }
   ],
   "source": [
    "lst = {'1003':products.loc['1003', 'department']}\n",
    "print(lst)\n",
    "for k, v in lst.items():\n",
    "    print(k, v)"
   ]
  },
  {
   "cell_type": "code",
   "execution_count": 82,
   "id": "e7df1aef",
   "metadata": {},
   "outputs": [
    {
     "name": "stderr",
     "output_type": "stream",
     "text": [
      "100%|█████████████████████████████████████████████| 1/1 [00:00<00:00,  2.49it/s]"
     ]
    },
    {
     "name": "stdout",
     "output_type": "stream",
     "text": [
      "code using 0.01 mins\n"
     ]
    },
    {
     "name": "stderr",
     "output_type": "stream",
     "text": [
      "\n"
     ]
    }
   ],
   "source": [
    "start_time = time.time()\n",
    "\n",
    "threshold = 0.5\n",
    "res = []\n",
    "for pid, department in tqdm({'1003':products.loc['1003', 'department']}.items()):\n",
    "#     print(pid, department)\n",
    "    for pair in model.wv.most_similar(pid, topn=len(model.wv)):\n",
    "        sub_pid, sub_sim_score = pair[0], pair[1]\n",
    "        sub_department = products.at[sub_pid, 'department']\n",
    "        \n",
    "        if sub_department == department and sub_sim_score > threshold:\n",
    "            res.append([pid, sub_pid, sub_sim_score])\n",
    "            \n",
    "end_time = time.time()\n",
    "print('code using {:.2f} mins'.format((end_time - start_time) / 60))"
   ]
  },
  {
   "cell_type": "code",
   "execution_count": 83,
   "id": "d33d920a",
   "metadata": {},
   "outputs": [
    {
     "data": {
      "text/plain": [
       "47"
      ]
     },
     "execution_count": 83,
     "metadata": {},
     "output_type": "execute_result"
    }
   ],
   "source": [
    "len(res)"
   ]
  },
  {
   "cell_type": "code",
   "execution_count": 70,
   "id": "51dcfdad",
   "metadata": {},
   "outputs": [
    {
     "data": {
      "text/plain": [
       "244"
      ]
     },
     "execution_count": 70,
     "metadata": {},
     "output_type": "execute_result"
    }
   ],
   "source": [
    "47 + 197"
   ]
  },
  {
   "cell_type": "code",
   "execution_count": 106,
   "id": "6e9d63a5",
   "metadata": {},
   "outputs": [
    {
     "data": {
      "text/plain": [
       "numpy.ndarray"
      ]
     },
     "execution_count": 106,
     "metadata": {},
     "output_type": "execute_result"
    }
   ],
   "source": [
    "type(products['department'].head().reset_index().values)"
   ]
  },
  {
   "cell_type": "code",
   "execution_count": 108,
   "id": "8af088c0",
   "metadata": {},
   "outputs": [
    {
     "data": {
      "text/plain": [
       "array(['1', '2', '3', ..., '49686', '49687', '49688'], dtype=object)"
      ]
     },
     "execution_count": 108,
     "metadata": {},
     "output_type": "execute_result"
    }
   ],
   "source": [
    "products.index.values"
   ]
  },
  {
   "cell_type": "code",
   "execution_count": 105,
   "id": "0b8239f9",
   "metadata": {},
   "outputs": [
    {
     "name": "stdout",
     "output_type": "stream",
     "text": [
      "<class 'generator'>\n"
     ]
    },
    {
     "name": "stderr",
     "output_type": "stream",
     "text": [
      "Process SpawnProcess-7:\n",
      "Process SpawnProcess-6:\n",
      "Traceback (most recent call last):\n",
      "Traceback (most recent call last):\n",
      "  File \"/Users/qiaowang/opt/anaconda3/envs/Learning/lib/python3.9/multiprocessing/process.py\", line 315, in _bootstrap\n",
      "    self.run()\n",
      "  File \"/Users/qiaowang/opt/anaconda3/envs/Learning/lib/python3.9/multiprocessing/process.py\", line 315, in _bootstrap\n",
      "    self.run()\n",
      "  File \"/Users/qiaowang/opt/anaconda3/envs/Learning/lib/python3.9/multiprocessing/process.py\", line 108, in run\n",
      "    self._target(*self._args, **self._kwargs)\n",
      "  File \"/Users/qiaowang/opt/anaconda3/envs/Learning/lib/python3.9/multiprocessing/process.py\", line 108, in run\n",
      "    self._target(*self._args, **self._kwargs)\n",
      "  File \"/Users/qiaowang/opt/anaconda3/envs/Learning/lib/python3.9/concurrent/futures/process.py\", line 237, in _process_worker\n",
      "    call_item = call_queue.get(block=True)\n",
      "  File \"/Users/qiaowang/opt/anaconda3/envs/Learning/lib/python3.9/concurrent/futures/process.py\", line 237, in _process_worker\n",
      "    call_item = call_queue.get(block=True)\n",
      "  File \"/Users/qiaowang/opt/anaconda3/envs/Learning/lib/python3.9/multiprocessing/queues.py\", line 122, in get\n",
      "    return _ForkingPickler.loads(res)\n",
      "  File \"/Users/qiaowang/opt/anaconda3/envs/Learning/lib/python3.9/multiprocessing/queues.py\", line 122, in get\n",
      "    return _ForkingPickler.loads(res)\n",
      "AttributeError: Can't get attribute 'multi' on <module '__main__' (built-in)>\n",
      "AttributeError: Can't get attribute 'multi' on <module '__main__' (built-in)>\n",
      "Process SpawnProcess-8:\n",
      "Traceback (most recent call last):\n",
      "  File \"/Users/qiaowang/opt/anaconda3/envs/Learning/lib/python3.9/multiprocessing/process.py\", line 315, in _bootstrap\n",
      "    self.run()\n",
      "  File \"/Users/qiaowang/opt/anaconda3/envs/Learning/lib/python3.9/multiprocessing/process.py\", line 108, in run\n",
      "    self._target(*self._args, **self._kwargs)\n",
      "  File \"/Users/qiaowang/opt/anaconda3/envs/Learning/lib/python3.9/concurrent/futures/process.py\", line 237, in _process_worker\n",
      "    call_item = call_queue.get(block=True)\n",
      "  File \"/Users/qiaowang/opt/anaconda3/envs/Learning/lib/python3.9/multiprocessing/queues.py\", line 122, in get\n",
      "    return _ForkingPickler.loads(res)\n",
      "AttributeError: Can't get attribute 'multi' on <module '__main__' (built-in)>\n"
     ]
    },
    {
     "ename": "BrokenProcessPool",
     "evalue": "A process in the process pool was terminated abruptly while the future was running or pending.",
     "output_type": "error",
     "traceback": [
      "\u001b[0;31m---------------------------------------------------------------------------\u001b[0m",
      "\u001b[0;31mBrokenProcessPool\u001b[0m                         Traceback (most recent call last)",
      "Input \u001b[0;32mIn [105]\u001b[0m, in \u001b[0;36m<cell line: 10>\u001b[0;34m()\u001b[0m\n\u001b[1;32m     12\u001b[0m     results \u001b[38;5;241m=\u001b[39m executor\u001b[38;5;241m.\u001b[39mmap(multi, products[\u001b[38;5;124m'\u001b[39m\u001b[38;5;124mdepartment\u001b[39m\u001b[38;5;124m'\u001b[39m]\u001b[38;5;241m.\u001b[39mhead()\u001b[38;5;241m.\u001b[39mreset_index()\u001b[38;5;241m.\u001b[39mvalues)\n\u001b[1;32m     13\u001b[0m \u001b[38;5;28mprint\u001b[39m(\u001b[38;5;28mtype\u001b[39m(results))\n\u001b[0;32m---> 14\u001b[0m res \u001b[38;5;241m=\u001b[39m [result \u001b[38;5;28;01mfor\u001b[39;00m result \u001b[38;5;129;01min\u001b[39;00m results]\n",
      "Input \u001b[0;32mIn [105]\u001b[0m, in \u001b[0;36m<listcomp>\u001b[0;34m(.0)\u001b[0m\n\u001b[1;32m     12\u001b[0m     results \u001b[38;5;241m=\u001b[39m executor\u001b[38;5;241m.\u001b[39mmap(multi, products[\u001b[38;5;124m'\u001b[39m\u001b[38;5;124mdepartment\u001b[39m\u001b[38;5;124m'\u001b[39m]\u001b[38;5;241m.\u001b[39mhead()\u001b[38;5;241m.\u001b[39mreset_index()\u001b[38;5;241m.\u001b[39mvalues)\n\u001b[1;32m     13\u001b[0m \u001b[38;5;28mprint\u001b[39m(\u001b[38;5;28mtype\u001b[39m(results))\n\u001b[0;32m---> 14\u001b[0m res \u001b[38;5;241m=\u001b[39m [result \u001b[38;5;28;01mfor\u001b[39;00m result \u001b[38;5;129;01min\u001b[39;00m results]\n",
      "File \u001b[0;32m~/opt/anaconda3/envs/Learning/lib/python3.9/concurrent/futures/process.py:559\u001b[0m, in \u001b[0;36m_chain_from_iterable_of_lists\u001b[0;34m(iterable)\u001b[0m\n\u001b[1;32m    553\u001b[0m \u001b[38;5;28;01mdef\u001b[39;00m \u001b[38;5;21m_chain_from_iterable_of_lists\u001b[39m(iterable):\n\u001b[1;32m    554\u001b[0m     \u001b[38;5;124;03m\"\"\"\u001b[39;00m\n\u001b[1;32m    555\u001b[0m \u001b[38;5;124;03m    Specialized implementation of itertools.chain.from_iterable.\u001b[39;00m\n\u001b[1;32m    556\u001b[0m \u001b[38;5;124;03m    Each item in *iterable* should be a list.  This function is\u001b[39;00m\n\u001b[1;32m    557\u001b[0m \u001b[38;5;124;03m    careful not to keep references to yielded objects.\u001b[39;00m\n\u001b[1;32m    558\u001b[0m \u001b[38;5;124;03m    \"\"\"\u001b[39;00m\n\u001b[0;32m--> 559\u001b[0m     \u001b[38;5;28;01mfor\u001b[39;00m element \u001b[38;5;129;01min\u001b[39;00m iterable:\n\u001b[1;32m    560\u001b[0m         element\u001b[38;5;241m.\u001b[39mreverse()\n\u001b[1;32m    561\u001b[0m         \u001b[38;5;28;01mwhile\u001b[39;00m element:\n",
      "File \u001b[0;32m~/opt/anaconda3/envs/Learning/lib/python3.9/concurrent/futures/_base.py:609\u001b[0m, in \u001b[0;36mExecutor.map.<locals>.result_iterator\u001b[0;34m()\u001b[0m\n\u001b[1;32m    606\u001b[0m \u001b[38;5;28;01mwhile\u001b[39;00m fs:\n\u001b[1;32m    607\u001b[0m     \u001b[38;5;66;03m# Careful not to keep a reference to the popped future\u001b[39;00m\n\u001b[1;32m    608\u001b[0m     \u001b[38;5;28;01mif\u001b[39;00m timeout \u001b[38;5;129;01mis\u001b[39;00m \u001b[38;5;28;01mNone\u001b[39;00m:\n\u001b[0;32m--> 609\u001b[0m         \u001b[38;5;28;01myield\u001b[39;00m \u001b[43mfs\u001b[49m\u001b[38;5;241;43m.\u001b[39;49m\u001b[43mpop\u001b[49m\u001b[43m(\u001b[49m\u001b[43m)\u001b[49m\u001b[38;5;241;43m.\u001b[39;49m\u001b[43mresult\u001b[49m\u001b[43m(\u001b[49m\u001b[43m)\u001b[49m\n\u001b[1;32m    610\u001b[0m     \u001b[38;5;28;01melse\u001b[39;00m:\n\u001b[1;32m    611\u001b[0m         \u001b[38;5;28;01myield\u001b[39;00m fs\u001b[38;5;241m.\u001b[39mpop()\u001b[38;5;241m.\u001b[39mresult(end_time \u001b[38;5;241m-\u001b[39m time\u001b[38;5;241m.\u001b[39mmonotonic())\n",
      "File \u001b[0;32m~/opt/anaconda3/envs/Learning/lib/python3.9/concurrent/futures/_base.py:439\u001b[0m, in \u001b[0;36mFuture.result\u001b[0;34m(self, timeout)\u001b[0m\n\u001b[1;32m    437\u001b[0m     \u001b[38;5;28;01mraise\u001b[39;00m CancelledError()\n\u001b[1;32m    438\u001b[0m \u001b[38;5;28;01melif\u001b[39;00m \u001b[38;5;28mself\u001b[39m\u001b[38;5;241m.\u001b[39m_state \u001b[38;5;241m==\u001b[39m FINISHED:\n\u001b[0;32m--> 439\u001b[0m     \u001b[38;5;28;01mreturn\u001b[39;00m \u001b[38;5;28;43mself\u001b[39;49m\u001b[38;5;241;43m.\u001b[39;49m\u001b[43m__get_result\u001b[49m\u001b[43m(\u001b[49m\u001b[43m)\u001b[49m\n\u001b[1;32m    441\u001b[0m \u001b[38;5;28mself\u001b[39m\u001b[38;5;241m.\u001b[39m_condition\u001b[38;5;241m.\u001b[39mwait(timeout)\n\u001b[1;32m    443\u001b[0m \u001b[38;5;28;01mif\u001b[39;00m \u001b[38;5;28mself\u001b[39m\u001b[38;5;241m.\u001b[39m_state \u001b[38;5;129;01min\u001b[39;00m [CANCELLED, CANCELLED_AND_NOTIFIED]:\n",
      "File \u001b[0;32m~/opt/anaconda3/envs/Learning/lib/python3.9/concurrent/futures/_base.py:391\u001b[0m, in \u001b[0;36mFuture.__get_result\u001b[0;34m(self)\u001b[0m\n\u001b[1;32m    389\u001b[0m \u001b[38;5;28;01mif\u001b[39;00m \u001b[38;5;28mself\u001b[39m\u001b[38;5;241m.\u001b[39m_exception:\n\u001b[1;32m    390\u001b[0m     \u001b[38;5;28;01mtry\u001b[39;00m:\n\u001b[0;32m--> 391\u001b[0m         \u001b[38;5;28;01mraise\u001b[39;00m \u001b[38;5;28mself\u001b[39m\u001b[38;5;241m.\u001b[39m_exception\n\u001b[1;32m    392\u001b[0m     \u001b[38;5;28;01mfinally\u001b[39;00m:\n\u001b[1;32m    393\u001b[0m         \u001b[38;5;66;03m# Break a reference cycle with the exception in self._exception\u001b[39;00m\n\u001b[1;32m    394\u001b[0m         \u001b[38;5;28mself\u001b[39m \u001b[38;5;241m=\u001b[39m \u001b[38;5;28;01mNone\u001b[39;00m\n",
      "\u001b[0;31mBrokenProcessPool\u001b[0m: A process in the process pool was terminated abruptly while the future was running or pending."
     ]
    }
   ],
   "source": [
    "threshold = 0.5\n",
    "res = []\n",
    "def multi(pid, department):\n",
    "    for pair in model.wv.most_similar(pid, topn=len(model.wv)):\n",
    "        sub_pid, sub_sim_score = pair[0], pair[1]\n",
    "        sub_department = products.at[sub_pid, 'department']\n",
    "        \n",
    "        if sub_department == department and sub_sim_score > threshold:\n",
    "            return [pid, sub_pid, sub_sim_score]\n",
    "if __name__ == '__main__':          \n",
    "    with concurrent.futures.ProcessPoolExecutor() as executor:\n",
    "        results = executor.map(multi, products['department'].head().reset_index().values)\n",
    "    print(type(results))\n",
    "    res = [result for result in results]"
   ]
  },
  {
   "cell_type": "code",
   "execution_count": 93,
   "id": "dcec6dfb",
   "metadata": {},
   "outputs": [
    {
     "data": {
      "text/plain": [
       "2257"
      ]
     },
     "execution_count": 93,
     "metadata": {},
     "output_type": "execute_result"
    }
   ],
   "source": [
    "len(res)"
   ]
  },
  {
   "cell_type": "code",
   "execution_count": 115,
   "id": "9e27d915",
   "metadata": {},
   "outputs": [
    {
     "data": {
      "text/plain": [
       "(452, 3)"
      ]
     },
     "execution_count": 115,
     "metadata": {},
     "output_type": "execute_result"
    }
   ],
   "source": [
    "res_df = pd.DataFrame(res, columns=['product_id', 'subsitute_id', 'similarity_score'])\n",
    "res_df.loc[res_df.product_id=='1'].shape"
   ]
  },
  {
   "cell_type": "code",
   "execution_count": 98,
   "id": "3385e49c",
   "metadata": {},
   "outputs": [
    {
     "data": {
      "text/plain": [
       "product_name    Cheez-It Cheddar Cracker\n",
       "aisle                           crackers\n",
       "department                        snacks\n",
       "Name: 21572, dtype: object"
      ]
     },
     "execution_count": 98,
     "metadata": {},
     "output_type": "execute_result"
    }
   ],
   "source": [
    "products.loc['21572', ]"
   ]
  },
  {
   "cell_type": "code",
   "execution_count": 31,
   "id": "bb1b7f58",
   "metadata": {},
   "outputs": [
    {
     "data": {
      "text/plain": [
       "array([[1, 'snacks'],\n",
       "       [2, 'pantry'],\n",
       "       [3, 'beverages'],\n",
       "       [4, 'frozen'],\n",
       "       [5, 'pantry']], dtype=object)"
      ]
     },
     "execution_count": 31,
     "metadata": {},
     "output_type": "execute_result"
    }
   ],
   "source": [
    "products['department'].reset_index().head().values"
   ]
  },
  {
   "cell_type": "code",
   "execution_count": null,
   "id": "a97cdb6a",
   "metadata": {},
   "outputs": [],
   "source": []
  }
 ],
 "metadata": {
  "kernelspec": {
   "display_name": "Python 3 (ipykernel)",
   "language": "python",
   "name": "python3"
  },
  "language_info": {
   "codemirror_mode": {
    "name": "ipython",
    "version": 3
   },
   "file_extension": ".py",
   "mimetype": "text/x-python",
   "name": "python",
   "nbconvert_exporter": "python",
   "pygments_lexer": "ipython3",
   "version": "3.9.10"
  }
 },
 "nbformat": 4,
 "nbformat_minor": 5
}
