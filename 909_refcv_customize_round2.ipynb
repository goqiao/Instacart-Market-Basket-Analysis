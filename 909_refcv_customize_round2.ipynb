{
 "cells": [
  {
   "cell_type": "code",
   "execution_count": 28,
   "metadata": {},
   "outputs": [],
   "source": [
    "import pandas as pd\n",
    "import numpy as np\n",
    "import xgboost\n",
    "import time\n",
    "from sklearn.model_selection import GroupKFold\n",
    "import matplotlib.pyplot as plt\n",
    "from tqdm import tqdm, trange\n",
    "import gc\n",
    "import pickle"
   ]
  },
  {
   "cell_type": "code",
   "execution_count": 29,
   "metadata": {},
   "outputs": [],
   "source": [
    "start_time = time.time()\n",
    "data_folder = 'data'\n",
    "sample_frac = 0.1"
   ]
  },
  {
   "cell_type": "code",
   "execution_count": 30,
   "metadata": {},
   "outputs": [
    {
     "name": "stdout",
     "output_type": "stream",
     "text": [
      "21\n",
      "62\n"
     ]
    }
   ],
   "source": [
    "correlated_cols = pd.read_pickle('data/high_corr_features.pickle')\n",
    "print(len(correlated_cols))\n",
    "\n",
    "dropped_features_refcv1 = pd.read_pickle('data/refcv_custom_dropped_cols.pickle')\n",
    "print(len(dropped_features_refcv1))"
   ]
  },
  {
   "cell_type": "code",
   "execution_count": 31,
   "metadata": {},
   "outputs": [
    {
     "name": "stdout",
     "output_type": "stream",
     "text": [
      "(847466, 130)\n"
     ]
    }
   ],
   "source": [
    "data_full_features = pd.read_pickle('data/train_full_features.pickle')\n",
    "data_full_features.drop(correlated_cols, axis=1, inplace=True)\n",
    "data_full_features.drop(dropped_features_refcv1, axis=1, inplace=True)\n",
    "\n",
    "# sampling\n",
    "data_full_features = data_full_features.sample(frac=sample_frac, random_state=1).reset_index(drop=True)\n",
    "\n",
    "# split to X, y\n",
    "drop_cols = ['order_id', 'user_id', 'product_id', 'reordered']\n",
    "X = data_full_features.drop(drop_cols, axis=1)\n",
    "y = data_full_features['reordered']\n",
    "\n",
    "m = X.shape[1]\n",
    "print(X.shape)\n",
    "# split on user level\n",
    "cv_split_base = data_full_features['user_id']\n",
    "\n",
    "# release memory\n",
    "gc.collect(); del data_full_features"
   ]
  },
  {
   "cell_type": "code",
   "execution_count": 32,
   "metadata": {},
   "outputs": [],
   "source": [
    "# model\n",
    "xgb_params = {\n",
    "    'n_estimators': 1000\n",
    "    , \"objective\": \"binary:logistic\"\n",
    "    , \"eval_metric\": ['auc', 'logloss']\n",
    "    , \"eta\": 0.1\n",
    "    , \"max_depth\": 6\n",
    "    , \"min_child_weight\": 10\n",
    "    , \"gamma\": 0.70\n",
    "    , \"subsample\": 0.76\n",
    "    , \"colsample_bytree\": 0.8\n",
    "    , \"alpha\": 2e-05\n",
    "    , \"lambda\": 10\n",
    "    , \"tree_method\": 'hist'\n",
    "    , \"early_stopping_rounds\": 30\n",
    "    , \"random_state\": 19\n",
    "    , \"predictor\": 'cpu_predictor'\n",
    "}\n",
    "bst = xgboost.XGBClassifier(**xgb_params)"
   ]
  },
  {
   "cell_type": "code",
   "execution_count": 33,
   "metadata": {},
   "outputs": [],
   "source": [
    "def refcv(X, y, min_features, step, cv_split_base, val_frac=0.2):\n",
    "    cv_res = {'cv_train_logloss': [], 'cv_train_auc': [], 'cv_val_logloss': [], 'cv_val_auc': []}\n",
    "    cv_train_logloss, cv_train_auc, cv_val_logloss, cv_val_auc, num_features_changes, cols_dropped = [], [], [], [], [], []\n",
    "    num_iter = int(np.ceil((X.shape[1] - min_features)/step))\n",
    "    # for i in tqdm(range(num_iter)):\n",
    "    for i in trange(num_iter):\n",
    "        train_logloss, val_logloss, train_auc, val_auc = [], [], [], []\n",
    "        num_features_changes.append(X.shape[1])\n",
    "        for train_idx, test_idx in GroupKFold(n_splits=3).split(X, y, groups=cv_split_base):\n",
    "            # performance in each fold with i features\n",
    "            X_train, X_val = X.loc[train_idx], X.loc[test_idx]\n",
    "            y_train, y_val = y.loc[train_idx], y.loc[test_idx]\n",
    "\n",
    "            bst.fit(X_train, y_train, eval_set=[(X_train, y_train), (X_val, y_val)], verbose=False)\n",
    "            res = bst.evals_result()\n",
    "            train_logloss.append(res[\"validation_0\"][\"logloss\"][-1])\n",
    "            val_logloss.append(res[\"validation_1\"][\"logloss\"][-1])\n",
    "            train_auc.append(res[\"validation_0\"][\"auc\"][-1])\n",
    "            val_auc.append(res[\"validation_1\"][\"auc\"][-1])\n",
    "        \n",
    "        # save mean of cv results\n",
    "        cv_res['cv_train_logloss'].append(np.mean(train_logloss))\n",
    "        cv_res['cv_train_auc'].append(np.mean(train_auc))\n",
    "        cv_res['cv_val_logloss'].append(np.mean(val_logloss))\n",
    "        cv_res['cv_val_auc'].append(np.mean(val_auc))\n",
    "\n",
    "        # refit full data to get feature importance\n",
    "        train_size = int(np.round(X.shape[0] * (1-val_frac)))\n",
    "        val_size = X.shape[0] - train_size\n",
    "        bst.fit(X.iloc[:train_size, ], y.iloc[:train_size, ], \n",
    "                eval_set=[(X.iloc[:train_size, ], y.iloc[:train_size, ]), \n",
    "                          (X.iloc[-val_size:, ], y.iloc[-val_size:, ])], verbose=False)\n",
    "        if X.shape[1] - step < min_features:\n",
    "            final_step = X.shape[1] - min_features\n",
    "            min_idx = np.argsort(bst.feature_importances_)[:final_step]\n",
    "        else:\n",
    "            min_idx = np.argsort(bst.feature_importances_)[:step]\n",
    "        to_drop_cols = list(X.columns[min_idx])\n",
    "        cols_dropped.append(to_drop_cols)\n",
    "        print('Drop feature(s)', to_drop_cols)\n",
    "        X = X.drop(to_drop_cols, axis=1)\n",
    "        print('{} features left'.format(X.shape[1]))\n",
    "    return cv_res, num_features_changes, cols_dropped"
   ]
  },
  {
   "cell_type": "code",
   "execution_count": 34,
   "metadata": {},
   "outputs": [
    {
     "name": "stderr",
     "output_type": "stream",
     "text": [
      "  0%|          | 0/50 [00:00<?, ?it/s]"
     ]
    },
    {
     "name": "stdout",
     "output_type": "stream",
     "text": [
      "Drop feature(s) ['p_max_similarity_score']\n"
     ]
    },
    {
     "name": "stderr",
     "output_type": "stream",
     "text": [
      "  2%|▏         | 1/50 [05:24<4:25:23, 324.97s/it]"
     ]
    },
    {
     "name": "stdout",
     "output_type": "stream",
     "text": [
      "129 features left\n",
      "Drop feature(s) ['p_embedding_15']\n"
     ]
    },
    {
     "name": "stderr",
     "output_type": "stream",
     "text": [
      "  4%|▍         | 2/50 [10:56<4:23:07, 328.91s/it]"
     ]
    },
    {
     "name": "stdout",
     "output_type": "stream",
     "text": [
      "128 features left\n",
      "Drop feature(s) ['p_embedding_1']\n"
     ]
    },
    {
     "name": "stderr",
     "output_type": "stream",
     "text": [
      "  6%|▌         | 3/50 [16:37<4:21:49, 334.25s/it]"
     ]
    },
    {
     "name": "stdout",
     "output_type": "stream",
     "text": [
      "127 features left\n",
      "Drop feature(s) ['p_embedding_29']\n"
     ]
    },
    {
     "name": "stderr",
     "output_type": "stream",
     "text": [
      "  8%|▊         | 4/50 [22:21<4:19:18, 338.24s/it]"
     ]
    },
    {
     "name": "stdout",
     "output_type": "stream",
     "text": [
      "126 features left\n",
      "Drop feature(s) ['user_department_unique']\n"
     ]
    },
    {
     "name": "stderr",
     "output_type": "stream",
     "text": [
      " 10%|█         | 5/50 [28:01<4:14:15, 339.01s/it]"
     ]
    },
    {
     "name": "stdout",
     "output_type": "stream",
     "text": [
      "125 features left\n",
      "Drop feature(s) ['up_norm_purchases_dow_5']\n"
     ]
    },
    {
     "name": "stderr",
     "output_type": "stream",
     "text": [
      " 12%|█▏        | 6/50 [33:18<4:02:54, 331.23s/it]"
     ]
    },
    {
     "name": "stdout",
     "output_type": "stream",
     "text": [
      "124 features left\n",
      "Drop feature(s) ['users_purchases_dow_1']\n"
     ]
    },
    {
     "name": "stderr",
     "output_type": "stream",
     "text": [
      " 14%|█▍        | 7/50 [39:09<4:02:08, 337.88s/it]"
     ]
    },
    {
     "name": "stdout",
     "output_type": "stream",
     "text": [
      "123 features left\n",
      "Drop feature(s) ['p_embedding_4']\n"
     ]
    },
    {
     "name": "stderr",
     "output_type": "stream",
     "text": [
      " 16%|█▌        | 8/50 [44:24<3:51:22, 330.53s/it]"
     ]
    },
    {
     "name": "stdout",
     "output_type": "stream",
     "text": [
      "122 features left\n",
      "Drop feature(s) ['p_embedding_26']\n"
     ]
    },
    {
     "name": "stderr",
     "output_type": "stream",
     "text": [
      " 18%|█▊        | 9/50 [50:00<3:46:56, 332.12s/it]"
     ]
    },
    {
     "name": "stdout",
     "output_type": "stream",
     "text": [
      "121 features left\n",
      "Drop feature(s) ['user_std_order_dow']\n"
     ]
    },
    {
     "name": "stderr",
     "output_type": "stream",
     "text": [
      " 20%|██        | 10/50 [55:05<3:35:52, 323.80s/it]"
     ]
    },
    {
     "name": "stdout",
     "output_type": "stream",
     "text": [
      "120 features left\n",
      "Drop feature(s) ['p_embedding_11']\n"
     ]
    },
    {
     "name": "stderr",
     "output_type": "stream",
     "text": [
      " 22%|██▏       | 11/50 [1:00:33<3:31:22, 325.19s/it]"
     ]
    },
    {
     "name": "stdout",
     "output_type": "stream",
     "text": [
      "119 features left\n",
      "Drop feature(s) ['user_std_order_hour']\n"
     ]
    },
    {
     "name": "stderr",
     "output_type": "stream",
     "text": [
      " 24%|██▍       | 12/50 [1:06:04<3:26:58, 326.80s/it]"
     ]
    },
    {
     "name": "stdout",
     "output_type": "stream",
     "text": [
      "118 features left\n",
      "Drop feature(s) ['users_purchases_pod_noon']\n"
     ]
    },
    {
     "name": "stderr",
     "output_type": "stream",
     "text": [
      " 26%|██▌       | 13/50 [1:11:37<3:22:49, 328.90s/it]"
     ]
    },
    {
     "name": "stdout",
     "output_type": "stream",
     "text": [
      "117 features left\n",
      "Drop feature(s) ['user_mean_order_dow']\n"
     ]
    },
    {
     "name": "stderr",
     "output_type": "stream",
     "text": [
      " 28%|██▊       | 14/50 [1:16:59<3:16:02, 326.74s/it]"
     ]
    },
    {
     "name": "stdout",
     "output_type": "stream",
     "text": [
      "116 features left\n",
      "Drop feature(s) ['users_gluten_free_ratio']\n"
     ]
    },
    {
     "name": "stderr",
     "output_type": "stream",
     "text": [
      " 30%|███       | 15/50 [1:22:31<3:11:25, 328.16s/it]"
     ]
    },
    {
     "name": "stdout",
     "output_type": "stream",
     "text": [
      "115 features left\n",
      "Drop feature(s) ['p_embedding_37']\n"
     ]
    },
    {
     "name": "stderr",
     "output_type": "stream",
     "text": [
      " 32%|███▏      | 16/50 [1:27:41<3:02:56, 322.84s/it]"
     ]
    },
    {
     "name": "stdout",
     "output_type": "stream",
     "text": [
      "114 features left\n",
      "Drop feature(s) ['p_embedding_19']\n"
     ]
    },
    {
     "name": "stderr",
     "output_type": "stream",
     "text": [
      " 34%|███▍      | 17/50 [1:33:24<3:00:57, 329.03s/it]"
     ]
    },
    {
     "name": "stdout",
     "output_type": "stream",
     "text": [
      "113 features left\n",
      "Drop feature(s) ['users_purchases_dow_3']\n"
     ]
    },
    {
     "name": "stderr",
     "output_type": "stream",
     "text": [
      " 36%|███▌      | 18/50 [1:38:21<2:50:18, 319.32s/it]"
     ]
    },
    {
     "name": "stdout",
     "output_type": "stream",
     "text": [
      "112 features left\n",
      "Drop feature(s) ['p_embedding_33']\n"
     ]
    },
    {
     "name": "stderr",
     "output_type": "stream",
     "text": [
      " 38%|███▊      | 19/50 [1:43:30<2:43:25, 316.29s/it]"
     ]
    },
    {
     "name": "stdout",
     "output_type": "stream",
     "text": [
      "111 features left\n",
      "Drop feature(s) ['user_mean_order_hour']\n"
     ]
    },
    {
     "name": "stderr",
     "output_type": "stream",
     "text": [
      " 40%|████      | 20/50 [1:48:35<2:36:21, 312.71s/it]"
     ]
    },
    {
     "name": "stdout",
     "output_type": "stream",
     "text": [
      "110 features left\n",
      "Drop feature(s) ['users_purchases_dow_6']\n"
     ]
    },
    {
     "name": "stderr",
     "output_type": "stream",
     "text": [
      " 42%|████▏     | 21/50 [1:53:46<2:30:55, 312.26s/it]"
     ]
    },
    {
     "name": "stdout",
     "output_type": "stream",
     "text": [
      "109 features left\n",
      "Drop feature(s) ['user_basket_size_skew']\n"
     ]
    },
    {
     "name": "stderr",
     "output_type": "stream",
     "text": [
      " 44%|████▍     | 22/50 [1:59:07<2:26:55, 314.84s/it]"
     ]
    },
    {
     "name": "stdout",
     "output_type": "stream",
     "text": [
      "108 features left\n",
      "Drop feature(s) ['p_embedding_16']\n"
     ]
    },
    {
     "name": "stderr",
     "output_type": "stream",
     "text": [
      " 46%|████▌     | 23/50 [2:04:19<2:21:18, 314.02s/it]"
     ]
    },
    {
     "name": "stdout",
     "output_type": "stream",
     "text": [
      "107 features left\n",
      "Drop feature(s) ['p_embedding_28']\n"
     ]
    },
    {
     "name": "stderr",
     "output_type": "stream",
     "text": [
      " 48%|████▊     | 24/50 [2:09:16<2:13:54, 309.02s/it]"
     ]
    },
    {
     "name": "stdout",
     "output_type": "stream",
     "text": [
      "106 features left\n",
      "Drop feature(s) ['up_cart_order_std']\n"
     ]
    },
    {
     "name": "stderr",
     "output_type": "stream",
     "text": [
      " 50%|█████     | 25/50 [2:14:24<2:08:38, 308.75s/it]"
     ]
    },
    {
     "name": "stdout",
     "output_type": "stream",
     "text": [
      "105 features left\n",
      "Drop feature(s) ['p_embedding_18']\n"
     ]
    },
    {
     "name": "stderr",
     "output_type": "stream",
     "text": [
      " 52%|█████▏    | 26/50 [2:19:20<2:01:57, 304.91s/it]"
     ]
    },
    {
     "name": "stdout",
     "output_type": "stream",
     "text": [
      "104 features left\n",
      "Drop feature(s) ['p_embedding_5']\n"
     ]
    },
    {
     "name": "stderr",
     "output_type": "stream",
     "text": [
      " 54%|█████▍    | 27/50 [2:24:06<1:54:41, 299.20s/it]"
     ]
    },
    {
     "name": "stdout",
     "output_type": "stream",
     "text": [
      "103 features left\n",
      "Drop feature(s) ['p_embedding_35']\n"
     ]
    },
    {
     "name": "stderr",
     "output_type": "stream",
     "text": [
      " 56%|█████▌    | 28/50 [2:28:57<1:48:44, 296.57s/it]"
     ]
    },
    {
     "name": "stdout",
     "output_type": "stream",
     "text": [
      "102 features left\n",
      "Drop feature(s) ['p_embedding_39']\n"
     ]
    },
    {
     "name": "stderr",
     "output_type": "stream",
     "text": [
      " 58%|█████▊    | 29/50 [2:34:16<1:46:09, 303.30s/it]"
     ]
    },
    {
     "name": "stdout",
     "output_type": "stream",
     "text": [
      "101 features left\n",
      "Drop feature(s) ['p_embedding_2']\n"
     ]
    },
    {
     "name": "stderr",
     "output_type": "stream",
     "text": [
      " 60%|██████    | 30/50 [2:39:11<1:40:19, 300.96s/it]"
     ]
    },
    {
     "name": "stdout",
     "output_type": "stream",
     "text": [
      "100 features left\n",
      "Drop feature(s) ['p_embedding_36']\n"
     ]
    },
    {
     "name": "stderr",
     "output_type": "stream",
     "text": [
      " 62%|██████▏   | 31/50 [2:44:20<1:36:06, 303.48s/it]"
     ]
    },
    {
     "name": "stdout",
     "output_type": "stream",
     "text": [
      "99 features left\n",
      "Drop feature(s) ['p_embedding_27']\n"
     ]
    },
    {
     "name": "stderr",
     "output_type": "stream",
     "text": [
      " 64%|██████▍   | 32/50 [2:49:17<1:30:27, 301.53s/it]"
     ]
    },
    {
     "name": "stdout",
     "output_type": "stream",
     "text": [
      "98 features left\n",
      "Drop feature(s) ['uo_unique_aisle_std']\n"
     ]
    },
    {
     "name": "stderr",
     "output_type": "stream",
     "text": [
      " 66%|██████▌   | 33/50 [2:54:02<1:23:58, 296.36s/it]"
     ]
    },
    {
     "name": "stdout",
     "output_type": "stream",
     "text": [
      "97 features left\n",
      "Drop feature(s) ['p_avg_first_order_num']\n"
     ]
    },
    {
     "name": "stderr",
     "output_type": "stream",
     "text": [
      " 68%|██████▊   | 34/50 [2:58:51<1:18:29, 294.35s/it]"
     ]
    },
    {
     "name": "stdout",
     "output_type": "stream",
     "text": [
      "96 features left\n",
      "Drop feature(s) ['p_embedding_31']\n"
     ]
    },
    {
     "name": "stderr",
     "output_type": "stream",
     "text": [
      " 70%|███████   | 35/50 [3:04:07<1:15:09, 300.65s/it]"
     ]
    },
    {
     "name": "stdout",
     "output_type": "stream",
     "text": [
      "95 features left\n",
      "Drop feature(s) ['up_department_purchase_trend_d1']\n"
     ]
    },
    {
     "name": "stderr",
     "output_type": "stream",
     "text": [
      " 72%|███████▏  | 36/50 [3:09:12<1:10:27, 301.94s/it]"
     ]
    },
    {
     "name": "stdout",
     "output_type": "stream",
     "text": [
      "94 features left\n",
      "Drop feature(s) ['p_num_purchases_per_user_max']\n"
     ]
    },
    {
     "name": "stderr",
     "output_type": "stream",
     "text": [
      " 74%|███████▍  | 37/50 [3:14:00<1:04:32, 297.89s/it]"
     ]
    },
    {
     "name": "stdout",
     "output_type": "stream",
     "text": [
      "93 features left\n",
      "Drop feature(s) ['p_embedding_3']\n"
     ]
    },
    {
     "name": "stderr",
     "output_type": "stream",
     "text": [
      " 76%|███████▌  | 38/50 [3:18:51<59:09, 295.78s/it]  "
     ]
    },
    {
     "name": "stdout",
     "output_type": "stream",
     "text": [
      "92 features left\n",
      "Drop feature(s) ['p_embedding_14']\n"
     ]
    },
    {
     "name": "stderr",
     "output_type": "stream",
     "text": [
      " 78%|███████▊  | 39/50 [3:23:46<54:09, 295.41s/it]"
     ]
    },
    {
     "name": "stdout",
     "output_type": "stream",
     "text": [
      "91 features left\n",
      "Drop feature(s) ['p_num_products_sim_score_0.5_0.6']\n"
     ]
    },
    {
     "name": "stderr",
     "output_type": "stream",
     "text": [
      " 80%|████████  | 40/50 [3:28:36<48:58, 293.84s/it]"
     ]
    },
    {
     "name": "stdout",
     "output_type": "stream",
     "text": [
      "90 features left\n",
      "Drop feature(s) ['p_embedding_8']\n"
     ]
    },
    {
     "name": "stderr",
     "output_type": "stream",
     "text": [
      " 82%|████████▏ | 41/50 [3:33:31<44:07, 294.20s/it]"
     ]
    },
    {
     "name": "stdout",
     "output_type": "stream",
     "text": [
      "89 features left\n",
      "Drop feature(s) ['user_basket_size_trend_d1']\n"
     ]
    },
    {
     "name": "stderr",
     "output_type": "stream",
     "text": [
      " 84%|████████▍ | 42/50 [3:38:22<39:05, 293.20s/it]"
     ]
    },
    {
     "name": "stdout",
     "output_type": "stream",
     "text": [
      "88 features left\n",
      "Drop feature(s) ['up_purchases_dow_0']\n"
     ]
    },
    {
     "name": "stderr",
     "output_type": "stream",
     "text": [
      " 86%|████████▌ | 43/50 [3:43:00<33:41, 288.81s/it]"
     ]
    },
    {
     "name": "stdout",
     "output_type": "stream",
     "text": [
      "87 features left\n",
      "Drop feature(s) ['up_aisle_purchase_trend_d1']\n"
     ]
    },
    {
     "name": "stderr",
     "output_type": "stream",
     "text": [
      " 88%|████████▊ | 44/50 [3:48:06<29:23, 293.85s/it]"
     ]
    },
    {
     "name": "stdout",
     "output_type": "stream",
     "text": [
      "86 features left\n",
      "Drop feature(s) ['users_purchases_pod_morning']\n"
     ]
    },
    {
     "name": "stderr",
     "output_type": "stream",
     "text": [
      " 90%|█████████ | 45/50 [3:52:37<23:55, 287.18s/it]"
     ]
    },
    {
     "name": "stdout",
     "output_type": "stream",
     "text": [
      "85 features left\n",
      "Drop feature(s) ['p_embedding_17']\n"
     ]
    },
    {
     "name": "stderr",
     "output_type": "stream",
     "text": [
      " 92%|█████████▏| 46/50 [3:57:11<18:52, 283.23s/it]"
     ]
    },
    {
     "name": "stdout",
     "output_type": "stream",
     "text": [
      "84 features left\n",
      "Drop feature(s) ['up_word2vec_07_substitute_purchases']\n",
      "83 features left\n"
     ]
    },
    {
     "name": "stderr",
     "output_type": "stream",
     "text": [
      " 94%|█████████▍| 47/50 [4:01:57<14:12, 284.07s/it]"
     ]
    },
    {
     "name": "stdout",
     "output_type": "stream",
     "text": [
      "Drop feature(s) ['p_embedding_6']\n",
      "82 features left\n"
     ]
    },
    {
     "name": "stderr",
     "output_type": "stream",
     "text": [
      " 96%|█████████▌| 48/50 [4:06:49<09:32, 286.32s/it]"
     ]
    },
    {
     "name": "stdout",
     "output_type": "stream",
     "text": [
      "Drop feature(s) ['p_embedding_13']\n"
     ]
    },
    {
     "name": "stderr",
     "output_type": "stream",
     "text": [
      " 98%|█████████▊| 49/50 [4:11:27<04:43, 283.90s/it]"
     ]
    },
    {
     "name": "stdout",
     "output_type": "stream",
     "text": [
      "81 features left\n",
      "Drop feature(s) ['p_std_first_reorder_diff']\n"
     ]
    },
    {
     "name": "stderr",
     "output_type": "stream",
     "text": [
      "100%|██████████| 50/50 [4:16:26<00:00, 307.72s/it]"
     ]
    },
    {
     "name": "stdout",
     "output_type": "stream",
     "text": [
      "80 features left\n"
     ]
    },
    {
     "name": "stderr",
     "output_type": "stream",
     "text": [
      "\n"
     ]
    }
   ],
   "source": [
    "min_features = 80\n",
    "step = 1\n",
    "cv_res, num_features_change, cols_dropped  = refcv(X, y, min_features=min_features, step=step, cv_split_base=cv_split_base)"
   ]
  },
  {
   "cell_type": "code",
   "execution_count": 35,
   "metadata": {},
   "outputs": [
    {
     "data": {
      "text/plain": [
       "[['p_max_similarity_score'],\n",
       " ['p_embedding_15'],\n",
       " ['p_embedding_1'],\n",
       " ['p_embedding_29'],\n",
       " ['user_department_unique'],\n",
       " ['up_norm_purchases_dow_5'],\n",
       " ['users_purchases_dow_1'],\n",
       " ['p_embedding_4'],\n",
       " ['p_embedding_26'],\n",
       " ['user_std_order_dow'],\n",
       " ['p_embedding_11'],\n",
       " ['user_std_order_hour'],\n",
       " ['users_purchases_pod_noon'],\n",
       " ['user_mean_order_dow'],\n",
       " ['users_gluten_free_ratio'],\n",
       " ['p_embedding_37'],\n",
       " ['p_embedding_19'],\n",
       " ['users_purchases_dow_3'],\n",
       " ['p_embedding_33'],\n",
       " ['user_mean_order_hour'],\n",
       " ['users_purchases_dow_6'],\n",
       " ['user_basket_size_skew'],\n",
       " ['p_embedding_16'],\n",
       " ['p_embedding_28'],\n",
       " ['up_cart_order_std'],\n",
       " ['p_embedding_18'],\n",
       " ['p_embedding_5'],\n",
       " ['p_embedding_35'],\n",
       " ['p_embedding_39'],\n",
       " ['p_embedding_2'],\n",
       " ['p_embedding_36'],\n",
       " ['p_embedding_27'],\n",
       " ['uo_unique_aisle_std'],\n",
       " ['p_avg_first_order_num'],\n",
       " ['p_embedding_31'],\n",
       " ['up_department_purchase_trend_d1'],\n",
       " ['p_num_purchases_per_user_max'],\n",
       " ['p_embedding_3'],\n",
       " ['p_embedding_14'],\n",
       " ['p_num_products_sim_score_0.5_0.6'],\n",
       " ['p_embedding_8'],\n",
       " ['user_basket_size_trend_d1'],\n",
       " ['up_purchases_dow_0'],\n",
       " ['up_aisle_purchase_trend_d1'],\n",
       " ['users_purchases_pod_morning'],\n",
       " ['p_embedding_17'],\n",
       " ['up_word2vec_07_substitute_purchases'],\n",
       " ['p_embedding_6'],\n",
       " ['p_embedding_13'],\n",
       " ['p_std_first_reorder_diff']]"
      ]
     },
     "execution_count": 35,
     "metadata": {},
     "output_type": "execute_result"
    }
   ],
   "source": [
    "cols_dropped"
   ]
  },
  {
   "cell_type": "code",
   "execution_count": 36,
   "metadata": {},
   "outputs": [
    {
     "data": {
      "text/plain": [
       "['p_max_similarity_score',\n",
       " 'p_embedding_15',\n",
       " 'p_embedding_1',\n",
       " 'p_embedding_29',\n",
       " 'user_department_unique',\n",
       " 'up_norm_purchases_dow_5',\n",
       " 'users_purchases_dow_1',\n",
       " 'p_embedding_4',\n",
       " 'p_embedding_26',\n",
       " 'user_std_order_dow',\n",
       " 'p_embedding_11',\n",
       " 'user_std_order_hour',\n",
       " 'users_purchases_pod_noon',\n",
       " 'user_mean_order_dow',\n",
       " 'users_gluten_free_ratio',\n",
       " 'p_embedding_37',\n",
       " 'p_embedding_19',\n",
       " 'users_purchases_dow_3',\n",
       " 'p_embedding_33',\n",
       " 'user_mean_order_hour',\n",
       " 'users_purchases_dow_6',\n",
       " 'user_basket_size_skew',\n",
       " 'p_embedding_16',\n",
       " 'p_embedding_28',\n",
       " 'up_cart_order_std',\n",
       " 'p_embedding_18',\n",
       " 'p_embedding_5',\n",
       " 'p_embedding_35',\n",
       " 'p_embedding_39',\n",
       " 'p_embedding_2',\n",
       " 'p_embedding_36',\n",
       " 'p_embedding_27',\n",
       " 'uo_unique_aisle_std',\n",
       " 'p_avg_first_order_num',\n",
       " 'p_embedding_31',\n",
       " 'up_department_purchase_trend_d1',\n",
       " 'p_num_purchases_per_user_max',\n",
       " 'p_embedding_3',\n",
       " 'p_embedding_14',\n",
       " 'p_num_products_sim_score_0.5_0.6',\n",
       " 'p_embedding_8',\n",
       " 'user_basket_size_trend_d1',\n",
       " 'up_purchases_dow_0',\n",
       " 'up_aisle_purchase_trend_d1',\n",
       " 'users_purchases_pod_morning',\n",
       " 'p_embedding_17',\n",
       " 'up_word2vec_07_substitute_purchases',\n",
       " 'p_embedding_6',\n",
       " 'p_embedding_13',\n",
       " 'p_std_first_reorder_diff']"
      ]
     },
     "execution_count": 36,
     "metadata": {},
     "output_type": "execute_result"
    }
   ],
   "source": [
    "cols_dropped_flat = [item for sublist in cols_dropped for item in sublist]\n",
    "cols_dropped_flat"
   ]
  },
  {
   "cell_type": "code",
   "execution_count": 37,
   "metadata": {},
   "outputs": [],
   "source": [
    "# fig, axes = plt.subplots(2, 1)\n",
    "# axes[0].plot(num_features_change, cv_res['cv_train_logloss'], label='train_logloss')\n",
    "# axes[0].plot(num_features_change, cv_res['cv_val_logloss'], label='val_logloss')\n",
    "# axes[0].legend()\n",
    "\n",
    "# axes[1].plot(num_features_change, cv_res['cv_train_auc'], label='train_auc')\n",
    "# axes[1].plot(num_features_change, cv_res['cv_val_auc'], label='val_auc')\n",
    "# axes[1].legend()\n"
   ]
  },
  {
   "cell_type": "code",
   "execution_count": 38,
   "metadata": {},
   "outputs": [
    {
     "data": {
      "text/plain": [
       "[<matplotlib.lines.Line2D at 0x177f672e0>]"
      ]
     },
     "execution_count": 38,
     "metadata": {},
     "output_type": "execute_result"
    },
    {
     "data": {
      "image/png": "[encoded data removed]",
      "text/plain": [
       "<Figure size 640x480 with 1 Axes>"
      ]
     },
     "metadata": {},
     "output_type": "display_data"
    }
   ],
   "source": [
    "plt.plot(num_features_change, cv_res['cv_val_logloss'], label='val_logloss')"
   ]
  },
  {
   "cell_type": "code",
   "execution_count": 63,
   "metadata": {},
   "outputs": [
    {
     "name": "stdout",
     "output_type": "stream",
     "text": [
      "Best Number of Features:  95\n",
      "Min Logloss 0.2443815493541535\n"
     ]
    }
   ],
   "source": [
    "best_n_logloss = num_features_change[np.argmin(cv_res['cv_val_logloss'])]\n",
    "print('Best Number of Features: ', best_n_logloss)\n",
    "print('Min Logloss', np.min(cv_res['cv_val_logloss']))"
   ]
  },
  {
   "cell_type": "code",
   "execution_count": 40,
   "metadata": {},
   "outputs": [
    {
     "data": {
      "text/plain": [
       "[<matplotlib.lines.Line2D at 0x177fbba00>]"
      ]
     },
     "execution_count": 40,
     "metadata": {},
     "output_type": "execute_result"
    },
    {
     "data": {
      "image/png": "[encoded data removed]",
      "text/plain": [
       "<Figure size 640x480 with 1 Axes>"
      ]
     },
     "metadata": {},
     "output_type": "display_data"
    }
   ],
   "source": [
    "plt.plot(num_features_change, cv_res['cv_val_auc'], label='val_auc')"
   ]
  },
  {
   "cell_type": "code",
   "execution_count": 64,
   "metadata": {},
   "outputs": [
    {
     "name": "stdout",
     "output_type": "stream",
     "text": [
      "Best Number of Features:  95\n",
      "Max Logloss 0.8350034762645006\n"
     ]
    }
   ],
   "source": [
    "best_n_auc = num_features_change[np.argmax(cv_res['cv_val_auc'])]\n",
    "print('Best Number of Features: ', best_n_auc)\n",
    "print('Max Logloss', np.min(cv_res['cv_val_auc']))"
   ]
  },
  {
   "cell_type": "code",
   "execution_count": 70,
   "metadata": {},
   "outputs": [
    {
     "data": {
      "text/plain": [
       "35"
      ]
     },
     "execution_count": 70,
     "metadata": {},
     "output_type": "execute_result"
    }
   ],
   "source": [
    "best_cols_to_drop = cols_dropped_flat[:m-best_n_auc]\n",
    "len(best_cols_to_drop)"
   ]
  },
  {
   "cell_type": "code",
   "execution_count": 42,
   "metadata": {},
   "outputs": [],
   "source": [
    "with open('data/refcv_custom_dropped_cols_r2.pickle', 'wb+') as f:\n",
    "    pickle.dump(best_cols_to_drop, f)"
   ]
  },
  {
   "cell_type": "code",
   "execution_count": 43,
   "metadata": {},
   "outputs": [
    {
     "data": {
      "text/plain": [
       "(50, 5)"
      ]
     },
     "execution_count": 43,
     "metadata": {},
     "output_type": "execute_result"
    }
   ],
   "source": [
    "cv_res_df = pd.DataFrame(cv_res)\n",
    "cv_res_df['num_features'] = num_features_change\n",
    "cv_res_df.shape"
   ]
  },
  {
   "cell_type": "code",
   "execution_count": 44,
   "metadata": {},
   "outputs": [],
   "source": [
    "cv_res_df.to_pickle('data/cv_res_df_from_130_to_80.pickle')"
   ]
  },
  {
   "cell_type": "code",
   "execution_count": 45,
   "metadata": {},
   "outputs": [
    {
     "name": "stdout",
     "output_type": "stream",
     "text": [
      "spent 257.83 mins\n"
     ]
    }
   ],
   "source": [
    "end_time = time.time()\n",
    "time_spent = (end_time - start_time) / 60\n",
    "print('spent {:.2f} mins'.format(time_spent))"
   ]
  },
  {
   "cell_type": "code",
   "execution_count": 52,
   "metadata": {},
   "outputs": [
    {
     "data": {
      "text/html": [
       "<div>\n",
       "<style scoped>\n",
       "    .dataframe tbody tr th:only-of-type {\n",
       "        vertical-align: middle;\n",
       "    }\n",
       "\n",
       "    .dataframe tbody tr th {\n",
       "        vertical-align: top;\n",
       "    }\n",
       "\n",
       "    .dataframe thead th {\n",
       "        text-align: right;\n",
       "    }\n",
       "</style>\n",
       "<table border=\"1\" class=\"dataframe\">\n",
       "  <thead>\n",
       "    <tr style=\"text-align: right;\">\n",
       "      <th></th>\n",
       "      <th>cv_train_logloss</th>\n",
       "      <th>cv_train_auc</th>\n",
       "      <th>cv_val_logloss</th>\n",
       "      <th>cv_val_auc</th>\n",
       "      <th>num_features</th>\n",
       "    </tr>\n",
       "  </thead>\n",
       "  <tbody>\n",
       "    <tr>\n",
       "      <th>0</th>\n",
       "      <td>0.231773</td>\n",
       "      <td>0.858291</td>\n",
       "      <td>0.244692</td>\n",
       "      <td>0.834897</td>\n",
       "      <td>192</td>\n",
       "    </tr>\n",
       "    <tr>\n",
       "      <th>1</th>\n",
       "      <td>0.231171</td>\n",
       "      <td>0.859312</td>\n",
       "      <td>0.244731</td>\n",
       "      <td>0.834974</td>\n",
       "      <td>191</td>\n",
       "    </tr>\n",
       "    <tr>\n",
       "      <th>2</th>\n",
       "      <td>0.232139</td>\n",
       "      <td>0.857675</td>\n",
       "      <td>0.244706</td>\n",
       "      <td>0.834899</td>\n",
       "      <td>190</td>\n",
       "    </tr>\n",
       "    <tr>\n",
       "      <th>3</th>\n",
       "      <td>0.232172</td>\n",
       "      <td>0.857577</td>\n",
       "      <td>0.244676</td>\n",
       "      <td>0.834939</td>\n",
       "      <td>189</td>\n",
       "    </tr>\n",
       "    <tr>\n",
       "      <th>4</th>\n",
       "      <td>0.232402</td>\n",
       "      <td>0.857207</td>\n",
       "      <td>0.244736</td>\n",
       "      <td>0.834852</td>\n",
       "      <td>188</td>\n",
       "    </tr>\n",
       "  </tbody>\n",
       "</table>\n",
       "</div>"
      ],
      "text/plain": [
       "   cv_train_logloss  cv_train_auc  cv_val_logloss  cv_val_auc  num_features\n",
       "0          0.231773      0.858291        0.244692    0.834897           192\n",
       "1          0.231171      0.859312        0.244731    0.834974           191\n",
       "2          0.232139      0.857675        0.244706    0.834899           190\n",
       "3          0.232172      0.857577        0.244676    0.834939           189\n",
       "4          0.232402      0.857207        0.244736    0.834852           188"
      ]
     },
     "execution_count": 52,
     "metadata": {},
     "output_type": "execute_result"
    }
   ],
   "source": [
    "cv_res_df1 = pd.read_pickle('data/cv_res_df_from_192_to_130.pickle')\n",
    "cv_res_df1.head()"
   ]
  },
  {
   "cell_type": "code",
   "execution_count": 53,
   "metadata": {},
   "outputs": [
    {
     "data": {
      "text/plain": [
       "(112, 5)"
      ]
     },
     "execution_count": 53,
     "metadata": {},
     "output_type": "execute_result"
    }
   ],
   "source": [
    "cv_res_df_total = pd.concat([cv_res_df1, cv_res_df], ignore_index=True)\n",
    "cv_res_df_total.shape"
   ]
  },
  {
   "cell_type": "code",
   "execution_count": 56,
   "metadata": {},
   "outputs": [
    {
     "data": {
      "text/html": [
       "<div>\n",
       "<style scoped>\n",
       "    .dataframe tbody tr th:only-of-type {\n",
       "        vertical-align: middle;\n",
       "    }\n",
       "\n",
       "    .dataframe tbody tr th {\n",
       "        vertical-align: top;\n",
       "    }\n",
       "\n",
       "    .dataframe thead th {\n",
       "        text-align: right;\n",
       "    }\n",
       "</style>\n",
       "<table border=\"1\" class=\"dataframe\">\n",
       "  <thead>\n",
       "    <tr style=\"text-align: right;\">\n",
       "      <th></th>\n",
       "      <th>cv_train_logloss</th>\n",
       "      <th>cv_train_auc</th>\n",
       "      <th>cv_val_logloss</th>\n",
       "      <th>cv_val_auc</th>\n",
       "      <th>num_features</th>\n",
       "    </tr>\n",
       "  </thead>\n",
       "  <tbody>\n",
       "    <tr>\n",
       "      <th>62</th>\n",
       "      <td>0.232076</td>\n",
       "      <td>0.857719</td>\n",
       "      <td>0.24465</td>\n",
       "      <td>0.835003</td>\n",
       "      <td>130</td>\n",
       "    </tr>\n",
       "  </tbody>\n",
       "</table>\n",
       "</div>"
      ],
      "text/plain": [
       "    cv_train_logloss  cv_train_auc  cv_val_logloss  cv_val_auc  num_features\n",
       "62          0.232076      0.857719         0.24465    0.835003           130"
      ]
     },
     "execution_count": 56,
     "metadata": {},
     "output_type": "execute_result"
    }
   ],
   "source": [
    "cv_res_df_total.loc[cv_res_df_total.num_features==130]"
   ]
  },
  {
   "cell_type": "code",
   "execution_count": 60,
   "metadata": {},
   "outputs": [
    {
     "data": {
      "text/plain": [
       "Text(0.5, 1.0, 'Logloss')"
      ]
     },
     "execution_count": 60,
     "metadata": {},
     "output_type": "execute_result"
    },
    {
     "data": {
      "image/png": "[encoded data removed]",
      "text/plain": [
       "<Figure size 640x480 with 1 Axes>"
      ]
     },
     "metadata": {},
     "output_type": "display_data"
    }
   ],
   "source": [
    "plt.plot(cv_res_df_total['num_features'], cv_res_df_total['cv_val_logloss'])\n",
    "plt.title('Logloss')"
   ]
  },
  {
   "cell_type": "code",
   "execution_count": null,
   "metadata": {},
   "outputs": [],
   "source": []
  }
 ],
 "metadata": {
  "kernelspec": {
   "display_name": "Python 3.9.10 ('Learning')",
   "language": "python",
   "name": "python3"
  },
  "language_info": {
   "codemirror_mode": {
    "name": "ipython",
    "version": 3
   },
   "file_extension": ".py",
   "mimetype": "text/x-python",
   "name": "python",
   "nbconvert_exporter": "python",
   "pygments_lexer": "ipython3",
   "version": "3.9.10"
  },
  "orig_nbformat": 4,
  "vscode": {
   "interpreter": {
    "hash": "6d8aa7ab31df986170244e19af122ba6bc8bb42c7f8d376c3426a49450374b29"
   }
  }
 },
 "nbformat": 4,
 "nbformat_minor": 2
}
